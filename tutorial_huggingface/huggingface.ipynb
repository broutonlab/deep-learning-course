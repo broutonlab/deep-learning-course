{
  "nbformat": 4,
  "nbformat_minor": 0,
  "metadata": {
    "colab": {
      "provenance": [],
      "collapsed_sections": [
        "1TlvpnWbccll",
        "3iuRHxwqkw0J"
      ]
    },
    "kernelspec": {
      "name": "python3",
      "display_name": "Python 3"
    },
    "language_info": {
      "name": "python"
    },
    "accelerator": "GPU"
  },
  "cells": [
    {
      "cell_type": "code",
      "execution_count": null,
      "metadata": {
        "id": "zxHJbcQyxr0T"
      },
      "outputs": [],
      "source": [
        "# these are different parts of huggingface\n",
        "!pip install transformers\n",
        "!pip install datasets\n",
        "!pip install seqeval\n",
        "\n",
        "import pandas as pd"
      ]
    },
    {
      "cell_type": "markdown",
      "source": [
        "# Intoduction to NLP\n",
        "\n",
        "We've been working with images so far. It's time we try something new.\n",
        "\n",
        "NLP (Natural Language Processing) is a subfield of AI concerned with text processing and analysis. Typical NLP tasks are:\n",
        "*   Text generation\n",
        "*   Text classification\n",
        "*   Token classification (i.e. check if a certain word belongs to a certain group (nouns, movie names, technical jargon, etc.))\n",
        "*   Summarization\n",
        "*   Keyword retrieval\n",
        "*   and many others..."
      ],
      "metadata": {
        "id": "1TlvpnWbccll"
      }
    },
    {
      "cell_type": "markdown",
      "source": [
        "# Named entity recognition\n",
        "\n",
        "**NER** (Named Entity Recognition) is a subtask of **Token classification**. It's purpose it to recognize named entities of certain type (names, locations, python packages etc.) in a text.\n",
        "\n",
        "### Consider this example:\n",
        "Say we want to extract all locations from a text. This is our test phrase:\n",
        "```\n",
        "London is the capital of Great Britain.\n",
        "```\n",
        "First, we split it into list of **tokens** (usually individual words). In other words, we **tokenize** it:\n",
        "```\n",
        "[\"london\", \"is\", \"the\", \"capital\", \"of\", \"great\", \"britain\", \".\"]\n",
        "```\n",
        "Then we apply our **NER-model** (you'll be training one in this notebook!). Result will look something like this (each token corresponds to a number):\n",
        "```\n",
        "[1, 0, 0, 0, 0, 1, 2, 0]\n",
        "```\n",
        "where i-th number is the index of a **label** of the i-th token.\n",
        "Labels and their IDs are pre-defined by you (the one creating the model/dataset) and in this example look like this:\n",
        "```\n",
        "{\n",
        "  \"O\": 0,\n",
        "  \"B-LOCATION\": 1,\n",
        "  \"I-LOCATION\": 2\n",
        "}\n",
        "```\n",
        "\n",
        "This is the widely-used IOB2 format. (https://en.wikipedia.org/wiki/Inside%E2%80%93outside%E2%80%93beginning_(tagging))  \n",
        "**\"O\"** denotes something that has no label of our interest.  \n",
        "Tokens starting with **\"B-\"** indicate the **b**egging of an entity.  \n",
        "Tokens starting with **\"I-\"** indicate that the token is **i**nside an entity.\n",
        "\n",
        "If you are confused, this is the result of applying the NER model in a more human-readable form:\n",
        "```\n",
        "[\n",
        "  (\"london\",  \"B-LOCATION\"),\n",
        "  (\"is\",      \"O\"),\n",
        "  (\"the\",     \"O\"),\n",
        "  (\"capital\", \"O\"),\n",
        "  (\"of\",      \"O\"),\n",
        "  (\"great\",   \"B-LOCATION\"),\n",
        "  (\"britain\", \"I-LOCATION\"),\n",
        "  (\".\",       \"O\")\n",
        "]\n",
        "```\n",
        "\n",
        "\n",
        "\n",
        "\n"
      ],
      "metadata": {
        "id": "QN8G6xXueiQI"
      }
    },
    {
      "cell_type": "markdown",
      "source": [
        "![image.png](data:image/png;base64,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)"
      ],
      "metadata": {
        "id": "PelIEP1m9VFf"
      }
    },
    {
      "cell_type": "markdown",
      "source": [
        "# What is Hugging Face?\n",
        "\n",
        "https://huggingface.co/  \n",
        "Hugging Face is a platform that provides a variety of datasets and pretrained models to be used out-of-the-box with little effort.  \n",
        "They also have an entire course dedicated to their platform and NLP in general: https://huggingface.co/course/chapter1/1."
      ],
      "metadata": {
        "id": "3iuRHxwqkw0J"
      }
    },
    {
      "cell_type": "markdown",
      "source": [
        "# Dataset: movie-related named entities\n",
        "\n",
        "https://huggingface.co/datasets/tner/mit_movie_trivia\n",
        "\n",
        "Today we'll be extracting information from questions about movies (actors, genres, plot descriptions, etc.)"
      ],
      "metadata": {
        "id": "BqGPFM4mkmwy"
      }
    },
    {
      "cell_type": "code",
      "source": [
        "from datasets import load_dataset\n",
        "datasets = load_dataset('tner/mit_movie_trivia')\n",
        "\n",
        "# ignore this, we're renaming columns to follow common style\n",
        "datasets = datasets.rename_column(\"tags\", \"ner_tags\")"
      ],
      "metadata": {
        "id": "KzjCgux2mxjA"
      },
      "execution_count": null,
      "outputs": []
    },
    {
      "cell_type": "code",
      "source": [
        "# get all token names\n",
        "import urllib.request, json \n",
        "with urllib.request.urlopen('https://huggingface.co/datasets/tner/mit_movie_trivia/raw/main/dataset/label.json') as url:\n",
        "    labels_to_id = json.load(url)\n",
        "\n",
        "# make inverse of our dictionary to do reverse lookups if we need them\n",
        "id_to_labels = {v: k for k, v in labels_to_id.items()}\n",
        "\n",
        "# this is just pretty printing:\n",
        "pd.DataFrame.from_dict(labels_to_id, orient=\"index\", columns=[\"ID\"])"
      ],
      "metadata": {
        "id": "7RPMGcBlnVI9"
      },
      "execution_count": null,
      "outputs": []
    },
    {
      "cell_type": "code",
      "source": [
        "# Test sentence from dataset (it is already tokenized!):\n",
        "test_tokens = datasets['train'][3]\n",
        "\n",
        "pd.DataFrame.from_dict(test_tokens, orient=\"index\")"
      ],
      "metadata": {
        "id": "EFu0UEC_-rLi"
      },
      "execution_count": null,
      "outputs": []
    },
    {
      "cell_type": "markdown",
      "source": [
        "In this dataset, `ner_tags` field is what our NER-model will try to reconstruct given the `tokens`."
      ],
      "metadata": {
        "id": "fr2d8sTBfQZa"
      }
    },
    {
      "cell_type": "markdown",
      "source": [
        "# Download the model\n",
        "We've chosen BERT model to do transfer learning, which is quite popular.\n",
        "https://en.wikipedia.org/wiki/BERT_(language_model)"
      ],
      "metadata": {
        "id": "41EZxwhNBM5S"
      }
    },
    {
      "cell_type": "code",
      "source": [
        "from transformers import AutoModelForTokenClassification, AutoTokenizer\n",
        "from transformers import TrainingArguments, Trainer, pipeline\n",
        "\n",
        "# download the model\n",
        "model = AutoModelForTokenClassification.from_pretrained(\"bert-base-uncased\",\n",
        "                                                        num_labels=len(id_to_labels),\n",
        "                                                        id2label=id_to_labels,\n",
        "                                                        label2id=labels_to_id)\n",
        "\n",
        "tokenizer = AutoTokenizer.from_pretrained(\"bert-base-uncased\")"
      ],
      "metadata": {
        "id": "s-FBCrKiBSmE"
      },
      "execution_count": null,
      "outputs": []
    },
    {
      "cell_type": "markdown",
      "source": [
        "# Preparing the dataset\n",
        "\n",
        "Tokenizers are objects that prepare inputs for model. They split texts into **tokens** (words or subwords usually).  \n",
        "**TODO:** play with different tokenizers here: https://huggingface.co/spaces/taka-yamakoshi/tokenizer-demo (we're using 'bert-base-uncased') and get an intuition for how tokenizers work.\n",
        "\n",
        "Unfortunately, as you could notice, BERT uses **wordpiece tokenization** (while our dataset is **word-tokenized**).  \n",
        "(more on wordpiece tokenization: https://huggingface.co/course/chapter6/6?fw=pt)\n",
        "\n",
        "### What to do?\n",
        "\n",
        "Well, imagine we have the following example in our dataset:  \n",
        "```\n",
        "[\n",
        "  ('steve', 'B-Actor'),  \n",
        "  ('carell', 'I-Actor')\n",
        "]\n",
        "```\n",
        "\n",
        "The wordpiece tokenizer would turn `['steve', 'carell']` into `['steve', 'care', '##ll']`. So, we're missing a label for an additional token.  \n",
        "*One* of the solutions is to **duplicate** labels. The result would look like this:\n",
        "\n",
        "```\n",
        "[\n",
        "  ('steve', 'B-Actor'),\n",
        "  ('care', 'I-Actor'),\n",
        "  ('##ll', 'I-Actor')\n",
        "]\n",
        "```\n",
        "\n",
        "Yes, we would duplicate `B`-tokens as well if needed.\n",
        "\n",
        "```\n",
        "[\n",
        "  ('why', 'O'),\n",
        "  ('does', 'O'),\n",
        "  ('care', 'B-Actor'),\n",
        "  ('#ll', 'B-Actor'),\n",
        "  #...\n",
        "]\n",
        "```"
      ],
      "metadata": {
        "id": "Qg5XRf6croFL"
      }
    },
    {
      "cell_type": "code",
      "source": [
        "# This is the function that implements the solution above.\n",
        "\n",
        "def tokenize_adjust_labels(sample):\n",
        "  tokenized_samples = tokenizer.encode_plus(sample[\"tokens\"], is_split_into_words=True)\n",
        "  labels = []\n",
        "  existing_label_ids = sample[\"ner_tags\"]\n",
        "  \n",
        "  i = -1\n",
        "  prev_wid = -1\n",
        "  for wid in tokenized_samples.word_ids():\n",
        "    if (wid is None):\n",
        "      labels.append(-100)\n",
        "    elif (wid != prev_wid):\n",
        "      i = i + 1\n",
        "      labels.append(existing_label_ids[i])\n",
        "      prev_wid = wid\n",
        "    else:\n",
        "      labels.append(existing_label_ids[i])\n",
        "        \n",
        "  tokenized_samples[\"labels\"] = labels\n",
        "  return tokenized_samples"
      ],
      "metadata": {
        "id": "E_zM3a8RxrAX"
      },
      "execution_count": null,
      "outputs": []
    },
    {
      "cell_type": "code",
      "source": [
        "# the 'map' function is very useful. use whenever you need to transform the dataset!\n",
        "tokenized_datasets = datasets.map(tokenize_adjust_labels, remove_columns=[\"tokens\", \"ner_tags\"])"
      ],
      "metadata": {
        "id": "IA3-SFTE7TsV"
      },
      "execution_count": null,
      "outputs": []
    },
    {
      "cell_type": "markdown",
      "source": [
        "# Metrics: accuracy\n",
        "\n",
        "There are several metrics commonly used in NER tasks to evaluate how good your model is.  \n",
        "You already know what one of them is — it's the **accuracy**.  \n",
        "\n",
        "\\begin{align}\n",
        "        Accuracy = \\frac{Correct \\, predictions }{All \\, predictions}\n",
        "    \\end{align}\n",
        "\n",
        "It won't hurt to implement it once again :3."
      ],
      "metadata": {
        "id": "2mwUMyBoAVph"
      }
    },
    {
      "cell_type": "code",
      "source": [
        "# [!] TODO: implement accuracy metric\n",
        "\n",
        "def accuracy(predictions, labels):\n",
        "  \"\"\"\n",
        "  Parameters\n",
        "  ----------\n",
        "  predictions: list of lists\n",
        "    predictions of your model for N sentences (entire batch), i.e. something like\n",
        "    [['O', 'O', 'B-YEAR'], ['B-Actor', 'I-Actor', 'O']]\n",
        "  labels: list of lists\n",
        "    the ground truth labels in the same format as predictions, i.e. something like\n",
        "    [['O', 'O', 'B-YEAR'], ['B-Actor', 'I-Actor', 'B-YEAR']]\n",
        "\n",
        "  Returns\n",
        "  ----------\n",
        "  accuracy: float\n",
        "    single number between 0 and 1 that represents the accuracy\n",
        "  \"\"\"\n",
        "  ... # TODO"
      ],
      "metadata": {
        "id": "Q3CZOfpzB2og"
      },
      "execution_count": null,
      "outputs": []
    },
    {
      "cell_type": "code",
      "source": [
        "# test your implementation\n",
        "assert(accuracy([['O', 'TOKEN']], [['O', 'TOKEN']]) == 1.)\n",
        "assert(accuracy([['O', 'TOKEN', 'O'], ['O']], [['O', 'TOKEN', 'TOKEN'], ['TOKEN']]) == .5)"
      ],
      "metadata": {
        "id": "ufMJ8JQsXFMi"
      },
      "execution_count": null,
      "outputs": []
    },
    {
      "cell_type": "markdown",
      "source": [
        "# Metrics: precision and recall"
      ],
      "metadata": {
        "id": "3C458QNeJcIH"
      }
    },
    {
      "cell_type": "markdown",
      "source": [
        "![image.png](data:image/png;base64,iVBORw0KGgoAAAANSUhEUgAAAWMAAAKPCAYAAAC4rKuFAAAAAXNSR0IArs4c6QAAAARnQU1BAACxjwv8YQUAAAAJcEhZcwAADsMAAA7DAcdvqGQAAL1fSURBVHhe7J0FeB3Huf5fW8zMYJElMzPbMcRhTpombZq0aQq3dNvbNm3alO+/vWWmNA1jw3HsOGZmy2JmZmb/5x2ddY4VSZZtwYHvp2cfnbO7Z3d2duadb76hSUdOnD0PQRAEYUKZdF5h+iwIgiBMEJNN/wVBEIQJRMRYEATBAhAxFgRBsABEjAVBECwAEWNBEAQLQMRYEATBAhAxFgRBsABEjAVBECwAEWNBEAQLQMRYEATBAhAxFgRBsABEjAVBECwAmxLjtLQ0/OpXvzJ9sw3+8Y9/4OjRo6ZvgiDYKjYlxsXFxXjzzTdN32yD999/H5mZmaZvgiDYKuKmGCNKSkrw29/+1vTNtjly5AheffVV0zdBEK4EEeMxoqysDE888YTpm21z6tQpvPvuu6ZvgiBcCRY7ufzrr78OR0dHtLa2orS0FKtXr8bixYu1K+LkyZMoKiqCp6cnFixYgNmzZ8PBwQHbt2/Hz372M+zZs0dfo62tDcePH0dKSgq6u7sxffp0bNiwAb29vfjnP/+Jj3/84/Dx8cGkSZP0+V1dXfjPf/6DRYsWITg4GOfOnUNqaiqam5sREBCAJUuWIDExUYfr2LFjyMvLg5+fHzIyMvQ1eGz58uVoamrCz3/+c20tfvnLX4a3tzc+97nP6XsMhNF/+vRpvfF3U6ZMwapVqxAUFKSveffdd+P666/HJz7xCX1uYWGhFj/GA8O+cOFCzJgxQz8/3RkHDx5EXFycDjufOTw8HCtWrEB1dbUOM+MzNDQUW7duhb+/v77HpcJA1w+fub29Xce7q6sr5s2bh7lz5+r4+elPf6prAnfccQeSkpJwyy23oKOjA1lZWdpq5jV5L8YN34EgCB/F4XGF6bNF8d3vfheHDx9GZ2cnGhsbERsbC2dnZ2zbtk3v5z4KEy3QwMBAhISEIDc3FwcOHMADDzyghZhC8NJLL2kxqKurw5kzZ7QwRkRE4Dvf+Y4WnejoaC00hAJGa5aCwc8UvYqKCtTW1upr8xq8D4X5ueeew9///nf9Ox5ngUHxmTx5sg7P22+/jZycHC2MFP9169bpcwfC+zzzzDP6Pg0NDVrcCMPo7u6OV155RYs8hY+C984772hR5TMVFBSgsrJSFxwUThZC3//+97Uw19TU6GvymdPT03VYKMjcn5ycrH/PgozhZRieffZZlJeX6zCw8KJAG2FgEjl06JAWY8YBCyHGva+vrxZd+rX5O8YNC4j58+cjPz8ff/vb33ShwQKAv2M8LV26VD+fIAgXY9FuCmbsu+66C//v//0/rF+/XvcqYI+JzZs34wc/+AEeeeQRbc2+9957pl98CEWHQpyQkIDHHnsMP/zhD7U19/vf/16L+v33339BqAnF57XXXtPWNwWU16Ul/M1vflPf/8EHH9RiSEvbwM3NDWvWrNHXZuERFRWlLfr4+Hh89atf1Vbpr3/9ay2QQ/Hkk09qS/OLX/yitjCvvfZaLW60QAfCgoaiesMNN+h7PvTQQ9pq/+CDD0xnQD8bhZv3/PGPf6zDR6GNjIzEo48+qi12Wtu/+93vtOVM/v3vf18UBlrNO3fu1IJr4OXlhdtvvx0/+clP8LWvfU0LLAtFFjLcT5Hls37qU5/S51PYKeC06vmuvvKVr+gwCIIwOBYtxmvXrtUCSoEhdAfQKqNQUTgpjMz0tPwGQpHdu3evFllWs3k+xYf7+vr6tKDRkqXFy/0UWl6f1iKtTIoIBYii9OKLL2qLlfemJW5A98A111yjrW0KzbRp07SlejlQeBkehuvll1/W1ivdBfX19aYzPoQWKy1NhpnuFJ7H73wOA1r6t956q3af0EKna4DuHLpk6Cqgpcsw8xqMG8Iw0Ho3DwMtavMwUNTpEuG1+NysHQwWRgMenzNnDk6cOIHnn38eZ8+e1e4SQRAGx6LFmBnfxcXF9A1aNCmIu3fv1v7hXbt2aXcELcGBUGgoFvv379fn7tixQ4s3rT5WzVmlprVNq5rCzer/zJkztTvEyclJ3+OFF17AG2+8oV0j/D19snSbGDBstI4Jr0l3hyFwI4XVfAoWr89wMrx0k1DMBsLnp2XM5+a5DCNFdNasWaYzoMPu4eGhP9Pfy+8MGwsWAxZu5uEcLAwsWCjmBnxOo1CkG4TbcLB2wJoL708Lmm4dWuiCIAyOVfWmoNV34403apfAv/71L13F/8UvfqGt3IHQAqQ1x4YzDpygX/Yvf/mLdh8YPuKPfexjusGLFjH9rbTc6H8ltDwptvQt0zdMvyl9oSOFQsiN1fnhoCV+3333abfB008/rcPK54uJiTGd8SHcd/PNN2sXBJ+dG10odNtcDZcThsGg2LNQoKgb0M1D1wfjm66hjRs36ncmCMLgWJUY0y9Ja5m9FN566y3dSMbPFNSB0KqjcLPaTeuWli//s8pM4SC0hOnXpajR1UBrjgJCuJ8NVrQYaT2zIY2iPVJoSVLY+Tujd8dg0MdKS5S+Zj4PXSp0i9D9MhD2KKHw0eXC5+fG57/aEXqXE4bBoBVPq91wnRA2HjKueS36tNnAyV4vgiAMjsX2pmBDHX2TbEwzoMBS4NhST9cBMz7dDbQMDR8mG+7YCEZRpcuBIkGBYZWePTBoAbKhjVYrYY8A+krvueceXd03quI8Jzs7W1fd2fuA1woLC9Ndt4yeDbSczXsHsLcAexVs2rTpgvVNUeOzsNvXYLAA4HUo2PTd0gdM9wn9rXwG/pZuC57HZ+dzMlwsIBgu+qrpA6Y/mL7elpYW/d2AljldG/QjG9BFwcZANmIynEYhNFQY6JPnc7Mx1IA9OdjASqua59BXTjGn24iNeiw02LjIgoNuCrpJ2M3PqHkIgnAxFtvPWBAEwZ6wKjeFIAiCrSJiLAiCYAGIGAuCIFgAIsaCIAgWgIixIAiCBTAmvSl4SXb6N/rzCsJowZF/xqhCQbAlxkSM2Q+YI9/Y2d/ozysIVwuTKkfycVQkp/gUBFtiTMSYk9B85jOf0YMNhhrsIAiXCwfgcNAIh4NzEilBsCXGTIw///nP6yolR2AJwmjANMUZ+zhvhoixYGuMqRjTt8ehyIIwGjz88MPaBSZiLNgi0goiCIJgAYgYC4IgWAAixoIgCBaAiLEgCIIFMCZizPl5p06detH8t4JwtXDlEa6UzQUGBMHWGJPeFFwnjhOUc8AHJy4XhNGA3do4spMLCpiv6ScItsCYiLEgCIJweYjPWBAEwQIQMRYEQbAARIwFQRAsABFjQRAEC0DEWBAEwQIY1d4Uvb096O7pNn0ThLHFYbIDHBwcTd8EYWxhV92xnJ991MS473wf2tpbUddUZdojCGOLu4sXPFylv7EwPjg7O+tpgceK0RPjvl40ttSjpDrftEcQxhYf9wD4egSavgnC2OLm5gZHR8cxs47FZywIgmABiBgLgiBYACLGgiAIFoCIsSAIggUgYiwIgmABiBgLgiBYACLGgiAIFoCIsSAIggVg9WLc19eHltYWlFeWo6a2xrR3eErLS/XvBEEQLAWrF+Om5iYcPXEUz738DHbu3m7aOzQccPirP/wcnV2dpj22D+cMGWlBJQhXSlNTE+rr603fhMvF6sW4rKIU1TWVuPu2j+GeOz5u2mu/dHV3obml2fStn8amRjz9wpOmb8JoQOFpbW01fbM/Bnv+ffv24bXXXjN9Ey4Xqxfj9vZ2dPf0ICwkzLTHvsnOycJTz18svP5+AfjqF75u+iaMBk8//bRdC89f//pXbN9+cU30hhtuwIMPPmj6JlwuVi3GrH63d7Sjq6tTrxpsuB56+3r15w51rKOjA93KWhxqPiT6ji86t6f7onN7e41rdej//D4UPNbR2X8Nns9rMmwD792jCo8LxwcJmz6ursPjDDtX2+azEp7boz5zH493qvN4PuH9eT9O2sRCiscIf8P76f9q38D78TvPNfzo5tfvv96H/nWe291t/nxddud/Z9wwDvjsLS0t+jvhvra2Nv2dViPjiO+E78IcxtdAq9L4rfG74eK0P+77N57PjWExf6/8vREOXpfHzel/5/3HufH+fBbjGua/58ZnMNI+78s0x+P8jXFtXoP7jP/m4SFGXHA/N/7OuP7A841zjeMDn88WsepZ246cOIyX/vO8fkmc2i5p6jR88mMPIq8gF/sP70VxSZGe73ZqQiJuvPYmeHl663O//t2v4MeP/S/cXN2Qk5uNXft2qnML4eTijMXzl2LFkpXw8fHVz5SSfg5Hjh1GeWUZgvyDsHL5asyYPgtOjk6mUHxISto5vLntdcydNQ8nzx5Ht0pAsTEJuG7j9QgN7bfcKa679+/CqdMnVUHSisT4adi65Tr4+Qbo2aCYkA8c3ocTp4+hta0V05Nm6udYsXSV2laiubkJZ1PO4MSZE6irq4GXlzcWzV+MZYuXI1s9y5PP/lNnJM4uFRURjS9/7muorqnC7//6W3zpka/iz//8o7aSPT08dHgI7/OXJ/6Iu279mKphhOprHz9xFLX1NYgMi8S6NdcgdkqcjuPKqkoVH4dwLu2sKnS6EB+XiNXL1qjnjDNdbfyYqFnbfv/732urmO+LcXLXXXfh05/+NN5880288847mDZtGg4ePIjExER9jFbkn//8Z9OvgdraWnzyk5/E22+/rb/znb/66qvYuXMnGhoaMHfuXDzwwAOIiIjA5MkftZd+/vOfa0Hk/c+cPavSsSs2btyoLdPAwED9/gsKCvD666/j5MmTeurHDRs24M4774SrOpd5gL7dJ554AocPH9bPcPPNN+PJJ5/ESy+9BD8/P5SWluI///kPjh07pgU3Li4O9957L2bPno3f/OY3eO+99y48P5/l4x//OF588UUUFxdj+vTpSE9Px+c//3m4u7vrMFNcz507p+/x05/+VD/zK6+8gj179uhnWbp0KR5++GGVnr30dc+q53r++eeRmZmpw7xp0ybceOONCAoK0tebCMZ61jaHxxWmz1cFX3BnVwea2hpMe8aeyPAoJWL+OkH8z5e/jYXzFmkf8h4ldps3XIvrt9yI+XMWqIRVrAQ6XwnbdP27Hbvew4a1G7WgPvHsE1gwdyFuv+UuLF20HGVlpQgMCFRi5Yn0zDQkpyZj1ozZuHHrLSpRuyAvP1e/kKDAjyaKquoqnE4+ifCwcNx9271YqgSyTiX6M6lndDhoTRw8sh+ZuZm47+5PYP2ajSgozkeRSsBRkdE607AxMr8oHxvXbcYm9QxV1ZXIzc9BQtxUfc6R44e0IG/ddJ16xi0IDQpFYVGhtiL4/IwT+oy/+43va4EmbUpsj586pq65CfUNdSpMtYiJjr2QqI6pQs3DzQPTkmYgLT0FaZmpWLtqHa5VhUi7yigFhfnwVqLv4+2DfQf36trILTfcjmvWboajKuza2tsQHhqurzWeuDq5w9W5P7OPJxQOCtSyZcvwi1/8AgsWLND7KRwUL37/5je/ieuuuw4VFRVaECmUBnxXFEqKG/PNG2+8gRMnTuBrX/ua3pebm4uMjAzExsbCw6zQNKDQ5+XnY7MSqC984Qta/FJSUrQfd8aMGSgqKsKOHTvg5OSE//7v/8bChQtx6tQpVFZWYubMmdrSpOiyUPjxj3+sw8YwUEjvvvtuLToU/CVLluhChgUKLdfk5GQEBwfjpptuQlVVFbZs2aKFdc6cOTpcqamp2grn8/NefLaoqCh9jPei8MfExCA+Ph5vvfWWfs7HHnsMt912G44fP46srCx9LeavH/zgB7oA+cpXvqLjMV89b2hoKHx9ffX1JgLGJwvHsRJjq/cZD4Ri9MB9D2nhcnJy1i9v9cq1ymrMMJ1xMQ6TJ6nE2YKW1ma4u7lj4/rNCA4K0ceycrIwJToGM6bNUla1F+bMnAMvby9UVJXr44PB325YvUkJly/8fPwwf9Z8lSFL9TFaB8eUKN524x1K8IO01bBp/RYUluSrxN7vUsjMTtf3mRIVowWQghoV0Z+gyeoVa7F1s7KA1O9ZOMTFJiAyIlIXQpeCiWnJwiXKsj2orSfC/8eVlT575lz9/Cx8KOq0hFkgLVm0FN293ahTIk6YELu7WD1tUglzEubOnqcLM6GfpKQkXH/99drCGynbtm3DQw89hOjoaP27e+65R4ttc/PFDbHmrFu7FmvWrFE1OB9trUZGRmqBJLRq+VuKXEBAgLZqKWwsFAgtUX6mf9ff319vn/nMZ7QxYEAbbf369fr6FOetW7fqQoSieikouBTto0ePakHmVlNTo8Wa4WBhQPGlJUxL19vbW4v+4SNHLrjcmM5YS+Dm6emJj33sY5gyZYo+ZqvYnBjTB5uRma6q3X/C4z/7Lr71+P/gF7/9XzQ0N5rOuJjbb7obDU31+Ncz/8Qv//gLZZkeUYmuTR+jhfnGO//BD/73MXzz+1/H99X1du7aoY73C+dgOCpr27BmJk2aDCdnJ10lI0yU7PnBrnXfevwb+po/+cUPlGVcpIS6Xxwpch7uHhcyhpeXD1xcXPVnwjDROv3Nn3+Jx378bXznR9/CK2+8hFZTmIeDpXqwsqQDA4ORmnFOCzGt/5CgYAT4B+oaRqOKC/a8+N5PHtXh++H/+x6Onzx2wS+4ZOFSZaGE493338Gv/vh/eO3tV3WNQOiHwkUBGylME+Xl5fjSl76kq+G0Aik8Z8+cuSBMg8E0xuo7MarORjqjdUqXB90HLBjognj00UcvCCmNAropaGnyd9wGukTKysrw61//Wl+D4br99tuxe/fuj/ieB4NhY8HC69Jd0djYqK3ghIQEXTjw/rT8WQAwfNzuu+8+lJaUXDASaBHXqPB+73vfwyOPPIJ333132MLJFrA5Ma5WwnDg8H4sXbgMX3z4y3j0a4/hsw99AedNYjeQSJUIb9p6K/7r4a/gpmtvwtlzp1FZXamP0XK9bvON2gXCav93v/E4vv/tH+GadRv18cFgBYaJcDC43983AP/12a/gO1//Xv81/+dx/ODRH2vXCHF399RuAGMtwTZltXd1f9gn+kzyae262Lrxenz1C9/At77yHWVdX4vzfSbXv7r1ELfX0DqmtU13CRP+kROHtGVLESGeHsoyu/3j+NZXv3vhmR9Xzzxv9nx93N/PH6uXr8GnP/lZ7WrhreiaEfrhOzYXNX5nIWcIK+Oc7gQDHqefl+4O9tB49tln8dxzz+Hll1/W1fnhGCqdUaRpNdNPzetxo//1l7/8pT7O8NEaNbdyaVWzYDD4xz/+gbDwcHz3u9/VvmV+nzVr1oVzhro34TGKMQX+iLJ2eW2KMi1tIz5ordP3boSPz0wfsmHI8Nkf+exn8dvf/hafVf/37t2LwsJCfcxWsTkxZk+Ajs52LSps3Gptb8GhowdMRz/Kjl3bdAOXs7JgmYi7lAgapfPUuER9rEg3BKqoUgmRVndOXrY+frkwES6cvxi79u3SgsuGF/ri9h3coxvRyNS4qUjLSEVJabEeWXj8zHE9YtCAfnlV8YO3sphdXVxQXFakXRsGXKRzstrYt3gwmBGTEpKUBd6Kk6ePo7enDxFhEdq6IrNmzFHXy0CVem4KN62Y02dPoayiTB8/l3pWW9WMCzaAqtyluxbaG0wrfHeXstZYyLGabTRUUVCeeeYZ09F+6Hulz5ZVcooRz2Nj4EhcAoMRrkSUFigFjO/PhemkuFg3LhKGnY2EFEFayNxYEJhbvdznrsLOgoLplteitWzAa9BtQd/5YPD+dJ3Q10uXCOPBcDPQyKHfnY2gfFa6ZngdFhiGdc84ou+b9+H53M9nsWWsugGPUKiqa6svWG4Uo+7uHhw4sk/3SigozEN4SAQKiwt0oxgxb8BrVolg/6F92LP/A+QXFmDOzLm6sYwJ2NfXT4tOSloK9hzYhTPKaqb7IDYmXvtzB8LqelFxIRYvWGLa099TgT0j1q3aoK2C0JAQNCvLaL8KG3tVUNjZEyEyPFILYkBAEGrranD42EEcO3lYP097a5v2XdN37OTojPKKcvX7ver4Ud045+jQ37DAXhx9ykKuqq7Ajt3bkZWTifnK6uU5PHf96g06TJNVwcLE/f7u97Fm5Vrd64IZjtBCZy+QU2dO6mdOSz+n4yFG3Z8+ZTbosZHvg707lTAnw9fHT1vWbNwbbyaqAY/Q0mWjGy06ijKtRjbgVVdXY/Xq1aazoNMRCzUKIXsn0G86daoqcNPSdGMd0wRFikLMRq2XXnpJN7axRwbP4+8HwgY8ih0b7gzYgEdfLEWO4k9XCRvEaG2y1watUzbkUSAZHlqt7LHAHhC7du3S92L477jjDi2cFEgO4uDvKcTsYcHGyPnz52ufMNMPG+QooHwGhpfPZjRsch+hGDNsbPRjIUF4f37m9diLhLUA9rRYvHixtpiZFhkfbORk+Ph7xum8efMu1OAmAoab+cx4ttHG6hckZUs+M4MfhVNBq5ZWJxMFw0SBowVHKzPUNDCEVl5ocKiOWPa75bl0C1D42GjF0pjHCK9NQWV/W74EJgZ3N48LlqQ5LOV5boB/gGlPf6atra9FiKlRUKm7OqdNn9erjjmo6/CeDCOvz9fBY/T79Z3vRVdnlxLF3Zg5bZayqhfp6/E4rRJei414/B2TB0WT/ZFbVKZkvDipa7OhT4dBCXyIemYDXr+xqUH3RmGGN09g7D/MMLIbHuPBTYkwhZiZhJmQ92e88ReuKtz0cQ8WH2PNRC5IyvinL5TxSOGjONL9wDTAxisDvk+eW1dXp+OOGZpiSbGhqBnwt9x4DuOSDc+0ko10aA4Fn++MrgYDXo/vmZYs4XV4PQo08wTTNK/J/4RWJsPE43z3zAM/+9nP8Mc//lE/D5+Dx5n+GQaGmc/Kxj6Gi8/Ee/I/hZrbwDDwM/fxWmyoMy9YDHcNaxYMK40cXoNWMMPDe/G3vD/jg2FiGAaLj/GCeZ9hMc8ro4nVi7EtQr81e2XQ1XLy7AllCZcpa3upstgTTGcIRFaHvnIokOz+tm7dOi3M9AvzP7vKGX5b4WJEjO2QU2dP6l4O7G7n6uKm3Q9JU5O0hSp8iIjxlUMxptuE7gGKMK1S9iemtW64rISLETG2Q9h9rb6hXlXfupQYu+oeDHQHjFUisFZEjK8cugnoRzZ6UdCFQX+yCPHQiBgLwhCIGAvjyViLsc11bRMEQbBGRIwFQRAsABFjQRAEC0DEWBAEwQIQMRYEQbAARIwFQRAsABFjQRAEC0DEWBAEwQIQMRYEQbAARIwFQRAsABFjQRhHOPvAKM1AINgYMjeFYLVYw9wUzF6cIc2Y+5hz9xLOa8y5ezlPL+c8ECwfmShIEIbA0sWYk6tzgnYueVRQUKBXSOZk6YSTqXPCdU5ZyfXiODn9RE6cLlwaEWNBGAJLFmNawFxWiEsbcekhI5sZGdk823HZpSVLliAkJEQE2YKRWdsEwcrgXMG0grmWXV5ent7HjMzlmDhnMDd+NtwTXKR0//79epmhUbKNBCtELGPBarFUy5jrydEi5qrIxvpxiYmJegFRTuJO6ENOS0tHenqaXoeOcMVmLuY52CKkwsQjlrEJlhm9vX16iRiugCwIlgjTKf3E5hbxzJkzsXz5cr20ETMyN4rysmVLsWDBAp3BSUZGhhZmsY7tE4sXY1b5Oju60NTQjOqKGlSW1aC+tgFtre3o6e4xnSWMNxQMEY2PQmOBqx7T5UDRpQBzGf/BrClazbSGKcw8zsa9yspK3fAn2B8WLca0hOtqGpFyOhOHdp/E0X2ncfzAGRzadQLH1P/igjIt1CIJ4wPfR1dnF1pb2tDc2ILW5jZ0tHfqQlGEuR823LELG+OD3dcoxoZveDAowlFRURca7ijiNEAE+8Nixfh833lUllYj5VQGSpToUgQMmFgb65qQnpyNzNTci44JY0N3Vw/KSypx8vA57H3vMHZvO6S3w3tOIi+7SNdURJD70yatY0KBNVwQQ0ExZjc3A/5W4tE+sVgxbmxoRr7K5I31TaY9H0ULRHElCnNKJAGPIYznrLQ8nDuZgaryGmX99VejKTx0H2Wey9XHGuub9X57huJrNMDRSm5ubh7W0mW6ra+vv5B+ORBEurfZJxb71stKKtCkqsKXgtXkmqo6XXUWxoaCnGJVOykfsgZCsamqqEFOer52G9kztHK9vb31f1q5FNry8vJBjQXuo1hzQIgh2OzyZo/L5TMuuDEeuA0WX7aORYpxb08PWhpbR+x+oCA31A1tQQtXTlNDixbajvYO057BoVuJ74CuDHuGbgcOcY6IiNDfKcZHjx7VjXrmUGzoW962bduFIdIckefv7293Ysy4YL/s5ORkHVfsEsjeKBxGbk+ibJH9jNvbOnD6aAqqK2pNe4bH3dMN8UkxiEuMNu0RRovCvBLkpBWgpbm/L+xwsHodGROG+UtnmfaMLZbaz5gWcW5uLvbs2aMFhfHCvsZTp05FWFiYPoe9JtLT0y90ZeM5119/vR4abS9iTAu4pKQEhw8f1mJsLkWGL53dAtnjxMPDw3Rk4rDLfsZMjJfjN+O5Do5jn4DZ5YjukJZmTvhiH92POtu7RtzVipmrq7Nb1Wz6G7DsFaZf9pBYvHixzryMF7ojzpw5g+3bt+uNo/M4OIQCxMy9YsUKPTLPXoSYtQFawu+++y6qqqp0AWa4KLjxe3t7O06fPo0dO3agurra5q1kh8cVps9XBSOqs6sDTW0Npj1XzmSVIOuq69HcpKyGEQzw8PTyQMSUMLh7uJr2jC5sRMxOz0f6mWzkZRWhKK9U9/Bg9y5nFxe4uY/NfS2ButoG7X4YaZ9uLx++i9Axsx7McXVyh6uzu+mbZUERZv9hdm1jdzUKC/OIITaGsNC/vH79ej1Cz7xXhS1DIaYbgkPADRcN4ys+IQFxcXHaXUMDgP2uGVcstNpU/AWq/cN1Exxr2FWRht9YpW2LHQ5dVlyJzJRc3Vo/HI7KIo6MCcesBUljYlWwt0ZuVqHuSsd+tkZ08YVMdpgMbx9PxE6N0mEYDwEab8qK1HtIvfR7IE5OjoiKi8DsBdNMe8YWS5+1jWmFFh7FpKysTG/8TOi2CA8P19Ywe1BQjOwBxgn952+99ZYeqcg8ExoainXr1uk4MWrEFOm0tDQ9rJwFGeNn1apVSEpKmrDh4mPtprBIy5i4ubuhW1V56RboGaLay0gJDPFHwvQYZRWPfolZV9OA3MxCZaU3aCEeCK12NjJ2qnDSOvbwtEwr7WqgNcARjxzgcSm8VMEUHRsJL+/x8e9ZsmVMdIGtxIXiQQuZjXqxsbHa+qNvmBagvXVlo8XL3iP0lxMvLy9s3bpVTyHKtEax48ZaQmBgoPa5s2bR1dWlNYa9TSbKfzzWlrHFpgJHJwfEKIszLmmKdkMMxMnZEeHRoUiaFQ9vXy/T3tGDL55WcX1to64qDQXnyaDVXF5cNex51oqLmzMip4TrGsBwuLg4Izg0AEGqcBQuhpmXGZnCS+uPGz9zn71BUWUNgXmFNVm6Z4w5OwbCQoyTKzGuCBs9aSXbKhZdJLu6uWCKqvbOXzYLsxdOR+zUaEyJj0DSzHjdYj9j7lT4+nuPiWXBHh3s59xj8mkNBy33lqZWtdleX2dmkuCwACTMiIVfoC8mTf5opmGtYEpClC48WYgKwlDQbcPGTMJ8SxfFcJYmu/q5urrqc+hDNixkW8Ti60fOyuLyC/BBVEwYpipBSFRCHJsYpQQiULsmxqqK13lhzgXTjkvA6tel+uJaK45OjggJD9K+4Jlzk3RjaZCygkMjg/U7mbNohvabu41RA6pgW5iL76Xyr7lbwFZF2MDixZjwZTg5O2kLjALs4uoy9l2Ahimth+RKfmMlsHGOtZCo2HBMm52AWfOTdM0kLnGKFmbWYiapP0EYDuZbw+dLVwW7tQ0H532mRUwhpttiLBvQJhqrEOOJgMLPAmCk0Hp0t+EuboSZwNnFCZ5e7tpP7+XtqUXYwUGSkTAy6Cfn8lKELoucnJyPjE40oFgbA2MIG/kmsmvbWCO5aAhcXJ3h4+et/18KiraPr7dU0wXhEtCy5ShE9sGmtcvh4gcPHtTrBZo3gHOoOAfJZGdna8uY7gr2RGG/bFvFYvsZWwIc7JFxLlfPzdA3SNc2MnnyJAQGByBpdjz8A/uX1BHGB0vvZywMDhvh2IeYw6DZn5gCTWuZli9dGGx/YXc29p5gv2yKNFfR5pJU7A44UW6Kse5nLGI8DEwEtVX1etay6so6dHdd3LOCromAID/EJEQiODRQDwIRxg8RY+uEkkPXw7lz5/SQaFq+xOhfzHxn+IkJh5ZzeSoOkpnI7oAixhMMEwbn6a2trkeT+s8eE4wwV1cX7TcNCPaDj5/X2DcoCh9BxNh6MQSZPuP8/HxtBdNiNqBbgq4MjlCMj4/XXeAmul+2iLGFwImBOto6VImtEoyKMTZkXW4jnzC6iBhbP3RJUIhra2t1/2MKMgWPwsepSOm+MB8mPZGIGAvCEIgY2w6UIbom6ENmLZMDPSxBgM0ZazEWJ6cgCBMOBY4CzLkq7G2+DgMRY0EQBAtAxFgQBMECEJ+xMOGw0YbrGLKnSld3l+5C2KW2bvWZ/9nI09fbq6cx5Sx558/3rwTh5uwJLzdf7WNktZZVXfr0+J3/OXyWXaWMjd/p92M1mN8F4XKQBjzB6tFL6LS1o6WlVXfib21u1Ss3sHdKe0cH2lrb0NTUjKbGZj3yiqLcps7vUOfwP+eMZsMOe7Rw8E2fEmN+53zSzk79gksx5goxzk5OugsU/Y8UXQ4i4H/92dMTvj4+usuUMY2lcQ6/c3QXfZb8Ll0VhYGIGAtWA5MSu/61NPcLKwW2pbkFzU0tqK2tQ1VlNSorq1Ct/tfV1qOhrgHNbc1KOJXV6uai507mPNWclIgDaviZU3JyfUOKI/MAp/DUVrD679oKuLb137dXW8z9W09fH3pUAdCtLOoutXX38n+vsrq70a7C197ViXb12dvXT4/64iTmHKJrbBzlxW5Vxkbx5n9a1mOVEQXLR8RYsFjoPmhV1m5jQ5OeXauxsQm11XUoKS5FcWEJigqLUV5Wgda2Fj1vh7uXm16nkJ8pvOyr7e7tCv9gH/gFKuHzV1Ypz/F06z/f8+Jz+63fyVqkKc5hBUB4wSRteVN0e5UIc+tUQtumRLdVWd0tpq1VWdlNysquaWrSW2V9Axo7OtW5SpxZgBjnqvNalGXuqQSYI7844IBzInDjKhPGunbcaEUzcwr2gYixYDFw1WeOmqLVS/Gtqa5FUUExsjJzkJ2Vg7LSMmWNdsPDW1X9lah6KFF193aDX7AXwqKCETYlGKGRgQgKD0BACEcuemjXwpUSngdE5F95xqBw17c0o0JZ6MU1NSjm81RVoVBtlUqwm5QwNysB59bY1gZnd3dMiYnRq09wCXkKNQWawmy4PkScbRcRY2FCYUd8uhm0+FbVIjcnD+kpGUhNSdczbTk6O8DT20OLr7e/B8JigxE3LQpTpkYgOiEMIVFBcB6jUYpXK8bD0akKleLqamSpAiZTWfrpRcXIq6pGXUuLtrAb21rRo3JORHQ05s2bh7lz52LatGl62C7F2XBrCLaDiLEw7rABrb9BrQnFRaU4dzYVJ4+fQn5ePvrO92rLl66E4Ah/JM5VluL8eEydHYNQJbzjOTx8LMV4MOj+KFICnazi4WR2Lk7nF6Ckrk67Nmg5T3ZyxrQZM7By5Uo9sQ1nGjOEmRlZsG5EjIVxgd3J6IKg/5duh6OHjuPQ/sOoqa2Fi6sT3L3clZXrjxmLEjB36TQkzYtTYhyoEufE9ToYbzEeSHdvL0pqanA6JxeH0jNwPDtHiXO9FueOnh4EhYRi/YYNehl6ujYoyvQzs6eHYH2IGAtjBmeka21t0z0eCvOLtAB/8P5uVKnquLMSYDcPF0QlhGLeyulYsn4uEmZO0RaxpTDRYjyQto4O7dbYl5qKPckpOF1Q2C/M3T3wDwrC5s2bsX79eu3WoChzs8dhv9aKiLEwqvB10wpmP9/qqhrs3rkXb7+xTfd6cHJ2gKu7C6YvjMPqrYuwbOM83dhmqX1uLU2MzWHXutLaGmw/dRrvHDuB4zn5aONEOCqfRMfE4q677sL1112H4JAQ3a+ZfaXHKpMLo4OIsTAq8DWzDzBdEWdOJuPt19/F3t0H4OA4GS4uTpg6PwbrbliC1dcvRkhEoFUMerBkMTaHwlxcXYO3jh7FG0eOaYu5QxWI7M1x3Q034O6778aSJUu0KBvL0guWh4ixcFVw+DCHFXOQxbtv7cCLz7ys3RAcWOHp64qt967F9feux5TEyAn1/14J1iLG5lCY04uL8fQHu/H0rr1o7OjQfaSjoqPx4IMP4o477tADUYxRhYLlIGIsXBF8rRwyzMEXL7/4Gl576XV0dHRpEZ6/ZhpueWAzVl27UI98s1asUYzNaevqwDvHTuIf23ZgX3qGFmVax5984AE8oLYpU6bood1iKVsGIsbCZcOJdzLSMvH0v57Hzvd2q3fTB1d3Z2z9+Grc9cj1iE2KUmdNUomq/3xrxdrFmPTnvvNILSrCH956G8/uOYBW9f7oJrrlllvw+c9/HrNnz5aJjSwAEWNhxLBhLisjG889/RJ2bPtAD1fmQIybH7gGt3xqI4LCAvVcD7ZiadmCGBv0qWxIF0ZlfT1e2Lsfv3vrHVQ2NcNBZf5NmzbhC1/4gu67LANJJg4RY+GScFaz1HNpeOHZV7B/7yH1vRNBEX64+3PX4ZrbVuiFUzm3AyfXsSVsSYwNmB07u3tQ29yEl/YfUNbyuyhtaISLqyuu3boVn/n0p/VoPxHl8UfEWBgSuh/ycvLx4nOv4v33dumpKQPDfXDLQ5uw8fYVCAjy05Ps2IolPBBbFGMDZktOdlTT1Ii3j53AH99+FwW1dXoa0C1btuDhhx/GnDlzpJFvHBExFgaFM6O99do72P7uTlSUVylL2Bc3PbABa65fgsBQPz04w1ZF2MCWxdiA2bO1o1P3WWa3uCfe/wAlylKOjIrC7bffjnvuuUc39Aljj4ixcBEN9Q3YuWM33n7tXeRk58PT1wXX3L4cm+5YhcjYUHh4uducO2Io7EGMDVgL4ixyueXl2qf8yqGjaOzu1sOsKcg33ngj/P39TWcLY4GIsaDhnL0crPHqi6/j2JET6DnfhSUbZuO6e9chcW4cfPw89STs9oQ9ibEBG/lqm5txrqAQz+3Zix1nktHn7KInJ/rkJz+p/1vDgB1rRMRYQGlxGd587W3s3rkPpSVlSJwfjRs/cQ3mrZihXRJsnLNH7FGMDTiDXIWqJe1LScUTO3biVFExYuPicMMNN2hLOTo62nSmMFqIGNsx7C+8b9cBPXfE2dPn4Onvql0Sa69fguipEXoOYXvGnsXYoKmtDZklpXjz6FHtuqjv7tFDqynInJhI+iePHiLGdkpZaTn+89Ib2PvBflTWVGLhupnYcudqzFo8FX5BXBFZWtFFjPvpVXmvsqERRzIy8cK+/diTmoEwZRlv3boV999/v14+Srh6RIztDDbU0Cf8+itv6SktfUI8sOWulVi9dTEi48PgasXDl0cbEeOL4axw2WVl2HbiFF46cAhlrW3ah8yJiDhwRHzJV4eIsR1RX9eAN159G3s+2IecnBwsWj8Lm+5cqX3D/oE+dtNLYqSIGH8UjuSraWzEgbR0PLtnHz5ISUPS9Om4+eabce+990qPi6tAxNhOyM7KxUvPvop9uw/AyWMy1t+yFOtvXoa46VFiDQ+BiPHQ0EpOLSzCa4cO49UjR9Hh4IRrr70WDz30ELhWn3D5jLUYOzyuMH2+KqjpnV0daGprMO0RRgLdEof3H8UzT76AXTt2IyopGHc8fC2uvXsNouPDx3VNOWvDqx7wbhAxHgwnJRqhfn6YHhWJMF9flFdVY8eBAygtK9OiEhcXN2aiYqtwBj2OeBQxtkG45NHrr7yJl5//D06fPo1V1y/E7Z/ZghVbFsJP3BKXRMR4eCYr0fB2d8fU8HBMCQ5CW1s7duzfj9z8fD29amJiovS2uAzGWozFTTFB1FTX4qXnXsHbr29Dz+RuXHPbMlz3sXWISYxU1rCj6SxhOMRNMXK6unv0pPbP7NqNlw4dgYOnl+7+xgntg4ODTWcJwyFuChuD8VRSVIp///NZPZqOvSVu+/QW3PrgZkTEhKiXLS3eI0Us45HDrpDBPj6YExsDL1cXZBUWYuf+A2hsbERsbCz8/PzEbXEJxE1hQ/T29iH1XLqe9P21V97EjEXxuOuRrdo/7OPvJZnhMhExvjyYvryUdTcrJgZBXl4orqzCG+/v1IIcHh6OkJAQmQVuGESMbQT66E4eO60s4mew/Z2dWLFlPu7/ys1YtXWRVS99NJGIGF8ZzqqqnRgZgajAADS0tuL17TtQXVOju71FRkZKf+QhEDG2ATo7OnH44DH8629P4/jx49hwy3I89K07MHtJkt1N7jOaiBhfOQ5KVGKUJTxrSjTqm1uxbe9e5BcWIjQ0VAsyfaPCxYgYK3htLinU3t6Bzs5u9Knq/uTJk6yiStXW2oaD+47gib/+G5lZGbqh7gs/vA/RCRFWEX5LRsT46mBvC/qRlyZNRW1jE/adOImsnBz4BwRoQab4iOvsQ+xejNvbOlBX04DKsmq11aCuqh5NjS16pWNGSn8EWV6CYXy0trRi7679+KcS4tLyEmy6cwU+//37EBQWIIl8FBAxvnqYDn08PLByxjRlITfjwMnTOJuSggAlyJz5jV3fJK32Y9di3NrchuKCMuRkFKC8uAoNdU1obGjW4lxbXY8OZSlz+kiOULMkK5N9BVsoxB/sx9/++ITu8rfl7lV45LF74Rvg3X+StaIerrujF631XWip6dD/O5pVbaW7D5McJsHBcfzeg4jx6OHu6orl06eptNqM46npOHX2rG7Q4yRDIsj92K0Yd3V2Iz+7CIW5pWhvbTft/RC6KlqUWHe0d8LTywPuHpYznWRLcwsO7D2Iv//pCbS0N+H6+9biM4/eo1fhsGb6epW1r8S3KrsZJefq9VaR2Yjawla01nXhvDru6OoAJxcHZXKZfjSGiBiPLm5KdFfOnI7m1jacSEvDqeRkLch0WXABVHsXZLsV44rSahTllaKtpc20ZxCUldbV0aU/Bgb7Y7IFTCtJ18ShA0fwjz//Cw3N9bj2ntV46Nt3w83d1XSGdaJer7aEC07Uoji5Xn3uRE9XH/p6zqOns0+LcWNFO3q7zsMzwBlOSpTHGhHj0cfZ0clkIbcoC1kJ8tlkhIWHXxBke2asxdgiW5Ao7DWVdcMLsYmenl40NrSgsb7ZtGfiYGPdkUPH8M+/PYXaxlpsumslPv2o9Qsx6WrrQUlyA6pymrX4DkZXWy8qsppQktKA3p7BzxEsH3clut/92F24d81KNFSU49e//jX27NmDFiXQwthhkWLc33OiXQvtSOju7NY+2omko6MTJ46d0o11lVXl2HTHCjz8nY9ZlPvkaqgrbkV9aZu2hoejq7UHtQUt2ooWrBd3F1d89567cdeqFagsLMTvfvtbHDp0SOdLYWywSDGmP/h838inzKAlzd9MFCw8Us6m4tl/v4ii4iKsu3kJPvvde+DhaTvLIjVXdaCjqdv0bXg6W3uVcEumtXa83N3xg49/DLctW4K8jAz89a9/xalTp/RyYMLoY5Fi7OjsBAenkU/IwRZ8F9eJmX2qp6cHWZk5eua1M2fOYunGOfjMt++Gh5eH6QwbQJWLnW29l7SKDfp6+rSFLFg/3h4eePy+j2Hr/Hk4euAA/v73vyMlJUWne2F0sUwxdnSAt4/niFY9pmC7urnC29fLtGf84FzEhfnFWog/eH83lqyfjc8/fh8CQvxMZ9gGrKNwOs8RT+mpTrO26T97VE2so7cXbUpkWtXW1tOLTlXb6mXLpZ0T7OuLH9x/LzbMnY13334bTz31FPLy8nT6F0YPi+1NwUnVmxtb0DZItzZz3DxcERkditCI8Z0GUDcyVtfilRde02K8YO1MfP4HH9dTYNoarKDQTcEeFL3dl86ALh5OCE7whHfw2LppRqM3BZcp6lSiktPcjOPqfR6rqcWp2gZkNjShprMTjqpQcXGYDAcVCfbctcvPyxPTIyP1Gntv7dwJNzd3TJ8+HR7KcraXeLHbrm0cyMF5G1pb2tFp6r5mDiOElnNkdBjip8WO+2rJbMh487V38PQTzyFpXgwe/Gb/XBO2ynmlwRRjDvAYDqZT72AXTFkY0N/feAy5WjFmmq1sa8erBSU4WVuHivZONHf3oF1Zxfxfpo6lKlFu7OqCv6sL3PVctqYf2yFcOSRUWclZpWXYefCgHqU3Y8YMu5mg3q5H4Hl5K+vK11P7pzi4g416jAhWgb18PJE4Mw5xSdEqksZ3UhNWzz7YsQdP/fM5uHo54vaHt+CaW1eYjtombl5Ouutaa93w1rG7nzMi5/ohINrTtGfsuBoxVslViW0bnssrRkNXd78rxrQZHhb+4/7qjk5tJQcoQfax82Ww4sNCdbwk5+bh+NlkPbEQLWR7sI7tWowJ++iGRYYgakoYQsKDEB4VioTpsUiYFgP/QF8dOePN0cMntEVcXlWGGz+5AXc/cp3NTzvIAtAzqL/TP0fh9Q7SmOfu64yYRf6InDU+E5VfjRi39/bg2dxCtJq6TzqpdLQw0B/rwoKxLDgACapa3qukmBYy/caNSrBJgEu/hWzPzJgShbqmJhxUYlxWWaWHTE+ZMsV01HaxezEmfHj6kNln19PLXfecmCjxKyooxovPvoqDBw7imtuX44Gv3QYPbxvqOTEM7LXiG+YOvwgPOLlxyPMkOLpMhlegKyJm+yJ+eRACYzzHrfHuSsW4R9VsjlXXIrupfxCDq0pLd8VFYY6/L/xcnOGhMh3/J/r4aJ9xbWeXbsxr6OpCsKsrgjgXyjgUNpaK42QHzI6Zgsr6erx34JCOz6SkJD0fsi0jYmwGI8HYJgIOdX7xmZfx2stvYOnGefjE125FeEzIhIVnIqDQung4KkF2R9g0b0TM8kVYko/+zv3j2YviSsW4S4nHzrLKC1bxxvAQTPXx1taxTl9qH/+z0S7EzRU1HZ2oV4LM33k7OyJICbKbnc9DzXksYkKCUVxTi3f37Ye7uzsWLFhg0/7jsRZji+zaZomwsHl/+y7seG8XYmZE4LqPr0Hc9Ci7EmIDCq6D02RlFfdPCkTrmFazNcQFfcAdysqltUto+Sb50gIePCs4q/0xnu7wMrVL0L/M7m/2Dt/1tMhI3LtmFaaHhuA///kPXn/9dZ1PhCtDxHiEnDpxRi+XxFnY1t20FEs3zNO9PQTrgmLR0duju7QRT0dHuDqogkR/GxwvZRE5m3rrUMi7LmN0qC3j6OCALQsX4PYVy9BeX4c33ngDR48eNR0VLhcR4xFQW1OHbW/twOmTZ7DquoXYfOdquNvQUGd7ghYd3REGFFdDmIeii4M/TALsqH7vYH+VoSHxdHPF3co6vn7RAhw6eBAvvvgiKisrTUeFy0HE+BKwG9v2d9/Hwf2HMWd5IrbcsQohkYGmo4K1QR11c3CEh8nt0Nnbi+KW1iEFmXtL29vRYnJN0F1h7/7igUQFBeHuVauwLCEeu3fvxltvvSXuiitAxPgSnD19Dnt3HUCfQzfW3LAYMxZNHfcBJsLoQj8xu64RSsaBqho0dHepzx8VkNymZhQ0t2oLmg16wRx672TffY0HwsVNlyQl4rblSzFJFVzbtm3DiRMnTEevjtraWj3ny/vv78Sbb76Jt99+G3v37kVWVhZaWyd2psbRxqp6U4w3jQ1NePbfL+DAvkNYf8sSXP/xdfAP9jUdFSaaK+1NwV/Qwk1vbNJ9iNmrggM76MJwMS0bxW5sKfWNOFFbh6qODn3eFE93zPbz1aPxxFNxMc4qPgN9vFHd2IjtR47qYm3JkiVwdb2yubw5M9zp06eVEJ9BQUEBqqur0NDQgEZ1/bq6Ou0Kqaqq0j0cvLy8xmW8gXRtm0DefWs73nnjPUQmBeHWT23C1Dmx4/LShZFxxWKsMhNdDfQdF7W0aaHl4I6q9g7kKys4Q4k0tzz1ua6zSx/3d3HG4qAAJcie2rIWPoqXm5teKSSruARp+QW63/GcOXNMR0dOd3e3bgjMyMjQwkthpruQGsOtt7cXHaqAbG5uRn19vV6BxNd37AeAiRhPEAV5hXjh2VdQVl6Cmz+1ESu3LISru30vO2NpXM0IPLocOLDD3clBW8Uc1NGmMjlH2rH7WpMSZ+6jhRfu7qaFeKqPl/iLh4FCFaCs1C4lpntOnUZrZyfmzp172YNBzp49i9TU1AtuiPDwcD3kmhtH+tES7lTXpiC3tbXpeWK4j4I8logYTwAseV967lXs2bkPC9fNwHX3rkNoVJDpqGApXI0YE/Yh5nwTQWpz1SI7SaVjJSrqkhzyHOruipm+3pjn74dYb0+7HwY9ElydnXUPi9LaGhw8lwI3ZS0vW7ZsxFYr3RBcUaSpqUl/58g+CnpMTIyeB4OTEwUGBsLb21uLNZeCoiDTOuaxsRx0ImI8ASSfScFLz/8HfQ5duPWhzZi9NEnPsTwRcFKe5uoOvQIzlz5qUp+5VL4edOFs3y6TqxVjQlcFBTlQZWZawDFeHkjw9tJWMLd49TlIiQuFWxgZ3u7uulA7nJKmh0zToqV1OxLYMJebm6sNIq5MvXjxYoSFhWmxpRByGgT6oX18fPQEYhRvWsY85ufnN6bW8ViLsaSwAbS3teOdN7YhPzcfK69doIQ4ccJWEWmt7UThqVrkHKxG/rFaFJ6s06sz5x6u1ltNQYteVUO4Opi16LKgEE9XlvBMPx9M8/FGtIeHHvBBl4YwcmgdL5uWiOsWzkdGerruezzStfPKy8u1EJPY2Fjt4hhsHhpawNHR0RdcILSkKczWjIjxADjS7uTxMwiLC8SyTfMQGDYxk59wqsqis/UoOlOPmsIW/Z1zCbc3dKOhrB1laY1KnGvVsdbLWi9QEMaD8IAAXKvEOMbPFwcPHsSRI0dMR4aHjXKsZRO6HRyHcQ3RT0w3CKEPmZs1I2JsBpfaf++dHbrLzPqblmLq7JgJcU9wcdXyjEZUZjWhs6UHg3R/1e6LupI2lKc3okVZ0IJgSTgpa3ZuXCxuXb4U5aUlePWVV7Rv91KY+5ZpIRvCPBgDj42V+2C8EDE249TJMzh7OgURCcGYv3omfAO8TUfGl7b6LtQVtaKrbfgJafp6zqOxvB11xZdO5IIw3gR6e2Pt7JmIUxbu0WPHRjRvBX3BhiCzLzG7uQ0Fu7XRkia0kA0r2VoRMTbR1tau55/giJ9rblmOKVPDLyqlx5Omqg693P0wRsEFaDnTMqYwC4IlwZF5nNntjlXLUaOE9aWXXtK9H4YjUp1v5DsO9qioqBh0JWpa2TzOfsiEDXdj3bVtrBExNnH2VLLaziEiPgjzV82Aj//4rzZt0NnaM+KGub6+8+jp6kWvaW5eQbAkAry9sG72LMQFBmi/8fHjx01HBodizK5rFGRavsnJycjOztaiy0ZAdmejQLMfck5Ojv7Onhbs9mbtk9uLGCs4wuftN7bpF775zlWIig+bMKuYODj2r/M3ItRpk9W51u4vE2yTyZMmIz4sTM/sVldTg5dfflnnt6HgatMctcd+xEzTRUVFep6LkydP6uHR3CjoHBhCsWYDHwWcg0HETWED5GTl4oyyjAPCvTF/5Qx4+439YprD4eHvoidsHwmc3N3V2wkOzjIyTLBM/L28sGbWDIR6eWjrmMOchyMhIQGzZ89GUFCQ7tZG0U1PT9eifOrUKeTn52s3Bfsbs3vbrFmzdJ9ka8fuxZhj3jkHRUN9I665bQVCo4Mn1Com3iFu8Ax01QM7hoPGsEeAi17ySAxjwVLheoHRSlhvX7Fct8mwZwXz3VAw/3HU3YKFCxEfH69FmRYz3REUYFrNHAjCwSQcFMIFUSc6z44Gdi/GFeWVOLD3kF6/bcn6uRPqKzZwcnXQ68v5hLpisuPgKkvxpUUcHO8J3zCZ6F6wbNizYvOC+XCbPAk7duzQgzuGg+KaOHUqVq9ejaVLl2rXBcV35syZmDdvHlauXKn30yK2BSEmdi/GH+zYg7qaeqy6bgEiY0MnbNjzQLjKctRcPwREe8DVy+mCKNOXzJWZvUNcETXHT4m2j16LThAsGS7RFBsagusWzENlVRXeffdd05HhoUUcFxenLeA1a9ZoEaYYc3i1rS1+atdi3NnRiV3v70FPXzfW3rAUvoET0694MCi6oUk+SFwTgikL/JUF7AV/JcwU6YiZvpi6OhjR8/21UAuCNRCkrOObly9DT0eHXg1kpEOk7QW7FuPMjGwU5BYidkYEYhIj4exiecLmGeCCmEUBmHtDJBbdMQXzb4lC0toQZTF7XtKnLAiWBOesmBkVhWlhIUhLS9Pd04QPsdvczKGU7771HtpU6bz+5mUT3oNiJNBPLA11gjXj5+WJW1Ys170h3nj9ddNegditGLOz+J4P9mOyA7Bo3Rx4eEkjmCCMNZxec9P8uXDo69Pr2V1qRJ49YbdifPTQcTQ1NGHppjkICvVXoixVfkEYazhEOiIgANfMmYWa2lrsP3DAdESwWwXavXOfXh5m7Q1LxCoWhHGEa+XdtHwpujo7sW2EvSrsAbsUY66dtX/PIe1/nbUkCS5uttVFRhAsGXcXF6ycMY0jrvDee+9Z/TzEo4VdivGp42fQ0d6OZZvnwMvHQ4mytIoJwnjB/Obn7olrZs/SU2BeavIge8HuxJjTUtJF0dPT27/is5us+CwI442bizOuW7xQT4/JASDDTSJvL9ihZXweu3bu1qsILFo7G84TtL6dINgzbs7O2Dh/Lnq6u3WvCsHOxJilb0F+MRrqmzB9cRy8/bzA6ScFQRhfOJ8E56uYNyVaz0/MqTLt3Tq2KzHmTFEnj53CefV/wcoZcHIeerFDQRDGFmcnJ6ybM0vXUrlo6XAzudkDdifGxw4fV//PY56IsSBMKM6Ojlgze6bOl3v27BExNv23C9hod+TQMd2lbdrcODhYyAxtgmCPcAXphQkJXKwGH3zwwbCLj9oDdiPGLHVLikrR2NiEGYvi4OHNCdnFXywIEwXzn4+HBxbHx+klzwoLC+3aOrYbMaZfKjM9C+f7zuuBHmIVC8LEQ+t4adJULcIpKSk6n9ordiTGfUhPy9QuiukL4uEgc1EIwoTDuSoWJMRrVwVXghYxtgP61EtOPZeuPk1C4pxYmRhIECwAivG8uDg9NyxXfOYgEHvFbhSJkwJlZWTD3dsFIZFBNrNuliBYM8yHMSHB8HRyQrISY3tuxLMLRerr7UNVRRXaWtsQOz0KLq6yVJEgWAocjTc9KgKNTU16AIi9NuLZhRjTD1VcVKr9xQmzoqUXhSBYEMyPs2JitN+YPSrs1VVhH2Lc14vSEiXGkydhSkK49k8JgmAZUIwTI8IxWf2nGNtrI56dWMZ9KCku0y89Mi5MtNjO6FWWVlVpKQ68+w72v/2Wae/wHN35Phpqa0zfhLGE2TEhPFTnz4KCAhFjW4YvlwM++LIjYvtfujA0+w/sRe0wQpSWnorMrAzTN8unvbUVGadP6eqvl5+fae/w8PzWxibTN+uhTIlZ+smTpm8fpa2lBYd3bDd9swyYH+PDaCRNQn5+voixLdMvxiXaTREaFTQqYpyXn6tFyRZxdXW90Nvk5OkTKCsv058NnJyc9GYtdLS3KZHKx9zlKzBv5SrTXtvEwdERTs7908LWVlYg5egR/dmAad/F1bKWGWOY2KOCbgoRYxtH96aoqoabh/OorXdXWFiAjEz2W7Y9Fi9aCj8/f/357NkzqFSZ2pypCYmIi403fbN8+np60aGsY9+AANMe2yUkMhIJs2frz/UqzQ+0kt08PLBgzRrTN8vBx90D7s5OKCsrs1sxdnhcYfp8VXAu0s6uDjS1NZj2WAYMV1NTM578xzMIiQ7AXZ+9znTkyikozMfJU8f1ePq2tla0t7cjKCgYNTXVSE5J1mvspWWkaRHz8/XH8ZPHEBUZbfp1P3v37UZkRJS2QDmLa1lZKbJU1Z8Wd2NTI9zd3OCsLJzBrPj8/DwUFhWgtq5W/SYTVdXV2ur39PDU5/OZ25U1mJObo69ZqhI4q+g+3j4XrlffUI+0tFRk52Qpy7dU7/NQGYLhOXnqhL5/prr2uXNn9PPQbeHi7AIvL2/k5uWgvr4Ozc1Ner+vD6/bX673ne9DTW018vJyEajEj/1GC1hwZaWjqLgInZ0d6nzfC5Z3Q0ODrmEwHKUqDvpU2BkOB4dLD1f3qge8G4av5bQ0NuDU/n0oV9V3FUhUqXuERkWjQ723AvV8hRkZumrfouLcw9tbW5aMo7OHDiJuxkx4+/npqn1xTjby1bnlRYXo7GiHs4ofwwJtbmxESU4OCtX1aisq9Pt09+x/FwPpVGmF1z6v/nLOnUOZihsuzOnl63chTjjFa0VRkb4fLfq25ma4uqv7Oan7qWsy7KXKgsxPT0e5+n2bKmicXVzV5qJ94xXFxUz4OHv4IKpVraZXvQP6v4MjItRv25By7Ch8AwOQcvwYAsPCL9yX9PZ0I+34CXiod8rnqykvR2Fmpnr+HDSpNOPi1n8fPhuvxfDlZ6Tr/63NLfqYs6pZXS683hPb30dVQyM++8gj8Bwi/iYS1gYZV2MVLpu3jClMzSqRMP78g31Ne6+OTiVO7SpDciHFBpXZ21SiJJVVFdi5cwfSVeKsq6vR63u1tLbgg13v6+PmvLPt7Qsd3CnaZ86e1mJUq36XroQ8KztLC/1gUNh27/1AnZOJ6poq5Bfk4pwqBKpVYUA6lOBRiJOTz6JaCWN5RakW2JJSlUkV7Md5SGXUfJWB6upr9e8yVJiNhSEPHNynBLUGrSrsDCPDwefs7Oo/3h++DFRUlOvP9fVKFU20t7Ursc7V9+f1KMTJyWd0OKuqK7WlzcLM4MjRQ6oAytMFC8NKX3SHitvRoldZxW0tzdraalbC36qEkw16qSdOoFoVUk0q7I3q3jkpKSjIzNArTwwkLzUFeelpqKuq1KJWkpeHxpp+n3prU5P+Xb7a6lWhSLHOSTmnXQSDQQHb99abSD91Up9fX1WFVCWKZUpcOUqUVJaW6ONVJcXqnlXIOpusBbHdlM6KsrMv3KOhplYJsyqYTfejOGecPqnfW3tLq35WPnebygOEcXFkxw50d3Vpv3hlSZHeb1CpxDxLpRsWOLWVlchU74vP1KDeTYFKI3xWXoOUqPecrQoUCnZDba0uWKrV5yslxE/lT5VfW1ThZ48Tzdu8GLMnRaMqbVma+QX5mPZeHUlJ0zFrxmzExcXj1ptvx6KFi01H6LNzQLiyNrZsvg4b1m807R2eUyrjccWR5ctW4Not12P6tOna+qTlPRROjk5InJqErVu26vtzgdVMlVFIo8p8FNeoqChs2XQt1q1ZDzdlyR0/cUwfZ0I/dfo4opWFuOmaLWrbjJCQ0I/M17Fi+SqEhUVotwWfMzYmznSEw1gdEaEseycHJyXqeRcyT50StqrKKsyYNgNtKkypaecQFBys77FZ3SskJASHjx7W55LTZ0+pGkIENm7YpM8JDw1T4Ri9eaZ9lHW+ZMNGbfVec/sdWHX9DXo/xWj6/PlYfcMNWHPjTYidMUOLE0VoIBQ/J1UroL95xeZrMSUxSVl//WsnVihrn6I+JTERK6/dinkrVurJqPLS0vTxwWBa9FThWbl1qwrP9fALDETy0SMXCue0kyfh6OSI+avX6GuGx8agMDtHFwSEljwL1NlLl2HFlmsxddasj/iB6a6Yq8ISEByin3vxhg2mI9q41u6KxLlzce7o0Qvvjv/TVCHFuPBQNaAsJcR9fb2Ys3w5Vl13PeJnzlJiX6QLCFKhPvd0d2HmkiU6HIlz5mgL/koJ9vXVccN0b4+uCpsXYybaC2Ic6GXaO3bQFTBTVW9ZpR8pOXnZOpxsvDh37iyaleVRXlGG1iEsYxIeHqH9tq6u7vozBY+/IW3tbdrVMXv2HLip43QLzJk1W7tACONiasJU7WI4ozJcjqqCR0REwvkywkyCgoLg6eWpLPtKHVZawrSoe3p7MGVKjHaV0DJmxqJLhO6IHlUNLlDibZAQn6Az31n13AxHmCrIXFRVdyyhK2Le8hXKIq5HtrI6M0+fRpeyOitLSlSV/qMDDli95zPQLZCnNlbFvX37e2XQuqWV3KIKQLodygsLtbVMa3EoHFX1f+biJXB1c9cbRdXcMqZLJUYVyHQluLq7Y+rs2ehUcWlYtwGqQJvs4ICCrCzkqnhl3zA/9S4uBwdVmMeqArNKPXOjin8KMWsJFNrohATtIivJzdXxwfAwnujyqVXP1drUbxn7hwSrQsNJF1a5qak6DfurdHilBKkCio14TA+8lr1h+24K9VJbW9q0T5XL8o8aKgMM5jmir9PF5UOfGc+h+JknLgqSCln/FwUtomJlYWVkpinBSlOilAN/P3/tAx4K3sfwq3KyFW6GNcGMxYEutFr7maQzjTGyiX6vzZu2qut7aX/x2eQzOHb8iBbPgaigDwkLnNCQMH1SoarK0o9MMY6NjdU9Mmgh0tWRm5ujn4vum2KV+RPiEkxXADYqa9hbFWDlKpOfVdXjoyocwxVCo4EuHFRtJEOJcG7qOeSmpCihTUObEhn6vAcyY9EihEVPUdX9RmXxpiL1+NEL1XE2DjcoMS7IzFTC2O/qoF84ODxcHx8MRql5bxSKM321hoXaqwoz1rAMPzwLj/MqXNwIG+iiVWHarqrzBekZ2s1BV8JH0Imv/+NAmCa9VCEdGR+P9FMnmGiQeea0/u7JNgCVRpheKlW6ZCHEZ6PosoZBq57ETZ+hagTTtOulIKM/HPRlXym+nh46XE3N6j2IGNsebCjp7OxSaXISXEZxWf7JKqMw6ww2dJMJyoCJmsJUXV2lE1hXV6f2qRoZj0Qoy5auhltvvgP33Xs/7rnrXi2WAQGBpjM+CoWPPlgKO322HNdPAScUSQ93TxQWF6JbHad/u0hl1tCQUH2c925ra8diZZ3dceudWLZ0BVJSU3RD5EAmT3bQ4mUI/UDo3vDy9NKNiuwCR/85rV1CCzdeCe+aVWv1M9137ydw5+13Y7X6bsD5QhYuXITbb71Du2noaqGAjyWsWp/atx8xSUnYeMeduPbee7Fo/QZdYJmVkRfo7OhEVEI81t54I5Zecw1alViwIZB4+vogbtZMrLj2Wlz38ftx/f2fxIZbb8PUOXP18cGgH5tWJ/3T3Chy/ioeae0S/+AQVJeWabHl8YqiYjipAt5wRXSr9BwaFYXV112P5Vs263RFy3ogOh2qjc87GCzMZyxYpCz6FNSrQpQFSsLMmdolQwLDwjB90WJsuO023KCea+vH79PuioDQ/nTU1dWlaw2rtl6nnn+LLuT5XFcK56hg4cEGTfP8YS/Yvhird6obZdRLHs017zyVAFGIU5RlZbgHBoPCGBMdq/216RnKqlJVdboGzBPbgnkLVXW+EKnK+kjPTEeaOu/s2dPa1TAU1ap6nKoENDU9RTfesaEwQVlLxFtZLlGRUfo+dA2kqjBmZ2dh/tyF+jjvffLkCf1bNgZWVVUiKDAQjsoCG0iAf4AuSNLVdRoaPmyoM2Crd1BgkC4c6DsOVtVlL89+y4k9L9gNji4IhoP34j1piRucVtYY/co8VqnC4a/up3sNjCG0OH0D/VW1vE43QtG/m85BIUwng1CUk42ss2d1rwG6MlxU4creEoQ9M+hKYKMXrWZu/FysagNDwQI0S72zXPX+2BDHxrpp8+dfiP+pc+eilK4BdYzV/8wzZxCoBNDbv7+w5bFMFR42KpYXFWlR9VS1i4FQvOlSyU5O1n7mgdBQCFJi6ubliZN798AnwB++ygAwelckqTCxNwbdL7xXngpLhnpfdGsQ9vigNU1XCS1zir+X75U3krs4O2mjie4uEWNbRL1Uo2HE2WX0Biqw8cvX1w9Hjx3Wokjc3T20z9Mcd5VRV6xYqazTDuw/uF9boLNmzdIWo5Hop05NxJzZc5Sol+teDikqEwYrS4miOhSBSjxp9ZxQosoeGNMSkxAbE6uPUQTnzpmnhZS9KDKVECeq6iR9yISZZqaygNidbP+BfSguKdbWK4WV0H/s5uauP8+aOVtb1vsP7UdpWYnex+v6mY1kCw0N09a9k4OjblQ04LPPnDkLMVOmIEUVNOylweGus2b194Ml01VVNy8vrz8cKkOvXL4SPsM895XgpASJbgYDdtlavvla3Q3sxO7dSthU9TwuTvtKnZQgEFqeLm79lmj4lBhtDScfPqQFOSIuXp3f38+aPtKps+Zo4WPD27kjR7SbIiK2/10MBt0OU9Q7Z2MZq/YRsfGYvmBBv2WuSFBxFjttmrZ209T79fDx1o1t7GZHQiIj0KOs0pSjR7WYB6r4j5s5Qx+jG4GNdsRXpRGGlV3YjMEfLOjCYmL0Z8I0OH/VatRVVGLmoiUXwkCiVQ0nUVn49TU1OHvwoC6Q2FfbCEdQeLi2yvkMFHy/oOALfZyvBBfTvWlx26MYT1IPPSpPzVbXxpZ6lFRfuc9oLGhtacXzz7yMv/3pn/jK//sEbnvoWtMR62Xb9nd0Yr3u2v6eAfZKeJ4qOPKHcIpaKI21tXjm17/EF378U9MeweAv776H/37i3/ifb38bn/nMZy4YB5YCeySx9mLuhhxN7MBnTB9dv19X1r0TBMuF6+ERuv/ETWGDsAwz+q329thGC62Hh+ewPS0Ey4WNdJfbDc1e6DY1Eg/WdmEP2L4YqyoFuxGxpO3qGryBxtqgf3fN6nWmb4I1wQaue7/8VdM3wZzO7n5f8VDTANg6tt+ARzE2Ncp0d9rnCgKCYA10Gg3tIsa2CV+p7mB/vr+VVhAEy6RT1Vw5LkDE2EbhS3V2ctQvubvTNtwUgmCLdHIoujKaRIxtFHZs9/Dy1L6opvqxHWYrCMKVU9fSrPMp+9cbffDtCZt/Ys7Z4Ovro+dJqK8eekSbIAgTS3VDk57P2t/fX8TYFpnsoMTYT4mxesn1NSLGgmCpVDU26HwaEBBwYRIse8L2xViVsF7eXtoyrquyrFVIBEH4kKr6Rm0Ze3l5iWVsq7ATuYurC+oqrG+1X0GwF6qam7UQy6APG4auiuDQIHR2dKOtdfSW9BEEYXRoamtDe3c3QsPC7NIqJnbx1PQ/RUZFaldFeWGV9ksJgmAZMD8WVFZpFwUXJhDL2IahGEdFKzFWL7skv1LEWBAsCObHnPJy/T8uLs4uG++InYjxZEREhfeLcS5fuumAIAgTDrNjTlm/GE+ZMkXE2JZxmOyAyEglxn3nUZRbxqLYdEQQhIlGW8ZlZdpNIWJs43Ae4+gpUf0vPbVQ/xcEwTKgCJ/L78+XdFOIz9iG4ZDogKAAvax8fmoJumSOCkGwGDh1ZlppGfwDAvRyYtKbwobhlCN6peLEeLQ2taO8qH+lZkGwRrr6elHV0YG85hbkNDWjpLUNLd2c8cz6YD7Mq6hEc3s7ZsyYofOpvWI3RRD9UDNmTdMJNvtcAfp6RYwF66KtpwfpDY3YVV6FD8oqsa+iCvsrqrFHfd+pvh+rrkVNR6fpbOugV4nx2bz+dTPnzZtnty4KYkdiPBnTZyTpptvMs3kixoJVUd/ZhZM1dThUWYOztQ3IbWpRFnE7StvaUdDSirSGJhyrqsWhqhptMdMPaw1QjE/n5Wkjac6cOXbbeEfsyjLWYqw4ezgDvSLGgpXQqizis3X1OF1bj4r2DvQoAfNyckSEhxuiPd0R4OIMh0mT0NjdjQwlyhTt4tY2068tGz7L4bQMPX/x7NmzRYztATYKhIWHISg4EHlpJWiqb5FeFZdJd3svmms60FjejubqDnS1cxVf00FhzMhqbNaWb1N3D5yVWCX6eGFlSBBWG1toMOb5+8JfiXKXErdCZSmn1jdqP7Ilw/xX29SEtOJSREREIDIy0m4b74hdPbmLqzPmL5yLjtYu5KQUoLenfzVaYXi62npQldOM/BOqCnykBrlHqpF3tAb5x2tRld2EzlbpnTJWtCgBzmpsQmNXNyYr6zHB2xPLlEExL8BXffZCrJcnZvr56H2z1X9vZyd0qFofLeMiC7eOuRr02fx8tKpCY/ny5XqFD3vGrsSYpe7S5Yt1lej0wTR0d8kCpZeio6UbZemNWoALT9ahIrMJ1Xkt+n/RqTq9vyytEe1NIshjQUV7O+qVEPcqK9JPidUMX2+Eu7vBcdKHWZe9hXyUCE9Tx2I83fW+JiVwlu6q6Orpwb7kVJ0v165da9cuCmJ3Yrxg8Tz9/8T+cyLGl4CNnFU5TSg+U4emyg71/WKfBL83V3eiJLkelcpC7ukSP/xoU9vRhS5T+0aYuyv8XVy0f3gw/Fyc1Tlu+jh/Q2u657zlvpMuVWDsPpeiRZiWsT27KIhdPT0t4uiYaISEBiMvtRg1lfXSq2IYWuu6UJnVjPbG4a3etoZuVOU2o6Wmw7RHGC3Yp9joGeHu6ACnyUMv1Elr2XWyg/o/SfdO6Ok7j+4+y0zf7EVRWluH9JJS7SuOiYnR+dOesbuiyFEl6OWrl6K36zySj2TIaLxhqCtp0+6HkTTStTd0ob7UOlrwrQk22NFXTNp7eocVV4pvpzIu6NLgLxyVcJu7MyyJDmW1H0xLR696tk2bNtm9i4LYnRiz9N2wca3uXH5g23F0tFtXJ/nxhALb0zkyy6qrvVf8xmOAv7OTEuT+bMpubexvTLEdjIauLpS3t6NHHedvvJ2clCVtmVm8vasT7xw/ofPh1q1b7d4qJnYnxmTegjnw9ffFmYPpaKhtQp+yKISPwjw/EqvYwILdk1ZLqLsbfJUg0w/M0XWZjc2oaGu/yEKmG4MNduwCl9/cqvdRiKM8+hvzLA0Oga5ubMThjEwEBQVh0aJFpiP2jV2KsYenBxYuno+Olh6kn85FV0eX6YhgjqunIxydRmaxODpPhouH/Q5lHSu8lKhO9fbSvSUI+w8fqa7VwlumRLncNALveE0tTtXWaVF2VtZwhBJxo2eFpdGuLPhjWdm6296aNWvg6elpOmLf2KUYk/Ub18JZJfD97xxDa7P4OgfDJ8wNLl5KBEagx27ezvAJcTV9E0aTGX7eWpA9nBy1iyK9oQnvlpThzaJSvFPc//9IZS0auvqFeIoyNmarmp+HEnJLpFkVIG8fPa4nBaKLQujHbsWY/Y3pqjj8/llUl0uvisHwDXeHX6Q7nN2Gb1xxUsf9ovrPFUYfNwdHLAsKwBw/XwS4umjBZdc1ui3oR6aFyUY+TyXW8V6eWBLkrwXZEulR4S6prcX7Z5K1i2L16tWmI4LdirE3h5SuWYa+rvM4fSAVbS2yavRAJjtMQtRcPwQneMHF0xGTBnSr4ndndweEqOMRM33h6CIt4mOFl6rFrQ4NwvqwYCSptBvs5qoHgfiqjXNTcI6KFcGB2BgRqkflWSrN7W3YnXwOPapA2XLttfD29jYdESadH6UJGvr6etHYUo+S6v7p8KyBE0dP4RtffhTRM0Lw2J+/iMiY0BFVyccSLg3FwRRsDGOvJAriQBEcbzrbelCe3qgHdnQ0cT6K87r129XLUQt12DQf9Xn8q8TheUBE/gS/sAmAGZaTBzV1dYFtzx6ODsoqttyeEwZUmtzycjzw698ip74RTz/zDJYuWWI6avm4ubnp3h9j1fPDrsW4t7cXH7/9AWRl5ODXrz+KBatmwcl5Yhqh+BrYjaytsVOPauvu6IWTsjQ9A13g7uMMR1cHTJ5gUe7p6lXh69ITBjmp8LipcDGME4W9irG10skRd8oqvunH/4v58+dj+44dVjXqbqzF2G7dFIQdzbfeeC08PD2x+42jqK9pNB0ZX1gcttZ3In13BU68VITU7eXI2luF1B3lOP5SIdJ3VeiZ0gYORx5vHJ0d4B3khoBoT3gHu02oEAvWR3VjE147fARe3t6448477X7480DsPjauu2ELfH19sP3lfagoqtZ9IMebtoZOnHu3DBUZjR+Z36Gv57yelCdzbwVqizjtp+mAIFgRHP5cVF2Nl/cfhL+/P2699VbTEcHA7sU4KCQQq9atwOReRxzbdRaNtc2mI+OEEtesvZVoqe0cdtBEY3kHytMa1Xky/4NgfdQoq/i9E6dw3tkF1113HYKDg01HBAOpJyhuu/Mm+Pn74d0X9qCytMa0d3xoKG9DY0WHtoAvRV1xG5rUuYJgbZTW1uL5Pfu0VXzPPfeY9grmiBgrEhLjMWP2NNSVN+Pc0Sw0N7SYjow9nFynt2dkrpHO1h60N3Wht3v8XSmCcKXUt7TgUEYGKtra9NDn6dOnm44I5ogYK9g6esvtNyIgMABvPb0TpfmVpiNjDyfY0X2VRgh9yj0ixoIVkVdegX/t2KldE/fee6803A2BxIqJxcsW6qX8S7KrceZQOhrrxsd37OzqcFl9mx2cJqtNunMJ1kFtUzP2pqYhu7oWc+fOxcqVK01HhIGIGJtwcnLS1nFgUCDefX4PinPLTUfGFp9wN0x2HNlrcHZ31HNAcE5mQbAGssvK8OyuPQgLD8cnP/lJu1/nbjhEjM1YuGQBZs6ajrK8mgvTa441vqFueoKdyY6Xtnb9I937J+MRw1iwAjhN5t6UVBTUN2DhwoV6aSVhaESMzXB1dcENt2xFcFCQ7lmRm1qkR8aNJbSK41cEwTPAZdhhzxTh0Gne8FDnCYKlw3xzrqAQz+7eg1BlFbMHhaurzOo3HCLGA1iwaJ6ykOejrqwJh3acQmXJ2Hd18wpyxfQNIQhN8oKTy8WvhD7ikKleSFgZjIApnnquCkGwdAqrq/HuiZOoau/QcxYvsaI5KCYKEeMBuLm74eY7btKLJO546QBSjmeip3tsV5HmnBM+oe5IWBGMOTdGYpoS5vjlgUhaG4y510dg6uoQPT0lJ3AXBEunu6cHxzOz8fL+Q4iOidVWsbu7TK96KSR3D0JiUjzWrF8F9Dpg/7snUZRTZjoydtBF4e7rjIAoD4RP90XUXH+Ez/RFQIwnPPyctYUsCNZAZkkp3jhyDOfd3PTk8TNmzDAdEYZDcvggsMV3y3UbkTA1Dsc+SMbJfalobRqf1UAoypwRjUsYObs5iltCsCoaW1ux51wKPlDbjJkz9RwUXNFDuDQixkMQGR2BzVuvgbeHD3a8cgBpJ7PHvDFPEKwZLox6PCsbL+w7AJ/gYNxyyy2YMmWK6ahwKUSMh4DTa65ZvxpLVy5BWW419r1zfFxH5gmCtcGJ418/egz59fVYt24dNm3apPORMDJEjIchINAfW2/YjJiYGOx/5ySOfnBWlmcShEFo7ejAB2eS8c7xk5g6bTruuOMOvcadMHJEjC8Bh0hv3LIejpNcsOv1w+KuEIQBMD8czczCKwcPwdHbBzfddJMe+ixcHiLGl4CND2s3rMayFYtRlFmuBPkISvLGZ6i0IFgDHPJMIc6srMb69etx7bXXjlqjXVtbG6qqqlBaWory8nI0Njaip2dsu5pOFA6PK0yfrwqWjp1dHWhqazDtsR08vTx1P8m87AKkns2Eu5cbYpIi4OImrcQTiVc94N0gvU0mEk6P+eK+A3hebfEzZuLBBx/ErFmzTEevnIaGBuTk5OgtPz8fxcXFKFOiX1lZqY9Rbyj4XJNuvOD8NZxxbqzWwBMxHgGM/MCgAP2ZYlyYW4ygcH9Ex4dhsoNULiYKEeOJpae3FztOncZf33sffR6eeOCBB7Bx48arFkiK7rlz55CWlqZFuL6+Hk1NTdoqrqmp0ZYyPxMaSeM1+dBYi7EoyQhhKbx63UrtP+ZQ6e0v7kd2SoHpqCDYF2w1OZOXj2d370V5axtuvvlmbN68+arnn6iursbJkyeRnp6O5uZmLX4+vr56LuTAwEB9/e7ubi3SZ86cQV5eHtrbbaNRXSzjy8Ddwx3e3l6orqxB8qlU9PT0YkpiBLx8PUxnCOOJWMYTR0FlJf7+3g7sTEnDynXrcP/99yM2NtZ09MqgyB45ckQLbK+yur28vBAXF4fEqVN1f+WwsDB4+/igTx3r7OxEa2urFmJvb2/4qP1jZbEaiGVsYUxNSsB1N1+LiLBIHNh2EjtfPTAuU20KgqXACeNf2n8Qb584haiEBN2NbTSWUqI/mP5hCjEt4JkzZ+ppN/k/Pj4eiYmJWLxokV66KSQkRPdhpiVNK5nCbO2IGF8mTACLly7AbXfdDOdJbtj2/H4lyifQ0dZpOkOwdjiSrFlZaZxxrKytHRXK+mro6kJ3X9/lrJBlk7SreOBsbM/t3Q8HL2/cpyxirt4xGoM7srOztXVMoqKi9JwWHh4eF1mivA/7/SeoQsDT0xN96p1QkOlXtnZsVoxVftIlbHdX96h3hWGpvXrtCtxyx4166fzXn3gfZ4+ko7en13SGYK1QdLObWnCypg4HK6uxt7wK+yuqcay6Fqn1jahUAt2lBMAeYYPdobR0/O29Hajr7tGuCfqJR2tGNlrGFFdCsR3K/0xxDg8Ph6+vr/5O33JLy/gtIjxW2JwY82W2tbajprIWpYUVKMovQ0lhOaoratHa0qZ926MBl/bfsGkdtly/EWX5NXjxT+8g61z+hcQkWBdMFRVKaI9W1WJbSZkS4hqkNjQht7kFmY3NSozrsKO0Qotzrqqmt9tZwdt3vg9n8vLw69ffRG5NLW6/4w49uCMoMNB0xtVDP7AB/cXDLVzq5uZ2oRcFjS1b6HtsU2JMS5gLieZmFOL00RS9pZzKwNnjaTh5OBlZaXloqG0cNUGOnhKJG27eiqVLFyPjZD6e/d2bKOZ0m/Zel7VCajs6sbusEqdr69GirD6HyZPg7eSEABcX+KlM7+IwWbspspUQH1BCnaP+d/baR8HL5MyBHb/8zxs4kV+I1evX484779TugtHEvEtcR0fHsPm0S9VgDAGm62I03CQTjc2IMS3SxvpmZKbmIi+rEO1tHaYjCvVOOzu6UJRXqoW5qaF51AQ5aXoiPvaJu3QDxsk9aXhGCXJl6divDiKMHhRZuiQKW1vRo9KFpxKFeC9PLA0OwPqwYKwKDcRMXx8EuLrAUVWR6ao4U1eP0rbRq2lZMqXKEv7N629jb3oGZi9YgE9/+tO6UW20CQgIuOAfLioqushSNodxzr7GdE8QukloKVs7NiPGbEArKShHZVm1ac8gqHzTqIQ4PTkH3aO0egcTz8zZM/DJh+5DRFgEDr57Ci/++R3U10gPC2uhpLUNWcrS7ek7ry3gBYF+uC4qHEuDAjDN1xtz/f1wbWQYVocEIcjNFZPVOy9pbUd+cwvaVW3MluGion98+x28dfwkImLj8KUvfUkvLjqcC+FKYdc4wzrOysrSw58HWsis/bKxjt3f+J/5j/2P/fz8TGdYLzYhxnxZLc2tKC8d2RSXVeU1aG5swXmV+UYDVpHmLZiDT3/uAXi6eekBIa89sR1N9dbfqHC58F30dvehp6sPvT19VmE5smGOQkymenthfoA/PAaMIqMAz/DzwQwlzjzWq56rsr0TNR2224umThU2f3n3PTy1ex88lNX6jW98A8uWLRuzIcjsvkZhpdBzTooDBw5oUa6trb0wAo9zVBw+fBiFhYUX+iJHRERcaMyzZmxi0Edvbx9qq1W1sbDCtOfSeHi5wy/AZ9RKeAdHB4SEBuvtyIETOHciE45ODkiYNQXOLk6ms2yXPiVm3e29aGvoRkNZG5oq29HR3N9NiUI22XHSRV2URoPRGvSxu7wKrSb/47qwYAS7uugwD4R7uIB3lbLWGrq69edQdzcEK2vZ1mhSYvjnd7fhD0qMHT09QZnYsGHDmLoDmBc5eKOiokK7KGgVFxQU6I19iTkqLyUlRQ+JNu+LzP7H4zEkWuamGAFcMLSuphHVlbWmPZfG29cTgSEBo1rd4suKiAxHhKriHtxzBMlHM5QQOyJxTgycnMfGmrAE+nrPo7m6A/nHapG1vxLl6U2ozmtBZVYzKrKa0N3ZCw9/Zzi6OIxqQh4tMd6nxLjbZMGvDAmGp7OTFt7BYDovam3TFrGjUuNIJcZharMlODfxP7e/j1++/hbOK5H7yU9+gi1btug+v2MNR9NxozXMBjq2BVGY2XWNo+34nTVR+ok5IRE39jceD2QE3ghgBDkqy/RycB4mw10NXF2ac1j8z3e/hr7u83j612/g9Sd32uygEIpTfUkbsvZWojSlAT2dF/cwoLVccrYe57aVo91kKVsazg4qg5k+d/b1DOta6VY1gF6TS8Nh0mQ4jGJhbglwUMfftm3HT15+Fd3q2X7xi1/oRUXHQ4gN2Evj+uuv10JLXzAtYM4Nw43hmKKOX3PNNXokHt0UtoJNWMacOY2DOyrLapSVdunuRizZpk6P066KsSjlWIJGRkUgPiEWH7y3Byf3n1PVqh7MWTpNuzNsiba6LhSdrUNV7tD+cWpbV3sPOpt7EDLVW8W56cBVMlqWcU5jMxpV7YoS6+fihGBXNzgNIrI8XtDcgpzmZrT29CLAxRnx3p66+5st0NndjT+9sw0/evEVdKnvv/vd70Z1UMflQOGNjo7WbgjOT0GB5oi8xYsXY8b06Vqkx7s7m1jGI8Tdww0h4SNb5sXH1xN+gfQXj02kElc3V6xauwI/+b8f4LwqH579zdv4w/eeRne3bbW+N1Z0oLbg0itn9/WcR11xG5qrLW+GrUQfL91ljZyorkd1Z4duoDOH35qU1ZjZ2IRqU6MdxZibLcDRdY8/8xy+9+wL6FLP/uc//1m7JiZCiM2h4LLLG4dHh4aGap/1WInhRGMzYkwrd0p8JLy8h69O0Z0xd8msy3ZrXAkuri5YuWY5fvvnX8HF2QWv/lVV/z7/e+3jtgXYa6K9qQudrSNzP/T19GlBtjRm+/vBS1k9zOItPT14s7AUKfUN6DR1W2Otr7ilFe8WlyOrsQX0Ung7OSLay0NZ0tZvFff29eELf/oLfv3mO3BUz/Pss89qIbaFvrvWxCSV0C42Aa6Qvr5eNLbUo6Q637Rn/KFzv6G+GRnJ2Xr4szksTX18vTB38Uz4+HuNa+nKyU/SUzPwtS9+C3W1dVi+eS6+99cvwdvP06pL+c62bhQcr0XBiTrTnuFxcJqMqHm+SFoTatpzdYTnARH5oxN/eU3NeL2oFG09vaZeE5PgpgpsDgDpUKLM/d2qisPcwoY79kFeoraBXeCsCWb9upYWfOqXv8X2s8kIVpbnU089hdmzZ4/bhO3WBAsndusbqzxrU2JM+Dj0H3NwR111Izo7OuCsqpLsxuYf6AtHZdFMhABykEleTh7+56vfRXFhMRJmReOH//oKouPDrXa1kJ7OXiXEtcg9MrIRh47OkxG7NABxS0Zn1eDRFGPO1Jbd2Iz3yyrQqNIPM4X5lY1M4qqqzQsD/bAgwA/eSrDGPyWNDrSGs0pLcf8vfo3kIpUeExPxj3/8A0lJSdo3KnwUEeMrhFYy+75qU0ZFHv3Do9mN7UrgrG4VFZX4fz/6JQ7uPwy/EB985w+PYOEaZYlYY19kFbUl5+qRtb8K3R2X9oU7uzlg7o0R8I8ana5IoynGhH7iuq5OJNc2IEMV5o2qRkORJu7KSp7i6YE5/r6IdHfXojwBZfqo0KUMgwOpaXj4d39AcX0D1q5fj1/+8pd68MRYDeiwBUSMbQwWEHW1tfjbn/6F/7z0Brz8PPDZx+7C5jtXw93T+nx0jRXtyDtag6qc/nkChmKywyT4RbpjwS3RegDIaDDaYkyYHTpVQc6tVYlxhypAHVXNhe4KCrDzZAftprBWmtvb8cLe/fj+8y+ivrUND3zqU/ja176GoKCgCTdWLJ2xFmNZdmmc4Yvk8k0z58yAr58vjhw4jjOH0lBX3YD4mdHw8LKu1mJnV5U4ldC21nWiq21w65iP4+HnjGnrQ+HmM3q+yLFYdolx76hEicJLf7CPizN8VLXdTX12VvsHG5lnDTB/ltTU4EdKhH//zjbtA3/sscfw8MMP6/XlrCnNTRRj3bVNxHiCYCkbFx+DpGmJOH0iGSkns5B+KhsRsSHwD/K1mv7Ik5SV6OblBHclshxpx77E5nUtNtoFxnhg6qpg+IS66/NHi7FeA4+ZjuLL/9YsVV09PTiZk4NvPvFvbDt1Fl4BAfj5z3+OG2+8Ef7+/qazhEsx1mIsbooJpr29AxlpmfjHX57E2TPJCI7wxb1fuglrbliih2xbC/3d3Lr1yictNV3o6eqFk6sDvAJd4RnoAlcl2HRVjCZj4aawNdhb4o3DR/GbN95CaWMTlixfjq9+9au6x8RE9yG2NsRnbAdwlemiwiK89fq7eP3lt7Rwrdg6H7c9uBkxSZHWM3G2SkmctIkztp3vPa/F19HZYdR8xAMRMR4aDuLIKi3DP3e8j9eOHEeL+v6xe+/Ffffdp5c0spo0ZUGIGNsRlRVVOLj/CJ576kXU1FUjYXY0bv3UJizdMBeePuM3N4C1IGI8OA2trXj/1Gn8Y/v7SCkpQ2BEhPYNr1+/XveYGCsxsXVEjO2M5uYWpKek483X3sXhg0fgFeCO9TcvxZa7ViF6aoS0eJshYnwx7DucWVKiV25+/cgx1HV24ZpNm3DPPfdg7ty5ejY04coRMbZDOFdrYX4R9u89hNdffhPN7U1Imh+DjbetxLKN8+EXKJmKiBh/SG1zM3aePoMX9u3HidwCeAUFaZcEJ/rhpO3ilrh6RIztmLq6epw+cQbbt+3EqROn4eXvhmWb5mHDrcsxbW4cnJzte6SUiHH/TGunc3Px6qEjeP/0WdR1dWH5qtW45ZZbsHTpUr1yhjA6iBjbORzanZebjyMHj2HHtg9QUV2OuJlRWL11IVZuWYjwmBC79QHasxgz2+ZVVOLd4yfwttpSS8oQHhurRZi+Ya5+IcOaRxcRY0HTUN+I5LPnsPeD/Th88CjOO/Zi/qoZWL5xHhasmYWAYOtfA+xysVcxrqivx57kFGw/dRr7U9PRp0RiwzXX6EngOeG6LSzOaYmIGAsX4HwbxUUlOHboBPbtOYiMjAx4B7pjyfo5WKZEedaSRD2VqL1gb2LMdemOqHe+/fRZfHAmGbWdXZgzf772C69ZuxaxMTHSwDuGiBgLH4EDRbKzcrTrglthUSEiE0KwSFnI81ZOx8yFU+HuZftz0dqLGHNNujN5+dilakY7z5xFVmUVYhMT9dJDXCR0+vTpMoBjHBAxFoakuakZKefSsH/PIRw/chIVleW6bzL7Jc9fPQOJs2Ph5mF7Kxcb2LoY94twHg6kpmNvShpO5RcgNDoaK1aswMaNG7Fw4UJxSYwjIsbCsPD11dbU4cTRkzisrOSU5FRUVldi5uIELF47B7OXJSJh5hSbdF/YqhjTHXGuoBCH0zOwK/kcjufmITQqSonvIt04t3LlSj3L2liJgjA4IsbCiKA/uaa6FseOHMfhA8eQmZ6NiopyzFySgIVrZiFpbqyeFS4w1HYmhrE1Ma5qaERqYSGOZedgjxLhI1k5CImMxPz587UlvHr1aj3DmviFJwYRY+GyoCjX1zXg2GE28h1AdmYuSktLMSUpDEs2zMXc5dMQOy0KoZGBVrvCiIEtiHGvyjdF1TVIKyzGcSXCH5w5i5TSMkTFxGhf8Nq1a7VvOCQkRER4ghExFq4ITmLfqCyt40dO4OC+w8jPK0RBfiG8g9ywfNNCzFgYj8i4UEyZGgEvXw+rrPJaqxgzyzW1tSNP1VzSS0pwNDMb7x0/heqODsTExuoZ1QxLmD5hcUdYBiLGwlXT2dGpG/o+2L4baSkZKC0pQ21tLeatnIYVWxYiaV4swqeEICjMT4/qs5bMb01ifF79cbRceW098isrkVJYhF1nk/WoOb/gYEyZMgWzZs3SqzKzgU56R1geIsbCqME5L3Ky8nBg70EcP6ossaoalKkqcXCUHxatnY3ZS5OUKAcjUIlyQIifXpfPkoXZ0sWYGatLCXBNYxPK6uqQXV7e3yh39hwK6xsQGRmpZ1GjK2LTpk2YNm2azCFhwYgYC2NCW1sbTh0/g507diM7I0cLc11tHaKmhuq+ygtWzUBUQrhedcTb3xMurs4WJ8yWKMbMTu1dXahrbkF1Y4OygqtwLCsb+1JScaawGAGBgdr/y1WYaQXTH+zl5WX6tWDJiBgLYwpff25OPo4dYi+Moygvr9ANgM3NTYifFYW5y6dj5qKpiIgNhW+gN7z9PODm4aYsuIlvTLIUMWaNo6WjA/UtSoCbmpBXUaH9wAdT05FSUgpvX189YU90dLTumrZmzRotxpZc6xA+ioixMG5QVLIzc3DEJMwV5ZVoURYe51gODPfB7KWJWpzjpkfBL8gHHp5ueqSfi5vLhIjzRIkxV9Gg9cuVlpvb2pUF3IjUoiI9OONwZhbKG5vg7eMDH7XRFcFRcnRFzJgxQ9wQVoyIsTAh9HT36Nni6Mo4cvi4nl+ZI/7aWttw3qEPkXHBmLU4CTMWJuiucrSaXZUou7g5a5eGk/PYJVqD8RDjPpU9uKBnhxLf9k5unahS4pteXIzjWTk4psQ3t7IKfSqTenh4wFdZwZwxjXNFLF++HEnqMzOwYP2IGAsTDpNIVWU1zp1JwYljp5CSnKa/dypxYk+NSQ7nERztr+dY5mi/uBnRiIgJgbuynJ1cHOHk5AhH0+bgOHqr646mGPMZafF2q43i26029n5o7mAXtErdD/hcQQFO5+SiqK4efZMd4Orqqrfw8HA9NJkj4zhrWmho6JgXRML4I2IsWBw9SqjKSstx7mwqzpxKRqoSZ7o0aE13KwGjkFF0w2ODED8rGlFx4YiMDVFbKIIjAuCsrGe6NVhl58ATfuZ/vU02LY0/ggQ/UjFmEqeFq7e+Pr08EV0y/N+jP/ehvbsLJTU1WnjzyiuQXVqGlIJC5FXXoFv9ztlZWftOTnqL0kOTF2LJkiX6P7+L9Wv7iBgLFg+FrbamVo/2y0zPQnpqJrIyclBbW6ePUaQ7VfWeI8gmKbENjPDRlnNweACCwvz1/0D1PzDUTzcQenp7KIvaqf98LcwqoRoZwPSdhBVMUlv/5/5U3J+UmaT53RDgrp5uNLa26B4O5fUNKK+rVem0FqUqfKW1tchXAlza0KjC1l9A6ELC9JlW7syZMzFnzhw9GIOfOS+E+H7tDxFjwSqhCDfUNeipPvfuOYiXnn0V0TGR6O7sRrUSwn7BNG19Zp/VRlFlgnfzcoaXnyc8fdzh5u6qLWiKNPs/04J2a1EZRG0U3A5lkXd2dWtrt62zQ4lvG+paWtHc1aWP94v6xduHYq9EPSxM+3q5xcXF6eXs+dnf31+EV9CIGAtWDS3mJ//+NN5/bzf+9cJfERoWii42glXWqK0KleVVqFCWaaX6XKX+N9Q3oamxCQ3KUm1uatFW9eUmUSOz0LXABjUKKocV+6n/EeHheqAFxZf/6e+l9ctzxyqTCbaBiLFg1XBOjEe/8X34eHvjL//6nWmvyaFgSnrmSbD/44ffu+ni6OjUbg5u9Pl2KQu4q7MLHi7e8PHw141oFFNaui4uLjrTcN9gGcf4br5fRFgYCSLGgtXChr6Tx07jW197DA9+9hO4/1P3mo5cHgOTqPHdxz0Avh4frn4sAgs0NjYiLy8PRUVFqnbRoAsvdrljDYCuF9YChCtjrMVY5uQTxoymxmacPnlWT3qzdMUS097Lh4nffKMFPNhmfo690dXVhdTUVLz99ts4cuQIiouL0dTUhJaWFlRVVSE5ORnvvPMOdu/erWsYguUhYiyMGZzC89SJ0wgMDkBcfKxprzDaGEJMEa6rq9PdC2kRswbBjZ9ZS+F8JJmZmXj//fdFkC0QEWNhTKAA1NTUoiCvCMuUVezoKD0SxgKKbX5+PlJSUrTYEs6DwQEod9xxB+6++269ejR7iBAKNxcbOH78uP4uWA4ixsKYQBdF2rl03bC2ZPki015htKGPmC4J/iecjIjzYHBuZPqH2Sc6Pj5ez5HMASp04VCQs7OzVWFZo38jWAYixsKYUF9fj9OnkuHt443pM6aZ9gqjDRcJoKiyJsIufOwbTRFmrxLDl85Rg+zix5niIqOitDXd0dGBggLTiBnBIrAaMe5o70RFWTVyMgqQnZqH4vxSZX21XGhZFywHvhOuWJ2TlYt5C+fA3d3NdEQYbZqbm/VG2JeavSYGG6RCUfb09ERsTIz+TvFmw55gOVi8GHMkV2lRBZJPpCP1dCZyMwuRl12EjJRcnD2ehuy0fLS3dpjOFiwBTrtJIWaVeMmyhYB99jIbF+hyYIMdYd/q4ZZrokh7e3vrzywwDR+zYBlYtBhzUc2SwnLkKmu4qrwGLU2t6Gjr0FZyW0s76msakJ9drAS6AO1qv2AZ1NXWI/lMisr4Xpgzb7ZprzAWUGBp9RI9D0hPj/48GBRgircB+8wKloNFizEzdZmyihvrm3VCG4j2fbV3oLykSou2Pbgs+nr7dHwU5BQjPTlbb/nqc0Ndky68LAEu4cSJgpKmT4Wvn49przAW0BI2rGE24g3XKEchLikp0Z8p4HRrCJaDRYtxdXmtSWT6THsGh1ZxTWWdtpZtGT4nhTf1TKb2nRfmlOgtN70AaWezkJdZqGsNEwmrvkWFxTrjL1g8/4LVJowNxrwbhH2Mc3Jy9GCPgfB9FBYW6o3QKo4x+Y8Fy8Bic0pXZzdamlvR3TV0tcvAsJA5sYytwvkZivPLkJ9VpAue1uY26Mnd1dba0qb35WcXaYuZcTdR1NXUIy01A15enpg7f45przBWGI12tI7ZQ4J9jk+cOKGHRHM4NIWZ/YpPnz6NM2fOoLW1Vbs2wiMiZGi0hWGxYkzfV29P74hdD5wgvLPjQ3+YrVFVUasbMim8g8UJ97W1tmu3TmVZtWnv+MMVQLLSsxETNwVhYSGmvcJYwX7csbGxelAHP3P4M/sQc1DHgQMH9MaReRwUQhcGaypcoXr+/Pm6+5tgOVisGHPu2kmTRh68yZMm2ewoL1q/tVX1uqZwKSjI7ALIqSfHGw6xLSkp1QuYzp0/Wy+zJIw97EPMSe+nTZumu6/xPVRWVmrrmG4LWsa0iNnfmINCFi9ahPCwMNOvBUvBYsWYCYcTio9UYJ1cnOHp7Wn6Zluw6x5Flo13l4I1BPrOJ6J3CRtc2XDn4eEuLopxhNYuR9rNnTtXj7LjwA9+9/Ly0jO20ZVB/zCtYR6nFW2PkylZOhYrxlwPLTDEDx5eQ/ebNODKD77+3iM61xqh37y359JCbMAGT875O95UVlQpMc5GeGQ4omOiTHuF8cDoHTFjxgwsXrxYr89nvnHfvHnz9IT6IsSWicWKMQkI8kdYZAjcPIYewcVW4YBgf0REh9qsm4LPRbfNSOGSROPdh5Q+/vLScmUd12H6zCS4ubmajgjjCWuUAQEBej4Kui64bh+HQXNlEw4KESwXixZjF1dnRMaEIzYhCv6BviqhfSgwtJw9vTwQMSVUH/cLsN3+rG4ernBxcxmRRUMLyVWdy9+MJw31jcjLLVDvzEX7iwVBuDwsWoyJh6cbpsRHInFmHGIToxEdF4Go2HDEqH0J02PUFoug0ACbrnqxUGJh5D5MDcGAQhwUEgBnZyfTnvGhvKwCmenZCA0NQUJivGmvIAgjxeLFmNAnHBIehGmzEzB74XS1TcPM+UlapD1t1E9sDgua4LBAhEUGa7EdCop2SEQQwqLGt0sZfdRlpeWoKK9A/NQ4PQxaEITLwyrE2ICiRP8p/WL2NrKLNQTWCqJjI3RjpbNL/wKc3IwGzCh1jC4b9kIZTzgxUGF+kR5MMGf+LNNeQRAuB/tSNCvHy8cT8dNjdA2BtYLw6BC98XPSrARMnRGrzxlvSkvKkZWZg5DQYCRNTzTttQ04jJh9dI315DhDmj3MgSKMP7I6tHBVMPns3L4b//zLk1i8bBG+9q3/wqRxmjNz4OrQo4khwJy8nfMFU5RZI/Px8dGDLLhxtWB7q6GNNkw/HKRizDbHXkAcGWiJbUCyVL9g0bS1teP5p17C9m078ZnPPYBN115jOjL2jIUYMztwTgcOKebinZwJzXyiKmZE9uedOnWq7j7Gz4NN5i4MD2dhZCFnFHjG3MqcY4Nd81jocTShJcWtiLFg0eRm5+GJvz6lh0B/4ztfQVR0pOnI2DMWYkwhPnTokJ7djC4JWr60iCkKFBBj5WV+pxhzIEVwcLBYyCOEcsM4rKio0Ctac2KjgXMwM745SpADWEJCQvR3S7CUx1qMJQUJV0VRQTEK8gsRHhmG8Ajrnu+AroijR49eEGIOkqAYTJs+HXPmztVzP3CmM+6nIOfm5mpBMZY9Ei4N45UCvHPnTl37oBBT4Bin3FjI8RzWSnbt2qXX6eN3e0DEWLhiuru6VWYp0iI2c9Y0q6+uM+MXFRXpzM8Z0GiZbdmyBWtWr8aSxYv1qsv8zpWXWZ2mpUzh5u/MXRnC4DC+OIHRwYMHdWMoaxOcPyMqKgqz58zBrNmzERkZqd0TPEYX0eHDh/VafYMtLmFriBgLV0xFeaW2jPt7USSZ9lonrD7TGmPBQugT5sQ7XDPOvFpK8aBrgtVoFj4UFQoMG/yE4WEcnTt37oIQsxF0w4YNuPHGG7F82TKsWL4cN910ky70eIzxTkFOT0+3i/gVMRaumEJlFefn5iMsPAwxcdGmvdYJq8vV1dXaAqPI0iXBGc8Gg1YxJ3SnYBC6KehrFoaGhR3jiS4KQv/rmjVrMGXKFP3dgAJMX/wyJc5G/HMqUP52lJq3LBYRY+GKON93Hvl5hbo3RdL0BF2tt2ZorRmuBlaTL9VtzZiektCaZvcsYWgYR+aFHaf45NzKQ2H0VOE7YNzW19fbvO9YxFi4Iqqra7SLIiAwAEnTrH+gh7nw0gK7lBVmfg6tOXNXhvBRWPMwuq+xwS4wcPheMIxPru/HnhSEvx3Y68LWEDEWrghaxZylLSIyXM9HYe3QyqVIEFaJaSkP12hEXybPIRykINNTjj627pYYiIixcEXk5eShuakJsfFT4O5h/ZM1UYjZjY3/KQLnUlLQbBLbgXCgQnFx8QU/MRv5aMUJQ8N4Ndw6tHDZQ2I46DLiYBDDNWFeWNoqIsbCZdPY2ISiwhL4+PogMSnBtNf6YZc1Y5HOgvx8HDl8WAuCuYXG71zgk41K3M9GPDbm0ccsDA3bFOgnpr+YNQ76j9lPeyjYs4V+Yooyax30HxsuC1tFxFi4bPJzClCYV6hH28XZgIvCgEsSTU1M1IJsDOp444038NZbb+GDD3bhzTff0p85WIEWG8WBDU1cX04YHvqA2eiZkNBfeHd0dOiVq7lgqjmM94yMDD34pr29Xe/jb/hbW/fLy3Bo4bJ55YXX8LLatt6wGZ948N5hex2MJWMxHJoiwYEGWVlZF3pI0JqjEDCrUCz4n5be9OnTdV9kzqMgDXiXhnHHPtnbt2/Xrh7GGa1e1i6Cg0NUvPZp9wX98XwPjGe6f6655hrtQpqodGYgw6EFi6K9vQMFyip2VwkzQVnFE51BRhuKA/u4sg8s3Q/MfKxW08/J/3xerie3evVqvdLywEEhwtAw7tiLgnHLAoxiS+uXAp2enqYHd1CMuY/H6JpYuXKl/o2tpbPBEMtYuCzSUzPx59/9Hb5+PvjsFz+NiMiJm49iLKfQpBuCokArjVYcrWS6JWjFUYBpJVnKBDbWBuOWvveUlJQLLh9z6CbiCEgOR6cQW0rD3VhbxiLGwmXx5mtv49l/v4iNWzbgU5+5f0IzyliKsQGtYW6sYtM64/Pag5U21jA+2XeY3QPr6uouDHfmgBu6Jth7giMdLSmuxU0hWAzd3T3IycqDs5Mz4uJjLMZiGUvoL6Z/mO4L/hchHh0YjxRe+oLZQMeeLNz4mVOSGpMF2ROSsoQRU1pcipKiUkRNiURsnPQgEK4eWpks5Gh12rvrR8RYGDGZGVkoK6vQYhxm5XMXC4KlIWIsjAjd/zMtS1kt0Faxq2v/4AhBEEYHEWNhRFRWVKG4sASRkRGIiY2226qkIIwVIsbCiMjKyEZ5WQVi42MQoQRZEITRRcRYuCTs/Zh6Ll0PfJgSEw1Pr8EnXRcE4coRMRYuSX19g54yMyQsRDfeiYtCEEYfEWPhkuRm5aGyvBLxCXF6/mJBEEYfEWPhkqQkp6KjvQOxcVP0MGhBEEYfEWNhWDhMNTszFwFB/oiMitAj0gRBGH1EjIVhyc8tRFlZORKmxiN8AicFEgRbR8RYGJZzZ1PQ0tyKuKmx8A+QpYUEYawQMRaGhMurp6dmwNvHSw/2cHa27WVvBGEiETEWhqSspBwlRWV6EvnQ8BDTXkEQxgIRY2FIzp4+h4aGRkydNhWBQWM7b7Ag2DujOLl8H5paG1BeW2jaI1gzvb19+NH3foa01Ax85etfxIpVS01HLAdvd394u4kfWxgfOKf1WK5QPWpizMt0dLWjsaXOtEewZsrLy/G5h7+I2LhYfPG/Pq8HfFgars4ecHN2N30ThLGFQjyWE96PmhgLtsWrr76Kxx9/HI888gjuv/9+ve6bIAhjh/iMhY/A8vngwYP6c2JiogixIIwDIsbCR+BqyCdOnNCr83K5ekEQxh4RY+EjHDt2TC+lvmTJEoSGhpr2CoIwlogYCx9h3759ehn1mTNnws/Pz7RXEISxRMRYuIju7m7s379fC3FERIQsTS8I44TkNOEizpw5g6qqKixbvhzBITLqThDGCxFj4SL27N2LhsZGLFywAAH+MqBCEMYLEWPhInbv2oWkxETtonB0dDTtFQRhrBExFi6QmZmJgoICLFu2DIGBMheFIIwnIsbCBfbSRdHQgBUrViAgIMC0VxCE8UDEWLjA+++/r90TU6ZMgbOzs2mvIAjjgYixoKmsrERaWhqWLl2qrWJZjl8QxhcRY0FDF0V9fT1Wr14tAz0EYQIQMRY027dvh6+vL5KSkvS8rYIgjC8ixoKeGOjo0aNYuHCh7kUho+4EYfyRXCfg8OHDqKmpwfr16+Hj42PaKwjCeCJiLOC97dv1Kgbz5s2Du7usnCEIE4GIsZ3T0dGhR93Nnz8fISEhcHBwMB0RBGE8ETG2czo7OzF79mzceuut8PLyMu0VBGG8kTXw7ByKMfsXcxL54OBgsYwFYYIQMRYEQbAAxE0hCIJgAYgYC4IgWAAixoIgCBaAiLEgCIIFIGJso5SVleGll14yfbt8XnvtNRQVFZm+CYIw1ogYjxHV1dV49dVXTd/Gn9zcXPzf//2f6dvl87vf/U53eRMEYXwQMb5MuHoyt0vR3NyMU6dOmb4JY8HZs2dx+vRp0zdBsG5EjC8TWrsjsXjj4uLwk5/8xPRNGAvoSrkaV4wgWBIOjytMn+2OHTt2oKenB+fOnUNqaqoegca5fEtLS/U+VtPpbuA+TqCTnp6uBaCurg4uLi7o7u7WvykpKdHWMqeipKVWVVWlhxZzWsqYmBh9L94nOztbH+fCn62trfD390dfXx/279+v5xLmNY0VNng+LWse9/T01OFISUnRW3l5uZ7Yx8PDQ5/PcTtcu45hTk5O1sfpM+ZsbJ/5zGf09QbC39CVwfBkZGTosDMMXBGa1/z3v/+NVatWISEhQZ/PlUCM+1dUVFx0fy5iyv3G8/M5GR4+D8Nx8uRJ/cy1tbV64npjSScjDIw7xi1/z1njeG1el+FvbGzU5/DZ6MPmft43KysLr7/+uo4XNzc3dHV16bk1OKKwuLhYxx2fi2FlOBiHgmDJ2LUYc+FNPVHO7t3Yt28f1qxZowWW1hYzOle/oLhQHLg2HCdgf/HFF7VY5+TkaJFesmQJ3njjDXz729/WwvHee+9pMQ4LC8PnP/95fO5zn9PCSvH429/+pguAAwcOaPGPjo6Gt7c3PvvZzyI+Ph6RkZEXlsen8PzsZz/TAslt27ZtePnll7Fnzx4tbhSfqKgoLfoUsV27duEf//iHPk7hYvhYaAwmxhTBwsJC/PWvf9XhZXj4G4oZh0Xzec3FmILHZ2SNgNen0PGZGF6K3HPPPYef/vSn+n4MJ+OSAsuVQ44dO4a33377wj4+S2Jiog4Hw8A4MQ8DCzcjDA888ICOJz7vBx98gEOHDmmR53Pz/Oeff/7Cu6DAc8koCveTTz6JN958E4fV+SwEKOBz5szR9xQES8Xu3RS0UOlOePfdd/UqF7R8KZwUSIrMbbfdhoMHD2pRfvjhh/Hxj39cbxTVL3zhC6ar9Fuy06ZN07/55S9/adrbD/3HTzzxBHp7e/GXv/xFixrF949//KM+fscdd2gRo+VIKJb8TtGaPn26LhQoSJzM5+mnn8anP/1pbfVRGAmtUoZn5cqVePbZZ/GVr3xFFwxDQWv7T3/6kz6HYaXIc9Y2XpsFyUB4bfpn77rrLjzzzDMXRJIWvQEtUoaVQvj3v/9du2l+9atfaSuWok/hXLt2LX7xi1/o8xkXf/7zn7Vgcx/DsGDBAn19WuEGLS0t+nlZQLLA43MfOXIEDz30EO6//37cc889Onxf+tKX9PkMFy1qxgELzv/5n//R9xIES8fuxfiRRx5BbGzshQlyaIHR4iMUZVpqFChaccNBIb/77ru1pTsQCj7Fft26ddripfuDFjUtcooYBZ9iz3vQMqdIUnBmzpypV2rmZ1a1aQXTCmS1nOexak/4O1r4FEuu1DF37lzcd999+thgUIwpVBRHCh+vw5nbTpw4oa3sgdAipajSVUMXBK3h9vZ2HT8GvOe9996r70/XDGsZ4eHhugBjHHKR02uvvfZCDw0WOEYYGL8Mw6xZs3ShYx4GPhPjivHKmgzvTQt8KOjmoPsnXd2Hz8Oaxu233246KgiWi92LMcXDcA0QCiEtuy9+8Yu6ik8Li6JzqUnXKZasgg8GxY8i/N3vfldfkxstNp7PJY7oAqHg0AKn0FCkuY+WMV0htKxpGX75y1/Wv6UVyHMN4aeg0zI3vrPKPlRYCIWQK3v84Ac/0GLJa37961/Xx+geGAjvT4vf/P70h5tPuclwGn5ZPhPDwHg1Vg6hq4BxxHsTIww//OEPLwoD95uHgfcwfMzcz0LTuMZgLF68GA8++KAWYsb3o48+qi1nQbB07F6MKRLm0KqjG52CSN8oLTV+vummm/Rxnk9xHVj15f6B1zKgiFAknnrqKRw/flz7TvmfPmhjJWZWt+kHzc/P11Y03QZG4x8t9a9+9av6fCNM9MFSxAgFj4KVl5enRZl+VVqwQ8FwzpgxQxc6FFUjPO+//752nwyE9//GN76hRc24P10nn/rUp0xnXD7mYaDlbx4Go9HwUgz2LhjXLNh43bfeektb3r///e9NRwXBcpGubQOgy4BCx4zMqjPdB/TzUjAILTWKHXst0N85EvgbVrfZIMcGLYom/ZoUffpECf2ltCxpAdPSpSAZluY111yjRZp+VfqHeW82sNGvTKZOnardAPTXUtRYeNBHOxS0Lunvpr+YBQCFm+Fi+NgTYyCbN2/WDWGvvPKK9snSf8x7XY3FSeuZDZyDhYE9MEYCawJ0aTA+DNcFP1N8+d7Yq4JxOVwtQRAsBbsW46CgoI9Mpr5161bceeedWuhuvvlmXX3mORQ8Qr8vq+033HDDhRFurKIPXMiTFhoFklBUP/GJT2DTpk347//+b91L4Tvf+Q6uu+46/VsDNgxSmOgbpa/YYPXq1dofzd4GFHU2XFE0uWYdoW+ZYWbPAv5n4UGLkL7TwaAQMjxsEPzRj36EDRs2aMuX1rshXOZd0Hgt3pdWMRsbP/nJT2oXg9FDgS6cgb5y/nbg/RmPjHNihIGFHxtQGQa6KRgGo7bA/3RtmMP7GC4j+qXpu+a7+PnPf6730b3D43xvjAsWHnbcYUiwImRyeUEQBAtA3BSCIAgWgIixIAiCBSBiLAiCYAGIGAuCIFgAIsaCIAgWgIixIAiCBSBiLAiCYAGIGAuCIFgAIsaCIAgWgIixIAiCBSBiLAiCYAGIGAuCIFgAIsaCIAgWgIixIAiCBSBiLAiCYAGIGAuCIFgAIsaCIAgWgIixIAiCBSBiLAiCYAGIGAuCIFgAIsaCIAgWgIixIAiCBSBiLAiCYAGIGAuCIFgAIsaCIAgWgIixIAiCBSBiLAiCYAGIGAuCIFgAIsaCIAgWgIixYBP09vais7MTPT09pj2CYF2IGAs2QV1dHdLT01FeXm7aIwjWhYixYBN0d3ejubkZHR0dpj2CYF2IGAuCIFgAIsaCIAgWgIixIAiCBSBiLAiCYAGIGAuCIFgAIsaCIAgWgIixIAiCBSBiLAiCYAGIGAuCIFgAIsaCIAgWgIixIAiCBSBiLAiCYAGIGAuCIFgAIsbCqJGbm4udO3eavgn2xJkzZ3D06FHTN+FKsAgxfv3111FbW2v61s/u3buRl5dn+iYMJDk5GcePHzd9G5yamhq88cYbpm9jD98hBdnaGSo95ufnm74JAykrK0NxcbHp2/hy8uRJnD171vTNerEIMWZEtrS0mL71k5WVpcVEGJySkhIUFhaavg2Oi4sLIiMjTd+EkTJUeqyurjZ9EywJ5gPmB2vH4XGF6fOEsXfvXsybNw++vr6mPf2lXVhYGCIiItDV1YXs7GwcO3YMOTk56Ovrg4+Pj95Pa6WiogKBgYEoLS3FqVOnEB4ejtbWVhw6dAjBwcFwdnY2XfVDXnvtNb1ED63LjIwMODg46MzG+6alpeH8+fPw9PSEo6OjPp/X3b9/vw5He3u7Pkaxo/XOa7DgOKF+W1VVBVdXV/09NTUV0dHR+veE4X3vvfd0+AaGadu2bfq6586dw+nTp+Hv76+vn5mZqa9PMeBz874M78GDB/W9+OxtbW36WRg/TU1N+j9XvAgKCtLxlZCQoJ+HccKqJJ+FVgzjkM9N1wLjj/ebNGmSnqidccdn5z7ee2AYeIznMf6PHDmiMwTDw7AsWrTI9FTjByeWr6+v12ELCAgw7b0yrjY9VlZW6jBQIPgu+b4p7ocPH7ao9Mhlqnbs2KGf61Lpkc8zVHpkmBgOpocZM2boJbCYLhk/KSkp+r14eXnpd8T0xzjk8/GZmF62b9+OmJgYfR3WSljrYzzyfrz+5MmTdc2E8cG44HMwrniM12f64/PROmcYQkNDTU9hXViMz5iR/Z///OfCRmE1KCgo0C+BiYOCws+GVUjR4cvhfr4YihR/29jYiGMq0fBFDgYzHBOQk5OTvu6ePXv0dZhAmKmYAM0tITc3N53hmGBYFTdcKEwATGCs1jKB8d78LRM6EzITJWEC5XMwEQ8WJmZU+t2YyJhweR9m9KKiIi2QDBeXFaKIMnMxoXJjmBg23ofPTgHgdw8PDy3Mhh/PeCYuT8RjjC9mZoaLCZ9xwXMI78l7M174rEYYmPkYBn4nfHbGOTMZn7dSZXxb4WrSI+OE4sv0xELNSI8UsaHSI9PfwPTI615ueuS9zNOjUSAMlh4Z5uHSI2sIRnrktczTo5EWBnNNUBhZoPA5+DyME6ZthoHPyPgjDAPvz/AbYfD29tbPxftSZJm2CAsfxid/Q8GlYDP9GXmB/428YK0MnjImAL40ls7GZp5AjJe1atUqvRn7+BLc3d3RoV4yXzgTHq0ZvihmEh4b7uWwNF67di3Wr1+vf0trlNfnd5bmFC7CjMXEwUTIkpziZZ4ImVjnzJmDazZs0Ndk2EJCQrRFdOLEiQsZip8XL16swzUYLNGXLVuGjRs3akuViY+JtaGhQWdmJnAmQFq6U6dO1ffasmULZs2apX/PZ502bZoO/5IlS/Q+A2YECoNhSfP5mGn5TAsXLtQZlXHGsDITMuy0hpjhjDBQ3I0wkGIVZ8xwjDOGO1Q9s61wOenxvNpHMTTSI+N6YHpknF9OemT68vPzuyg9ciOXmx4ZttFMj0yLA9OCOUxjLAAoygwr44EFC8UyPj5eW/tGGFhAMa0yvlmAMK4puBRhxhvTlwEt+OXLl+v44H5ef/r06YiNjdV5gnkhKSnJdLb1YTFizER3ww03XNgY8QZGQqZYUiD4mcLBDMGqioP6n5WVrV8wq5cseZlIwi5RXYmLi9MlKqvzvBarcLQaeR9ei4mCMNFRlJgAaSEQZjgDluZM6AwXExwTCsNFYaQlwWorrRomtrlz55p+9VESExP1742Mz/vR8mEC5bWZ8HifoeBvmTCZsAdCS4aFC8/hszGjM6Px+rwu78VMRBFh1TYqKkpnauOZeU0jDKxmEsPyYfzxuqyC2wrDpUemPSOd6PSoBNY8PfJ/dnaOjme+byM9hppdYzDM0yPjfGB6pAATpkeK29WkR75jpkeK9lCwwB8sPZqnhcHSI9chZHh4Ds9nWqLBwO98Rt6b6YwbCxjDmGBtlZY9f8tCi9cx8iBh+wefjWmXYaKFbEtYjBgPB18MExStM748fuaLJUxktBBY+vOl82XTQqF4XirxGwmZvyd8wfxsfGcGIMxMTFRr1qzBihUrdWYxh+cbCdaA59OyYGKl+4Cl/MyZM7XADQV/Y9ybMOFNmTJFC8N1112nfbFMiIT3o8CaJ0ju4zUGg8cYbloO119/vb4exZ/7GSZmPGZyVg0pMDyX1+IxhmH16tUXwmD4UikcFAhmamZUWir2ANMeDQQjPVI0zNMjycvL/Uh6vJRxMFx6NNIiYXqkIPanxxXDpkfjWnyXhnXM9EhXypWmR/O0YKRHc/i8vM+CBQt0WqO1TyHl87Fg4TGmM9bAmB55XUKLmd9p4c6ZM/cjRoV5fJjD7xRto7CyVqxCjGntMaLpx+JGEeI+wsRPse7s7NAlNV8shYWl/6US/0ihOLEAYOJJTj47YtFhBmWpTz8Zq2pMnJcDn4cWF90JdDEwA1EACAWRgrBv3z5ddbwUzCB0R/AZDhw4oOPRaHwi8+fP12HkPSggRiZlGPjsRhjozjDCEKEyFa12Xuu4qvKWKUvHHmDaY+Y3T490B5AP02PnRemR1uBoNSwxPbIA6E+PySNOj7SyRyM9UkgHpgVz+JwsICiuFH7+N3zuDAOvw3RGd495Yy9rAnS59Ddipl9ow7gUFHi6TmhZ85rWikX0pmBE0udjWBeEviZWDVnyMkGz9GOio4XA0pO+J5a03Fhi8hwmNIqD4Zfjd4rQYLDKzuOGJckw8JpGGHh/VscpesxgFCRagLwPExpLd27MFLQQjVZqWqoMI5/HsE6YQChwtESGgomalqoRdsJn5/MxrPSh8X60TPhMfE5meFb1+J1WDy0JQxQICzCGh/HF6zDcfA66I7ifVWjeg3HLZ2QcsFpKYeZzEiMMfHYjDHxWPjMzFuOP74XXYOHHe5iHYbxg2Gil8jkoVlfDUOmRzz5W6dGorg+VHvl8tC4vlR6ZJkaSHnnt0UyPDA8LcO7jbxhGnsMw8hnoIuE+/p7hY02Kok0xZlwSvje6cxjXvK7xO16P53OfYSTwHKZ5/ob3p2HCdM00abjRrI1J6kV9WP8RRg1aEGzwYOnOhLRy5UotdMLYwExMkWEGpyUqXIykR8vHKtwU1ggTP7vjsNrFapkkfGEikfRo+YhlbCXQ58bq3dVWwW0VsYwF9liia86854s1YRGWMUtr+l4J+0vSHyRcDAchsMFmIqDQsWprwETPkVhsOGQhQX+hLTEwPdKqFC6G/ln6uYeDPmM2FI4X7DfNxmlCn7eRRtmdzxreoUWIMUcbGa2yr776qs4MguXw7rvvan+jAfu4cgIibhzezdZ5W4LpkQ1o5JVXXrkwuk34kPfff1+PqhsOFuIcEj0RsBA10ug777yje51YOhbRm4JVS1a/2TrNbi1sMWarK3sHsHWZJSxbcGmdsRsR97NlmBY0W2vZKMHjtNDYMmvsZwsrf8+N3hge5z1YovMcnsvWbqM1dyA8lxvvz/vyOrwvMyo3tlzzvmyxZosvv/O+LFj4mdfmcwwGEwvvy/MZHrYc8zt/y2sa4eM9+Z+JiS3J7FbFZ2FJz98yTlg143m05hguhoW/4XmMG1qybGXmd1oJ/A1/z98YfTmZcXgdhoXH+Xse4/PT10gXCVut+TxsZWf/VrbQszcHz2er90TCd8Swj0ZvCqZHdpcy0iN7EfC9Xyo9GvuHS4/GNSwtPRrDnEeSHvmdI+x4LeM8Xn9gGPgeGJdG2mO8GOHhszM83M+0x/dmPDefjZa30fOE1x0YBv7neXwHvGa7Svs04riPvUTY04KNlPzM39GFdbld+cYbixDjX/3qVzpjc9ISow8k+yHyRfKFsPpBa4XVdCZEijWFiX1fOcEKEw/72zLCKUi03NjnkIMYmFjoQ2K/UPaN3LVrl85grL4wwbAbDF/uYLBEpQXA6/G+zKC8L6/xwQcf6L6jrBbxZbM7F+/HSXd4fT4Dux0NJQzf+c53dMZkP0w+B0dCUSD5HJwzgpYow8x7UgjNxZhhoVVC14Ux3wSP8Z6MJ3Zb4m8oruxLzDhiH2Nmhj/96U86HhlW3p9xwwz9v//7v/o5jipL5qSKb57LEXV8HvYnpTuCYWLDD7tY8TjjkP252W1vorsTMU5GS4yN9MgJbBh/LDjN0yPf71DpkRPd8H0Mlh5ZbaZIDpceGbeXmx6ZFs3TI9PRwPTI98dzh4qbRx99VIsjf09r1kiPDDf3GemRv+ezs4BmQcyw8Jn4rAPzBJ+HeZrDnfmZ5zD8jCcOXOG7Yjr9wx/+oEWTok2Rpbg++eSTOh0z/pgfjDzBNM0w8Hc8j/uZDzjPRqUScKZPo8se78l3R01htzhjbIKlYlGztq1bt04n2Jtvvhl33XWXLt344pi4OYae/TkZ6bQw+KJYmlOAWAJec801ej/FjedyhBAzDq9NK44l9tNPP42tW7di8+bNmD17tv49XxBFaSB86UzQLE05koovlJYA+2/yMxMiE9lNN92k+4fyWiw0OGvV0qVL9f0olAzLYLDqTwG75ZZb9IgjFhrMbAwzR1axvyZ/z4RHUTQXY4oA78f+wHwOCiI3WqzaSlBWB8NJq4FhYgZn3BE+DzcKCF0MHOvP56co8DlvVs/DuOVgBoaPYWEc8/99992nr0WY0RkOxhGfcSiLa7wYTTE20iPnQOBzmqdHDnjgffjuGd8UFcY3CySmTcYVR0wyPVLMzNMj45niMVx6ZHyOJD1SvM3TIy3J4dIjRY0FuPkgC3OYHvluB6ZHih5H3JmnR6YF1rZYwD/wwANa6Iw8wWdlfDEM/M74YLgo0oxXpkP+nqLLAoufaSmzsGB80jCg2NOQoagyXZrnCT4DCyHmCaZRpnHOnRGt4sQQeEOMeW+ew5rNhg0bJjyNXgqL79rGl0hBZsL997//rS0UJkwDZhBGPsWFiYmCxQTL/0wkfNGE1gYTBRMELR4mViYyJrbBYMbibF0stXlfJgKKvQFFkdYDEwqhJUDBpBX6l7/8RScoWo/DwQzLhGJUz1iKM4H+7W9/wwsvvKC/s9o1EBZOzGjPP/88/vnPf+oRTrQCOJkLEyyH3jLzUTSYQBkfPE5r5u9//zt+85vf4OWXX9YCzmqiATMSw0NhYRwPF34mdFohzOiDiYetwvRIQX7qqad0uqC1xrg1ME+PFM2B6ZHvhDA9Lr6K9MiCkIWAwWikR4qaeXpkmAamR1rHQ8HCggOJjDCYw7Ayrt566y39DHxmhofxQIOA6ZnnGIUGCyda3APDwO9GGGqU4RGg0jwLJKZZxq85dOnwesxntPotHYsUY3OBYEm5adMmfP/739dV6R//+Mf6uwGPs8RjAuJn/jeqefxsiBkFg7+jdUeLj1XEF198UVsvg8GqFsXtv/7rv/DYY499xKLgPcxFiPdilypW9xjOn/3sZ/jc5z5nOjo4zHhGwid8DobvRz/6kb4G/xulvDl8TlpX3/ve9/R5P/nJT3Dbbbfp67EqzbDRimHDE78bI+9oCXPSmx/84Af47ne/+xFLwYhH8zCZY/5eeA4z3VDiYUsMTI+0ZFmhvFR6NDbz9Ghci2lns/rdxz/+8YvSo3mBbw7TI9+jkR5plZqHayTp8ZFHHjEdHZzB0uP9998/aHo0nmW4MJjD8/mc3/rWty6E5+tf/7rezzTKQowFDNMtLV8jHQ+WJ2h1E8b1eZW/mccp0AMLCl6b4aGVbw1YnBgzQbDKyY2RzBfI6g5LVVbB6c9iyXm5sBSmP4/VQ1oqrIqxamRuZZvDRMaXTauHFgZL5OGglciSnJmG4aR/jBN0Xw70UzIx0pplqU7/2mD3ZRWN8UNLl/difLA6RliNpKVAi4tVR2ZaYmQcPhMLoB073h/U6h4Mii4tLd7TSPC0NihKts5Q6ZE1NMY9a21Xkx753zw9mlvZ5vDdUVyM9EgrdTiM9Eg3yZWmR4o509hg6ZGWJgt4ugmGykPm0B/MtEn/Lmt2DD+tdsI0ycmEWCAx3TI+jEKeYRiYJ1hLIJyyle4Sumzo3hzYC4uuJhZ21oJFiDFfhgFfBF/It7/9bV114XdWQdg48Mtf/lK/FKNTNxOn+W8J9xmYH+d//u6vf/2rvjarPJxRaqhSk1Unihmr9Kz2M/EZ1+Z/8/sQZlL+hgni5z//Od5+++0LftrBGBhuQoGjVfDMM8/o+xJmKmJ+T/oBaaGwYPq///s/LQYUYMLqMKvHFA9mYGMABJ+T13/iiSfwi1/8Qn13uygM/Gz+TObfWWXkPdjoyCojoZVNn6ItYv7sTH+s4jPN0B3Ews08PVIY6Boi/J15nPIaQ33n/8HSI0VrMJi2KDpGeqTFZ4SR/43PBkZ6ZO1oJOlxYC2JGG408/RI9wvhKD6GhzUsCuTAZyXm+yjE9MFTPGnh0sVmbmUzjdFIYLplzxzDrUBf78A8YYSB74a+ZdYo+I4GxgP141//+pfpm+VjESPwaHEYEcngGEEabh8x9hsvfKTfDcyvNZCB5xLjfGP/wN9ezvX5zAMTLzG/hvnvB95z4Hnm/82Pmd9j4G/42Thu/g4Gfh/4O2Of8d0SGM0ReJIeP8T8Gua/H7jfwPyzcc5In5dhIAPDYf67gb8Z7prGscGeyxKR4dCCTTCaYiwIE4F1FBmCIAg2joixIAiCBSBiLAiCYAGIGAuCIFgAIsaCIAgWgIixIAiCBSBiLAiCYAGIGAuCIFgAIsaCIAgWgIixIAiCBSBiLAiCYAGIGAuCIFgAIsaCIAgWgIixIAiCBSBiLAiCYAGIGAuCIFgAIsaCIAgWgIixIAiCBSBiLAiCYAGIGAuCIFgAIsaCIAgWgIixIAiCBSBiLAiCYAGIGAuCIFgAIsaCIAgWgIixIAiCBSBiLAxL3/ledPd1orO3DR29Lejsa9P7BOFKOI8+9PR1oauvQ23tOm0J/Uw6rzB9FgQNxbbnfJfKKF1o7K5CbWcJmrqq0d7XAm/HIMR7LUCAS4TpbMugrKwMubm5CA0NxdSpU017BUuA6an3fLdKU91o62lCXWcZWnrq0XW+HV6OgZjhs9J0pn0jYixcoF+Eu1HZkY/8lrMob8tGe2+zsmY+TCJhbgmY67dR/Y837bEMRIwtD6YnWsD1XeUoaEnW6aqhuxKG5Eye5IBIt2m4JuwB/d3eETeFoOk734Pi1nTsqngSeyqeRm7zSbT1Nl0kxIIwEphmunrbUdKWif1VL2JH+T+Q0XRYiXLFBSEWPoqIsaCtl6O1b2J/9Ysob8/V1rEgXCnN3TU4Vf8e9lQ+rQQ5XVvIwqURMbZzWIV8r+yvyGo6hm4lyoJwpVB0Wbvap6zhjMbD6FW1LWHkiBjbMU3ddcp6eU4JcplYL8JVQddEsbKCT9dvR01Hkf4uXB4ixnZKa0+jEuKnlCBXKSHuM+0VhCuBQpyGcw17UNdZLkJ8hYgY2yG0go/WvqEbVESIhaulurMYOU0ndBdI9iMWrgwRYzuD4lvUkoLS1kxxTQhXDRt/i1vTUNaeLenpKhExtjPY+T6laZ8e1CEIV0tVR4HugSMj6a4eEWM7gpZLdWeRHgElCFcLC3aKMXvkCFePiLEdQTEubcuULkfCqNDUXYuGriqxikcJEWM7og+92pIRhNGgqbsGrT31pm/C1SJibEfQMqYlIwijQVtPIzp6W03fhKtFxNhuOK99fDLKThgt2JOi+7y4KEYLEWM7gd3w2a1NOuQLo0Wf+jsv/dRHDRFjO2GS+nOY5IhJk+SVC6PDZPUn6Wn0kJi0IyjGbg5epm+CcHW4OLjBaZKL6ZtwtYgY2xGTJjnA3znc9E0Qrg53Bx+4OniavglXi4ixHcGVFbhShyCMBt5OgfBw9DV9E64WEWM7wkGJcbjbVLhMdjftEYQrx9PJD37OIXCe7GbaI1wNIsZ2xCT1ur2dAxHtPsO0RxCuHMdJzgh2jdGCLFw9IsZ2Bq3jaT7L4eXor75N6t8pCFdIoEukdn25OEht62oRMbYzaB0HuEYiyXuZbg0XhKvBxcEDke7TEOoar3vrCFeOiLEdQkGmGMd6zofzZFfTXkG4MgKUdZzgtQhBrtG6kVi4MkSM7RRnZRXP99uEGM/ZuorJQSGCcCVQgMPdp2K690rtthBBvjJEjO0YV1XFnO+3GfGeC+DlFCCZSLhiHCc5IcI9CTN91iDUNQ4u0sPishExtnPcHX2xKOA6zPJdo1vGKdB0YwjC5eI02QXRHrOwMGCrqnHN0Y3Ek8WPPGIk1wlwUFZNkvdyLA24EYleSxDkGqVE2kfvlx4XwuUwedJkBLpEYZ6qcc32W49wtwQtyuwGJwyPiLFwAX+XCGXVXIcVQXeo6uZq3Uoe4BKuXRjuDt7aaqb1wwwnjA2nT59GR0f/NKcpKSlobm7Wn60Nd0dvJHovxaqguzDff7OymGcgwDlCpyUOoWbDMV0bkpY+ZNJ5hemzXXHu3DlMnz4djo7DV6MKCwvh6emJgIAA0x77gdNtciWH+s4KNPfU6YnE3R28dGONt1OQ6SzLoKysDLm5uQgNDcXUqVNNe62P6OhofPDBB/oZlixZgl/+8pdYvXq16aj1wqk223tbUNNZgvquMpWuGvXc2j7OIcqK3mg6y76xCDHOz89HZ2f/JNWTJ0+Gm5ubFj/+nzRpbKrJTOjbtm27pMh+85vfxOLFi3HHHXeY9giWyGiKsXl6ZPpzdXWFv78/PDw8dPocS2xVjIVLYxFiPHv2bNTV1cHZ2VknfCbEz3zmM1i3bh28vGTKR+HSjKYYm6dHJycnTJkyBffddx+uv/56BAYGms4aG0SM7ReLcdi88cYb2iI5dOiQTnzPPfcczpw5o481NTWhvl5Vl9VWWVl5wY/W3d2NxsZGVFVVobq6Gq2trao69GHZ0tfXp8/lcW5tbW2mI9DX4XHC6xjX5nktLS3o7e3Vx3j99vZ2/ZnQYmJG5Xm1tbUfOVZTU3PhnrxeQ0MDenpkNWZr480339Tp8dSpU3jooYfwn//8BydOnNDH+J6ZXszTgHm64/s20iXTg+ED5jnmac1IH0Y6FOwbi/Oe+/n54eGHH9aJltYOefTRR/GJT3xC758/f762FpjgT548iS9/+ctYtmwZrrnmGvz+97+/INRM4CUlJXjsscewYsUKLFq0CH/729/0MZKUlKQzCtm/fz/uv/9+fW1e66c//an+Lfmv//ovPPvss/ozM9Xb77yDe++9V7subr/9drz08ssXBHn79u26IPnZz36mrzNv3jx86lOfQlpamj4+GMy0zJBDbYwHYeKga2Lr1q3aPcH30dXVpd/zAw88oNPAzTffjFdeeeVCQc90yUY4psulS5fi2muv1UJOKOI0NljrY9qYO3cuPv3pT6O4uPiyBZlpbmBaMd9omAjWhcWJMa0HJmj66sz9xUVFRbjhhhuQlZWFxx9/HMnJyXjxxRcRGxuLAwcO4M9//jPy8vLw1FNP6fNplfzpT39CRUWFrvYdP35cW8+D8a1vfQubNm/GKZWJDh8+rAsEWuMD2bNnD95+6y3ceOON+rwHH3wQO1TGfEcJtAGtHmYshuno0aOYMWOGLhCGgpkyPDx8yI0W2kBotVMUmLmtabMAj9iIYXgpeCywmc74Tuk33rVrl67F3XTTTTh27Bi+9KUvaYHdsWOH/l1qaqpOg0FBQbqQf+KJJ3RNipSXl+PHP/4x/vu//1unVfaWoFviBz/4gb7f5UADZbD0YmyPPPKI6cxLw/Rk/p6sYaNGWFN6GgkW4zNmoqX1yoT7xz/+Eenp6fjCF76AVatW4Ytf/KIWyG984xvw9vbWv/n3v/+tBfY73/mO9hPyBbFB7umnn9aWCK1RWtK8bmJiov6NOb6+vlrYg4ODsXLlSmzYsAF33nmnPpd+awNa5GvWrNEWDDMS78MMyMzGsP7rX//SVvSvf/1rLZy/+tWv8Nprr+nwMgOz18att96qM99osXv3bvzjH//QcWQtUCCefPLJMfO5jrbPmKJqwN40v/nNb3D33XfjRz/6kU4ztIz5jmmB/uEPf9CW8Q9/+EO8+uqrWqx/8pOfICoqynSFizGyHP+zZjRr1ixkZGTo9pHx9hlTiF944QX9fIZrzhqgD581VL5vm4FiPNGoxHje2dn5/P9v795+4yjPMIC/c1jvwbHXTohPSUlICJC6hBI1hABtgpRYIupF24uIXuSmICHlBvEPcA3iCnHJn4FU9YBUiKiQOIQEoqYxcZ0Q7MSOcXxYe9d7mK/f8+1scF07xOv17ueZ54dGeGfXa8f7zbPvvPPtTDKZVDok1dDQkNK7gkpXJuZ+HcrqnXfeUTrczG147733lO/7974PSyKRUMePHzf3X7x4UR08ePDec6yUzWbVxMSE+frSpUvqtddeU3v27FG60lbvvvuu0pW1ue/s2bPq/fffN1/rNwOlq3Klq1Jzu1QqKV19Kx3Y5rbeCM3vvpzeyMzzNpLeaMzP1m8MW2bB32z569doY2Nj6vz580q/wYZr6ofxqKtdM3ZGR0eVflNXb7/9trp586Z65ZVXzDhbPu4wDl9//XXzvbpIUGfOnDH/5pXwfB9++KE6ceKE0kXFve/Xe4BKh7J5jA7we/+GI0eOmH/TZsN4Wvl62b7oynhTx1MrWNOmQB8OBzQwrxeVLSrV5RXqyrYFqhUcWEFFUTsYgjZErWWAo+DYraz1fu8HlQkqW7Q+dPCaykYHdHjvj1C5YPcI1QygP41dWVRI9ULvGlX6Wguq7JXQv8T8aBzt3yoLXo/lr5/t8Dtj/KFSRZsJfWC0HbBnhj0kVOG1cYdWxltvvWW+Dz1mHbCmTbaSfsMwe3IYt9hjQjWP8Yu/zXphL3G18VJbcKziQWE8rXy9bF88z9tS4+lBWBPGCFddrZrBjgH9Ux/GQIBmMhlzcK02iwJ9XPSOAUGMA3fYrcQBEmwc2I1cDXrQ2Nhqc5wRuKvtsqG/iw0Kbxbo/6EtghkfOFhXL/SWr169uuaCg0fUOhgTaLEcOnTIBPDevXvN/9EjxsFVHNRFewpv4LB//34zjjEOEbZod9QOHGNM4ZgC5rajzYWvMfYw3tbrzTffXHW81Ba0HWhrse4A3oPCxqF3B01lgvmfx44dM/3iw4cPm/vRm0SfF9Xs6dOnTaVd6zevhJBFjw/f+8Ybb5iDM3j+lTDv+dSpU2bDO3nypOkXo5+3kcDERtnb27vmsnzvgFoDgYzxc/36dRPMGB/o22M8DA0NmVk9tT41PtWJ3jL2yHDfuXPnTKEBeD1xvAHVMQ7svvzyyzI4OFhXhYdxvXKsLF/whkBbixUH8NCawABaK3hQ1WJXbmU7YGlpybQMMC8YB8tQKeMxqG4BFQcOstWmu6EiwS4cXLt2zczEwO4OKms8DlUOKnJU1diAcB9mY+D5MLjxp8JjMXUIPxu/E54PGwY2KPweuG/37t3mZwBmPaCaxs+izdPIA3irjUe83qhka+MCr3NtOhtef4wPtCeg9liMFTwW4w6PwRjFGMHcZIxN3IexhvYaKmqEPg704sAfxhZmEOHNujaeKdpie24KipZGhjFRKzCMYyxQgcyV7uhlShYrc1IKlqR/wpOO6UDcRFKcjk5xe/rE7dS7vLqKsxnDuDnuzt+R6flJKZWL4ZrGeSjbJzs6e/Ve5pbtnm4IwzhmAlWR24X/yIRepgpjkg9DuKIwiT6Qp4ez0vfvefGWKuL4CdH73uJ2bxd3YLf4+x8Tt7cfU1XCZ7MHw7g5Lo9+Jt/oZT5fnVHUSIcPvCBPP/q8eG48T0jPMI6JclCU8fy3cn3ha5leGpdCJSdLQd6E83JHr+yQgUt3xV9cVvno8HVSaXF0hew9vEf8nx8Sd/fD4rRVe6Q2YBg3x5fD5+WL4Y9ldqH6qcJGem5wSJ49eFJ8z743+2aI5/5AjCgJZLZ0R76c/rNcmP6L3MhdlrvF2+bcsiuDeE2lkqj5OQnGb0r54gVZ+usHUvrkIwmmVv94ORGtH8M4wlANjy0Oy+dTH8jI/AUTwmW1gV6f3odS+UUJxr6X0uefSvEff5PKyLBIsHU+RktkK4ZxRNXaEpfu/l3G8ldNS6JhlBI1NyuVK5el+M+PpfztVZwmL7yTiOrBMI6gsirJRGFULs98JHcKN82sic2glgpSGR2R8mefmv8jpImoPgzjiMGMiJnihPxr9hOZLNww17HbVMUlqVy/JqWvPpNg8na4kojWi2EcMZgvfGPha7mVv7b5QRxSBV0hXxuW8uWv8ZHDcC0RrQfDOEIqqiLTxVtyPfeNmTfcTCo3L5WRq1IZ+y5cQ0TrwTCOkEJlXibyozJX+iFc00RKSXBnUsrDV3B6snAl0X04OoB8ES/piJ92pOLE+xJjDOMIWSjPmPaETsbqiiYz095ujUswOxOuIfpfjifiZxxJdjmS7nEl3edKpr+65N2ZprXWbMQwjgh8gGOhPCuzpf8/qXnTYMobPhxyu3ohWSIjrIDbOqsBbMJ3lyvtesnoME49pMN5uyNFFxdRZRjTFod5xaiMcZ6JVjLV8Q/8ZB5V4Zw/iXZHUrUQ1kuyu9qWiOn5gNbEP0dElFTRnG+i5YpFXR1Xzx9NMYZqOKGr4a5qALf3O5LoYADfD/80EYE2RbnJMyhWhU/ilTi9Le7chCPJHTqEBxxpy+pkjtj16jYDwzgicKUR/GcFlj+xhiBObdcVcY8jXooh/KC41USE5/jS5lpwvTzfF4eXCYotHKhDTzi1U3/dxiBeD4ZxRCScpKT9ztZfJSGVEie8ziDFCzoR6AtjdgTmDtP6MIwjwncTss3vkpTXHq5pDTfTLu7O3vAWxYmbxAE7x8wjpvVjGEeGIxk/KzuTe8LbLeB5uireLm7fQLiCYsNUxa60dTJS6sW/XISgMt6VPmD6x63gZrvE27vPXKKJ4sVrcyShK2JMZ6P6MIwjpM1Ny87UHunRS9N5rrj9u8R/YjBcQXHipfSSCW9QXRjGEZNN7JTHOo6aYG4aR1dEPf3iDz4lTld3uJLixG1DdRzeoLowjCPG11tFX3q/HMw+Ly7OyrLZML95W4cO4ifFGzwUrqQ4wSwKz9dvyHqh+jGMIyjjd8rjnUflic5nRW8i4drN4aQzkjj8jCSeOy6O35peNbUYhhje95nFG8Iwjqh2v0ue7HpRHsse1bc2ZytxMu2SeOY5SbzwojhJCz5wQi2ByhgLbQzDOMJQIf9q+0vy654zkva2hWsbwx3YJcnf/l4Sx0/qUOaRmzhTyjELbQzDONIccyDvkW1Pyan+V2Vfx+ENT3tzOjolcew3kvrDH8X/xS/FaeNRm7hTFSWqpJfNuQh5bDCMY8BzErI92S/HHvqdnB44J493Pivtflbf84DVjOuK29MniROnJHX2VWk79ZK4vf36iZtwgJC2hEpZSaADmernKC38mmIg0OVLSRWkHJRkrjQlk/lRmSlPSq40o9cVZPDbjPSOLIrvJsXNdpu5w97PHhYn2yWSTFcrYR3OthkfH5eRkRHp6+uTAwcOhGup0b4cPi9fDH8sswvT4ZqqxDZHMgP4BF797Yod5X3y0qN/koSXDNfEC8M4xqrnQC6aK0nja1x/rK3oiK8rHHM6TlS+fkKcRML6Kphh3BxrhTHO1mauZ9er36jrzOO4hzHbFDGGecjoKae9DjP7YpvfLW2ZLlMRoxLG/GEnhY9WsR1B9xeURco5JeU8a7t6MYyJqCFKC0qKszqMmcd1YRgTUUOgOi7OKFnSC60fw5iIGkNnMNoUhalAinMM5PViGBNRw2CucSmnJD+ppDTPQF4PhjERNZSq6ECeD2TxtpKlu/gwCEP5QTCMiajhfgxkvUyIVAoM5J/CMCaiTYGWRXlRSeFOIAtjgeQng+rUN+byqhjGRLR5dPAGxeoMi7yukhHKWApTysxLDorV0CaGMRE1gw7lig5eTH1DhWyCeTxcENDfB5IOuqqf/IwphjERNZVpXxSUmf6GaXD5iWpvOVVZx8mrIohhTERWiHNVDAxjIiILMIyJiCzAMCYisgDDmIjIAgxjIiIL8EofFAm80kdzXPnuK7ly44LkCrPhmsY5tO+YPPnIEfFw2ZAYYhhTJDCMmyNXmJNcflYqlXK4pnE60t3SkcmK48RzihvDmCKBYUxbHXvGREQWYBgTEVmAYUxEZAGGMRGRBRjGREQWYBgTEVmAYUxEZAGGMRGRBRjGREQWYBgTEVmAYUxEZAGGMRGRBRjGREQWYBgTEVmAYUxEZAGGMRGRBRjGREQWYBgTEVmAYUxEZAFeA48iIZfLyczMjLS3t0t3d3e4lmjrYBhTJGAYB0Fgrizsutzho62HYUxEZAGWEEREFmAYExFZgGFMRGQBhjERkQUYxkREFmAYExFZgGFMRGQBhjERkQUYxkREFmAYExFZgGFMRGQBhjERkQUYxkREFmAYExFZgGFMRGQBhjERUcuJ/BeGaxVABMt3NQAAAABJRU5ErkJggg==)"
      ],
      "metadata": {
        "id": "9MlorhNYJlwz"
      }
    },
    {
      "cell_type": "markdown",
      "source": [
        "The diagram is taken from https://en.wikipedia.org/wiki/Precision_and_recall.\n",
        "\n",
        "Let's assume you model made a prediction, trying to find all `Year` tokens in text.  \n",
        "The dots in the big circle is what your model thought is a year. **True positives** are where the model was right, and **false positives** are where it was wrong.  \n",
        "Now **false negatives** are what actually **is** a year but your model didn't recognize it as such, and true negatives are what isn't a year and your model was right in not recognizing it as a year.\n",
        "\n",
        "Using these concepts, precision and recall help us extract more information about model behaviour than accuracy.\n",
        "\n",
        "### To understand how they work, consider this:  \n",
        "\n",
        "\n",
        "*   If you have high precision and low recall, your model is bad at identifying all tokens of your interest, but it is very confident in those it finds.\n",
        "*   If you have low precision and high recall, your model identifies as many tokens as possible but not all of them are actually what you're looking for.\n",
        "\n"
      ],
      "metadata": {
        "id": "-yLKG-k2LByH"
      }
    },
    {
      "cell_type": "code",
      "source": [
        "# [!] TODO: implement precision for ONE class\n",
        "\n",
        "def precision(predictions, labels, cls):\n",
        "  ... # TODO"
      ],
      "metadata": {
        "id": "fKqiaay7DX1H"
      },
      "execution_count": null,
      "outputs": []
    },
    {
      "cell_type": "code",
      "source": [
        "# test your implementation\n",
        "\n",
        "assert(precision([['O', 'TOKEN']], [['O', 'TOKEN']], 'TOKEN') == 1.)\n",
        "assert(precision([['O', 'TOKEN', 'O'], ['O']], [['O', 'TOKEN', 'TOKEN'], ['TOKEN']], 'TOKEN') == 1.)\n",
        "assert(precision([['O', 'TOKEN', 'O'], ['TOKEN']], [['O', 'TOKEN', 'O'], ['O']], 'TOKEN') == 0.5)"
      ],
      "metadata": {
        "id": "6YsTqknRnIM-"
      },
      "execution_count": null,
      "outputs": []
    },
    {
      "cell_type": "code",
      "source": [
        "# [!] TODO: implement recall for ONE class\n",
        "\n",
        "def recall(predictions, labels, cls):\n",
        "  ... # TODO"
      ],
      "metadata": {
        "id": "h8ypMDjJo0Qy"
      },
      "execution_count": null,
      "outputs": []
    },
    {
      "cell_type": "code",
      "source": [
        "# test your implementation\n",
        "\n",
        "assert(recall([['O', 'TOKEN']], [['O', 'TOKEN']], 'TOKEN') == 1.)\n",
        "assert(recall([['O', 'TOKEN', 'O'], ['O']], [['O', 'TOKEN', 'O'], ['TOKEN']], 'TOKEN') == 0.5)\n",
        "assert(recall([['O', 'TOKEN', 'O'], ['O']], [['TOKEN', 'TOKEN', 'TOKEN'], ['TOKEN']], 'TOKEN') == 0.25)"
      ],
      "metadata": {
        "id": "aGe5FH2ApGhq"
      },
      "execution_count": null,
      "outputs": []
    },
    {
      "cell_type": "markdown",
      "source": [
        "# Metrics: F-score\n",
        "\n",
        "F-score is a metric that combines both precision and recall and values them equally.\n",
        "\n",
        "\\begin{align}\n",
        "        F_1 = 2\\frac{precision*recall}{precision+recall}\n",
        "\\end{align}\n",
        "\n",
        "It's also insanely popular.  \n",
        "https://en.wikipedia.org/wiki/F-score"
      ],
      "metadata": {
        "id": "Gf3-TM2epmsa"
      }
    },
    {
      "cell_type": "markdown",
      "source": [
        "# Let's use all the metrics!\n",
        "\n",
        "Sorry, we won't be using your precision and recall implementations. Do you remember that we're using IOB2 format? It's common to convert `B` and `I` tokens to entities before calculating precision and recall (in other words, moving from **token level** to **entity level**). This is out of today's notebook scope. We'll just use a library instead.\n",
        "\n",
        "However, you can read more about that here:\n",
        "https://www.davidsbatista.net/blog/2018/05/09/Named_Entity_Evaluation/"
      ],
      "metadata": {
        "id": "YB388XkPpiDQ"
      }
    },
    {
      "cell_type": "code",
      "source": [
        "from datasets import load_metric\n",
        "import numpy as np\n",
        "\n",
        "metric = load_metric(\"seqeval\")\n",
        "\n",
        "def compute_metrics(p):\n",
        "    predictions, labels = p\n",
        "    predictions = np.argmax(predictions, axis=2)\n",
        "\n",
        "    # Remove padding\n",
        "    true_predictions = [\n",
        "        [id_to_labels[p] for (p, l) in zip(prediction, label) if l != -100]\n",
        "        for prediction, label in zip(predictions, labels)\n",
        "    ]\n",
        "    true_labels = [\n",
        "        [id_to_labels[l] for (p, l) in zip(prediction, label) if l != -100]\n",
        "        for prediction, label in zip(predictions, labels)\n",
        "    ]\n",
        "\n",
        "    results = metric.compute(predictions=true_predictions, references=true_labels)\n",
        "\n",
        "    return {\n",
        "        \"precision\": results[\"overall_precision\"],\n",
        "        \"recall\": results[\"overall_recall\"],\n",
        "        \"f1\": results[\"overall_f1\"],\n",
        "        \"accuracy\": results[\"overall_accuracy\"]\n",
        "    }"
      ],
      "metadata": {
        "id": "84QvTZ_w7x-B"
      },
      "execution_count": null,
      "outputs": []
    },
    {
      "cell_type": "code",
      "source": [
        "# start our beloved tensorboard\n",
        "output_dir = \"movies\"\n",
        "%load_ext tensorboard\n",
        "%tensorboard --logdir '{output_dir}'/runs"
      ],
      "metadata": {
        "id": "_b6TrsYb_YwJ"
      },
      "execution_count": null,
      "outputs": []
    },
    {
      "cell_type": "code",
      "source": [
        "from transformers import DataCollatorForTokenClassification\n",
        "\n",
        "# this adds padding so that every sentence is the same length in tokens\n",
        "data_collator = DataCollatorForTokenClassification(tokenizer)\n",
        "\n",
        "training_args = TrainingArguments(\n",
        "    output_dir=output_dir, \n",
        "    evaluation_strategy=\"steps\",\n",
        "    num_train_epochs=3,\n",
        "    logging_steps=500,\n",
        "    report_to=\"tensorboard\")\n",
        "\n",
        "trainer = Trainer(\n",
        "    model=model,\n",
        "    args=training_args,\n",
        "    train_dataset=tokenized_datasets[\"train\"],\n",
        "    eval_dataset=tokenized_datasets[\"validation\"],\n",
        "    data_collator=data_collator,\n",
        "    tokenizer=tokenizer,\n",
        "    compute_metrics=compute_metrics\n",
        ")\n",
        "\n",
        "trainer.train()"
      ],
      "metadata": {
        "id": "iT1vGhip71VL"
      },
      "execution_count": null,
      "outputs": []
    },
    {
      "cell_type": "code",
      "source": [
        "trainer.evaluate(tokenized_datasets[\"test\"])"
      ],
      "metadata": {
        "id": "_doLQlyNGXKd"
      },
      "execution_count": null,
      "outputs": []
    },
    {
      "cell_type": "markdown",
      "source": [
        "## Look at how the model performs\n",
        "\n",
        "This should print the entities our model has recognized."
      ],
      "metadata": {
        "id": "4fOe63vSh7Jz"
      }
    },
    {
      "cell_type": "code",
      "source": [
        "nlp = pipeline(\"ner\", model=model.to('cpu'), tokenizer=tokenizer, aggregation_strategy=\"simple\")\n",
        "\n",
        "pd.DataFrame.from_dict(nlp(\"Did Ryan Gosling survive in Drive?\"))"
      ],
      "metadata": {
        "id": "_6aaVm4XicoZ"
      },
      "execution_count": null,
      "outputs": []
    },
    {
      "cell_type": "code",
      "source": [
        "# you can type different questions about movies to see if the model works OK.\n",
        "print(\"Enter your question:\")\n",
        "text = input()\n",
        "pd.DataFrame.from_dict(nlp(text))"
      ],
      "metadata": {
        "id": "XgOoSjYwAOLB"
      },
      "execution_count": null,
      "outputs": []
    },
    {
      "cell_type": "markdown",
      "source": [
        "# Home task\n",
        "\n",
        "1. Learn how to save and reuse huggingface models either with `trainer.save_model(\"path\")` or `trainer.push_to_hub(\"your_username/model\")`. More on how to do that here: https://huggingface.co/docs/transformers/model_sharing.\n",
        "Ideally, you need to learn how to resume training between sessions.\n",
        "2. Experiment with different NER models from https://huggingface.co/models?pipeline_tag=token-classification&sort=downloads. You may need to transform our dataset significantly if a model needs that, so choose wisely. Look for instructions on each model's page.\n",
        "3. Try to achieve highest metrics on whatever model you choose. Don't forget to choose the number of epochs accordingly.\n",
        "\n"
      ],
      "metadata": {
        "id": "qz-Cr0Wt8ZFj"
      }
    }
  ]
}