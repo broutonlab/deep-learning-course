{
 "cells": [
  {
   "cell_type": "code",
   "execution_count": 4,
   "id": "5afa6574",
   "metadata": {},
   "outputs": [
    {
     "name": "stdout",
     "output_type": "stream",
     "text": [
      "Processing /home/misha/projects-git/deep-learning-course\n",
      "  Preparing metadata (setup.py) ... \u001b[?25ldone\n",
      "\u001b[?25hBuilding wheels for collected packages: Deep-Learning-Course\n",
      "  Building wheel for Deep-Learning-Course (setup.py) ... \u001b[?25ldone\n",
      "\u001b[?25h  Created wheel for Deep-Learning-Course: filename=Deep_Learning_Course-0.0.3-py3-none-any.whl size=2087 sha256=ec67c616e6396e40b8284a3b0bcacea56b686790e291877061932f836f9334b3\n",
      "  Stored in directory: /home/misha/.cache/pip/wheels/40/27/0b/d6aa80c20fb0c49eed9026f1f4f806b49215a5772e7bae0135\n",
      "Successfully built Deep-Learning-Course\n",
      "Installing collected packages: Deep-Learning-Course\n",
      "  Attempting uninstall: Deep-Learning-Course\n",
      "    Found existing installation: Deep-Learning-Course 0.0.3\n",
      "    Uninstalling Deep-Learning-Course-0.0.3:\n",
      "      Successfully uninstalled Deep-Learning-Course-0.0.3\n",
      "Successfully installed Deep-Learning-Course-0.0.3\n",
      "\n",
      "\u001b[1m[\u001b[0m\u001b[34;49mnotice\u001b[0m\u001b[1;39;49m]\u001b[0m\u001b[39;49m A new release of pip available: \u001b[0m\u001b[31;49m22.2\u001b[0m\u001b[39;49m -> \u001b[0m\u001b[32;49m22.2.2\u001b[0m\n",
      "\u001b[1m[\u001b[0m\u001b[34;49mnotice\u001b[0m\u001b[1;39;49m]\u001b[0m\u001b[39;49m To update, run: \u001b[0m\u001b[32;49mpip install --upgrade pip\u001b[0m\n"
     ]
    }
   ],
   "source": [
    "!pip install ../"
   ]
  },
  {
   "cell_type": "code",
   "execution_count": 5,
   "id": "6040c640",
   "metadata": {},
   "outputs": [],
   "source": [
    "import amazing_ml_topic.utils"
   ]
  },
  {
   "cell_type": "code",
   "execution_count": 6,
   "id": "0f6de96c",
   "metadata": {},
   "outputs": [
    {
     "name": "stdout",
     "output_type": "stream",
     "text": [
      "foo\n"
     ]
    }
   ],
   "source": [
    "amazing_ml_topic.utils.foo()"
   ]
  },
  {
   "cell_type": "code",
   "execution_count": null,
   "id": "3d8eec56",
   "metadata": {},
   "outputs": [],
   "source": []
  }
 ],
 "metadata": {
  "kernelspec": {
   "display_name": "Python 3 (ipykernel)",
   "language": "python",
   "name": "python3"
  },
  "language_info": {
   "codemirror_mode": {
    "name": "ipython",
    "version": 3
   },
   "file_extension": ".py",
   "mimetype": "text/x-python",
   "name": "python",
   "nbconvert_exporter": "python",
   "pygments_lexer": "ipython3",
   "version": "3.10.5"
  }
 },
 "nbformat": 4,
 "nbformat_minor": 5
}
