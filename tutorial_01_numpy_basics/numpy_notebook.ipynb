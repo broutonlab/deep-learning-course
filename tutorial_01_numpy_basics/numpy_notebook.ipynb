{
 "cells": [
  {
   "cell_type": "markdown",
   "metadata": {},
   "source": [
    "Hey, in this tutorial we will learn more about **numpy** - a library for effective computations in python. 🚀🚀🚀"
   ]
  },
  {
   "cell_type": "markdown",
   "metadata": {
    "id": "HjELumTNwNQM",
    "pycharm": {
     "name": "#%% md\n"
    }
   },
   "source": [
    "[NumPy](https://numpy.org/doc/stable/index.html) is a library for the Python programming language, adding support for large, multi-dimensional arrays and matrices, along with a large collection of high-level mathematical functions to operate on these arrays."
   ]
  },
  {
   "cell_type": "code",
   "execution_count": null,
   "metadata": {
    "id": "NfRxT8qLwNQR",
    "pycharm": {
     "is_executing": true,
     "name": "#%%\n"
    }
   },
   "outputs": [],
   "source": [
    "# numpy installation\n",
    "!pip install numpy"
   ]
  },
  {
   "cell_type": "code",
   "execution_count": null,
   "metadata": {
    "id": "EfOmwLtPwNQT",
    "pycharm": {
     "name": "#%%\n"
    }
   },
   "outputs": [],
   "source": [
    "# the classic alias for numpy is np\n",
    "import numpy as np"
   ]
  },
  {
   "cell_type": "markdown",
   "metadata": {
    "id": "2v7dZgUmwNQT",
    "pycharm": {
     "name": "#%% md\n"
    }
   },
   "source": [
    "# Arrays in numpy"
   ]
  },
  {
   "cell_type": "markdown",
   "metadata": {
    "id": "EWq4IbRUwNQT",
    "pycharm": {
     "name": "#%% md\n"
    }
   },
   "source": [
    "The core functionality of NumPy is its \"ndarray\", for n-dimensional array, data structure. These arrays are strided views on memory. In contrast to Python's built-in list data structure, these arrays are homogeneously typed: all elements of a single array must be of the same type."
   ]
  },
  {
   "cell_type": "code",
   "execution_count": null,
   "metadata": {
    "id": "4fx5zIg7wNQU",
    "outputId": "d642b8e4-d7b0-4857-9628-bd547b3c62a0",
    "pycharm": {
     "name": "#%%\n"
    }
   },
   "outputs": [],
   "source": [
    "# classic 1d list in python\n",
    "arr1d = [1, 2, 3, 4, 5]\n",
    "arr1d"
   ]
  },
  {
   "cell_type": "code",
   "execution_count": null,
   "metadata": {
    "id": "819kUfllwNQV",
    "outputId": "af5c26b3-f477-410c-a4f5-d8ebc2cddb70",
    "pycharm": {
     "name": "#%%\n"
    }
   },
   "outputs": [],
   "source": [
    "# 1d ndarray in numpy\n",
    "nparr1d = np.array(arr1d)\n",
    "nparr1d"
   ]
  },
  {
   "cell_type": "code",
   "execution_count": null,
   "metadata": {
    "id": "WTPFLT0ewNQW",
    "outputId": "9b13b972-2683-424e-dae8-1926b08e7584",
    "pycharm": {
     "name": "#%%\n"
    }
   },
   "outputs": [],
   "source": [
    "# classic 2d list in python\n",
    "arr2d = [\n",
    "    [1, 2, 3, 4, 5],\n",
    "    [10, 20, 30, 40, 50],\n",
    "    [100, 200, 300, 400, 500]\n",
    "]\n",
    "arr2d"
   ]
  },
  {
   "cell_type": "code",
   "execution_count": null,
   "metadata": {
    "id": "QV1z4qiawNQX",
    "outputId": "45127ec4-787f-4f68-c135-f0713ddb2c9a",
    "pycharm": {
     "name": "#%%\n"
    }
   },
   "outputs": [],
   "source": [
    "# 2d ndarray in numpy\n",
    "nparr2d = np.array(arr2d)\n",
    "nparr2d"
   ]
  },
  {
   "cell_type": "code",
   "execution_count": null,
   "metadata": {
    "id": "Y2w-CMYCwNQY",
    "outputId": "9fb02df5-a230-4c94-9c8a-194750927ca8",
    "pycharm": {
     "name": "#%%\n"
    }
   },
   "outputs": [],
   "source": [
    "# classic 3d list in python\n",
    "arr_nd = [[\n",
    "    [11, 21, 31, 41, 51],\n",
    "    [110, 210, 310, 410, 510],\n",
    "    [1100, 2100, 3100, 4100, 5100]\n",
    "], [\n",
    "    [12, 22, 32, 42, 52],\n",
    "    [120, 220, 320, 420, 520],\n",
    "    [1200, 2200, 3200, 4200, 5200]\n",
    "]]\n",
    "arr_nd"
   ]
  },
  {
   "cell_type": "code",
   "execution_count": null,
   "metadata": {
    "id": "TEiIoayxwNQY",
    "outputId": "5ea3eaf3-e75d-49b8-b0d1-9f3f9905ee3a",
    "pycharm": {
     "name": "#%%\n"
    }
   },
   "outputs": [],
   "source": [
    "# nd ndarray in numpy\n",
    "nparr_nd = np.array(arr_nd)\n",
    "nparr_nd"
   ]
  },
  {
   "cell_type": "code",
   "execution_count": null,
   "metadata": {
    "id": "t2BftUEDwNQZ",
    "outputId": "63c1704f-9f6f-4244-93e2-46cf5da24c57",
    "pycharm": {
     "name": "#%%\n"
    }
   },
   "outputs": [],
   "source": [
    "# generate random array\n",
    "random_arr = np.random.random((10, 10))\n",
    "random_arr"
   ]
  },
  {
   "cell_type": "markdown",
   "metadata": {
    "id": "tIIn0dWlwNQZ",
    "pycharm": {
     "name": "#%% md\n"
    }
   },
   "source": [
    "# Basic operations on arrays"
   ]
  },
  {
   "cell_type": "code",
   "execution_count": null,
   "metadata": {
    "id": "OSM5GnfxwNQZ",
    "pycharm": {
     "name": "#%%\n"
    }
   },
   "outputs": [],
   "source": [
    "arr1 = np.array([[1, 1, 1],\n",
    "                 [2, 2, 2],\n",
    "                 [3, 3, 3]])\n",
    "arr2 = np.array([[10, 20, 30],\n",
    "                 [10, 20, 30],\n",
    "                 [10, 20, 30]])"
   ]
  },
  {
   "cell_type": "markdown",
   "metadata": {
    "id": "2gd5YjNrwNQa",
    "pycharm": {
     "name": "#%% md\n"
    }
   },
   "source": [
    "All classical arithmetic operations are performed vector-wise, i.e. for all elements at once"
   ]
  },
  {
   "cell_type": "code",
   "execution_count": null,
   "metadata": {
    "id": "_wMXI2m4wNQa",
    "outputId": "765880d2-e091-4964-9f31-8a74de36cf46",
    "pycharm": {
     "name": "#%%\n"
    }
   },
   "outputs": [],
   "source": [
    "# Vector addition\n",
    "arr1 + arr2"
   ]
  },
  {
   "cell_type": "code",
   "execution_count": null,
   "metadata": {
    "id": "Pt-hkE5RwNQa",
    "outputId": "85fcd52b-bbda-4e5e-bad5-3a8cac309d05",
    "pycharm": {
     "name": "#%%\n"
    }
   },
   "outputs": [],
   "source": [
    "# Vector subtraction\n",
    "arr2 - arr1"
   ]
  },
  {
   "cell_type": "code",
   "execution_count": null,
   "metadata": {
    "id": "GVuzdu4UwNQb",
    "outputId": "dd9e7a53-b937-4134-a22c-59f2c03e2969",
    "pycharm": {
     "name": "#%%\n"
    }
   },
   "outputs": [],
   "source": [
    "# scalar multiplication of matrices\n",
    "arr1 * arr2"
   ]
  },
  {
   "cell_type": "code",
   "execution_count": null,
   "metadata": {
    "id": "fUZ74pnowNQb",
    "outputId": "1ab87039-eb9a-4ded-f9b1-fbe976daaaa9",
    "pycharm": {
     "name": "#%%\n"
    }
   },
   "outputs": [],
   "source": [
    "# matrix multiplication of matrices\n",
    "arr1 @ arr2"
   ]
  },
  {
   "cell_type": "markdown",
   "metadata": {
    "id": "H9-rKl3rwkTh"
   },
   "source": [
    "# Vector operations"
   ]
  },
  {
   "cell_type": "markdown",
   "metadata": {
    "id": "kQmJeSBfwNQb",
    "pycharm": {
     "name": "#%% md\n"
    }
   },
   "source": [
    "Vector calculations are tens and hundreds of times faster than conventional calculations. Let's demonstrate this with the example of matrix multiplication"
   ]
  },
  {
   "cell_type": "code",
   "execution_count": null,
   "metadata": {
    "id": "tHO2GBmuwNQc",
    "pycharm": {
     "name": "#%%\n"
    }
   },
   "outputs": [],
   "source": [
    "def my_matrix_mult(X, Y):\n",
    "    result = np.zeros((X.shape[1], Y.shape[0]))\n",
    "    for i in range(len(X)):\n",
    "        # iterate through columns of Y\n",
    "        for j in range(len(Y[0])):\n",
    "            # iterate through rows of Y\n",
    "            for k in range(len(Y)):\n",
    "                result[i, j] += X[i, k] * Y[k, j]\n",
    "    return result"
   ]
  },
  {
   "cell_type": "code",
   "execution_count": null,
   "metadata": {
    "id": "O2Pqq9KlwNQc",
    "outputId": "89dd8aee-afd2-449d-845c-87c93d9dfdc9",
    "pycharm": {
     "name": "#%%\n"
    }
   },
   "outputs": [],
   "source": [
    "%timeit my_matrix_mult(np.random.random((10 ** 2, 10 ** 2)), np.random.random((10 ** 2, 10 ** 2)))"
   ]
  },
  {
   "cell_type": "markdown",
   "metadata": {
    "id": "xgty6Jb3wNQc",
    "pycharm": {
     "name": "#%% md\n"
    }
   },
   "source": [
    "To demonstrate the speed, we will use arrays with 10 times the dimension"
   ]
  },
  {
   "cell_type": "code",
   "execution_count": null,
   "metadata": {
    "id": "0fAZ_TTawNQc",
    "outputId": "0558f8b9-8be2-46f3-b59f-246bcd3f2013",
    "pycharm": {
     "name": "#%%\n"
    }
   },
   "outputs": [],
   "source": [
    "%timeit np.random.random((10 ** 3, 10 ** 3)) @ np.random.random((10 ** 3, 10 ** 3))"
   ]
  },
  {
   "cell_type": "markdown",
   "metadata": {
    "id": "nfeVlTihwNQd",
    "pycharm": {
     "name": "#%% md\n"
    }
   },
   "source": [
    "# Let's solve some problems yourself! (1 point)"
   ]
  },
  {
   "cell_type": "markdown",
   "metadata": {
    "id": "-0s8Yj5TwNQd",
    "pycharm": {
     "name": "#%% md\n"
    }
   },
   "source": [
    "As a practice, it is proposed to implement these functions through numpy tools\n",
    "To find suitable functions, read the [documentation](https://numpy.org/doc/stable/index.html)"
   ]
  },
  {
   "cell_type": "code",
   "execution_count": null,
   "metadata": {
    "id": "EajrRcLhwNQd",
    "pycharm": {
     "name": "#%%\n"
    }
   },
   "outputs": [],
   "source": [
    "# calculate the sum in each column of a two-dimensional table\n",
    "def sum_by_columns(arr):\n",
    "    result_arr = [0] * len(arr[0])\n",
    "    for j in range(len(arr[0])):\n",
    "        for i in range(len(arr)):\n",
    "            result_arr[j] += arr[i][j]\n",
    "    return result_arr"
   ]
  },
  {
   "cell_type": "code",
   "execution_count": null,
   "metadata": {
    "id": "wl9KqSzTwNQd",
    "pycharm": {
     "name": "#%%\n"
    }
   },
   "outputs": [],
   "source": [
    "def np_sum_by_columns(arr):\n",
    "    \"\"\"write your own function using numpy\"\"\"\n",
    "    ..."
   ]
  },
  {
   "cell_type": "code",
   "execution_count": null,
   "metadata": {
    "id": "ax712_DYwNQd",
    "pycharm": {
     "is_executing": true,
     "name": "#%%\n"
    }
   },
   "outputs": [],
   "source": [
    "for _ in range(10):\n",
    "    test_arr = np.random.random((np.random.randint(1, 100), np.random.randint(1, 100)))\n",
    "    assert all(np_sum_by_columns(test_arr) == sum_by_columns(test_arr))\n",
    "print(\"Good job!\")"
   ]
  },
  {
   "cell_type": "code",
   "execution_count": null,
   "metadata": {
    "id": "HyLaOgwYwNQe",
    "pycharm": {
     "name": "#%%\n"
    }
   },
   "outputs": [],
   "source": [
    "# transpose the matrix\n",
    "def transposition(arr):\n",
    "    result_arr = np.zeros((len(arr[0]), len(arr)))\n",
    "    for i in range(len(arr)):\n",
    "        for j in range(len(arr[0])):\n",
    "            result_arr[j][i] = arr[i][j]\n",
    "    return result_arr"
   ]
  },
  {
   "cell_type": "code",
   "execution_count": null,
   "metadata": {
    "id": "PdD0w8_swNQe",
    "pycharm": {
     "is_executing": true,
     "name": "#%%\n"
    }
   },
   "outputs": [],
   "source": [
    "def np_transposition(arr):\n",
    "    \"\"\"write your own function using numpy\"\"\"\n",
    "    ..."
   ]
  },
  {
   "cell_type": "code",
   "execution_count": null,
   "metadata": {
    "id": "Nku5Uu6twNQe",
    "pycharm": {
     "name": "#%%\n"
    }
   },
   "outputs": [],
   "source": [
    "for _ in range(10):\n",
    "    test_arr = np.random.random((np.random.randint(1, 100), np.random.randint(1, 100)))\n",
    "    assert (transposition(test_arr) == np_transposition(test_arr)).all()\n",
    "print(\"Nice!\")"
   ]
  },
  {
   "cell_type": "code",
   "execution_count": null,
   "metadata": {
    "id": "CVIE_noiwNQe",
    "pycharm": {
     "name": "#%%\n"
    }
   },
   "outputs": [],
   "source": [
    "# calculating the arithmetic mean\n",
    "def m_mean(arr):\n",
    "    m = 0\n",
    "    for i in arr:\n",
    "        for j in i:\n",
    "            m += j\n",
    "    return m / arr.size"
   ]
  },
  {
   "cell_type": "code",
   "execution_count": null,
   "metadata": {
    "id": "Pk6rZssgwNQf",
    "pycharm": {
     "name": "#%%\n"
    }
   },
   "outputs": [],
   "source": [
    "def np_mean(arr):\n",
    "    \"\"\"write your own function using numpy\"\"\"\n",
    "    ..."
   ]
  },
  {
   "cell_type": "code",
   "execution_count": null,
   "metadata": {
    "id": "5DKqJMUnwNQg",
    "pycharm": {
     "name": "#%%\n"
    }
   },
   "outputs": [],
   "source": [
    "for _ in range(10):\n",
    "    test_arr = np.random.random((np.random.randint(1, 100), np.random.randint(1, 100)))\n",
    "    assert abs(m_mean(test_arr) - np.mean(test_arr)) < 1e-5\n",
    "print(\"Well done!\")"
   ]
  },
  {
   "cell_type": "code",
   "execution_count": null,
   "metadata": {
    "id": "9PDngai_wNQg",
    "pycharm": {
     "name": "#%%\n"
    }
   },
   "outputs": [],
   "source": [
    "# find unique items\n",
    "def get_uniq(arr):\n",
    "    uniq = set()\n",
    "    for row in arr:\n",
    "        for elem in row:\n",
    "            uniq.add(elem)\n",
    "    return sorted(list(uniq))"
   ]
  },
  {
   "cell_type": "code",
   "execution_count": null,
   "metadata": {
    "id": "QV2AsXhrxjtx"
   },
   "outputs": [],
   "source": [
    "def np_get_uniq(arr):\n",
    "  \"\"\"write your own function using numpy\"\"\"\n",
    "    ..."
   ]
  },
  {
   "cell_type": "code",
   "execution_count": null,
   "metadata": {
    "id": "baYmYwXewNQg",
    "pycharm": {
     "name": "#%%\n"
    }
   },
   "outputs": [],
   "source": [
    "for _ in range(10):\n",
    "    test_arr = np.random.randint(1, 50, (np.random.randint(1, 10), np.random.randint(1, 10)))\n",
    "    assert all(get_uniq(test_arr) == np_get_uniq(test_arr))\n",
    "print('Task completed')"
   ]
  },
  {
   "cell_type": "markdown",
   "metadata": {
    "id": "kMW8RzCNwNQg",
    "pycharm": {
     "name": "#%% md\n"
    }
   },
   "source": [
    "# Complete the tasks (1 point)\n"
   ]
  },
  {
   "cell_type": "markdown",
   "metadata": {
    "id": "99MFzGL8wNQg",
    "pycharm": {
     "name": "#%% md\n"
    }
   },
   "source": [
    "Extract all the contiguous 3x3 blocks from a random 10x10 matrix"
   ]
  },
  {
   "cell_type": "code",
   "execution_count": null,
   "metadata": {
    "id": "XFHyQcSGcCll"
   },
   "outputs": [],
   "source": [
    "from numpy.lib import stride_tricks"
   ]
  },
  {
   "cell_type": "code",
   "execution_count": null,
   "metadata": {
    "id": "YD8QmfE8wNQg",
    "pycharm": {
     "is_executing": true,
     "name": "#%%\n"
    }
   },
   "outputs": [],
   "source": []
  },
  {
   "cell_type": "markdown",
   "metadata": {
    "id": "OSEuoEmVwNQg",
    "pycharm": {
     "name": "#%% md\n"
    }
   },
   "source": [
    "Considering a 10x3 matrix, extract rows with unequal values (e.g. [2,2,3])"
   ]
  },
  {
   "cell_type": "code",
   "execution_count": null,
   "metadata": {
    "id": "SR_lMEziaoX-"
   },
   "outputs": [],
   "source": [
    "X = np.random.randint(0,5,(10,3))"
   ]
  },
  {
   "cell_type": "markdown",
   "metadata": {
    "id": "flz1gOsxwNQh",
    "pycharm": {
     "name": "#%% md\n"
    }
   },
   "source": [
    "Consider a large vector X, compute X to the power of 3 using 3 different methods"
   ]
  },
  {
   "cell_type": "code",
   "execution_count": null,
   "metadata": {
    "id": "i1mf1DQnLSQi"
   },
   "outputs": [],
   "source": [
    "X = np.random.random(100)"
   ]
  },
  {
   "cell_type": "markdown",
   "metadata": {
    "id": "2nhnurAvwNQh",
    "pycharm": {
     "name": "#%% md\n"
    }
   },
   "source": [
    "# Make your own clustering algorithm using numpy (2 points)"
   ]
  },
  {
   "cell_type": "markdown",
   "metadata": {
    "id": "lKL1rilJFQva"
   },
   "source": [
    "Machine learning is one domain that can frequently take advantage of vectorization and broadcasting. Let’s say that you have the vertices of a triangle (each row is an x, y coordinate)"
   ]
  },
  {
   "cell_type": "code",
   "execution_count": null,
   "metadata": {
    "id": "9esM2jikxxMK"
   },
   "outputs": [],
   "source": [
    "# ....\n",
    "# add picture"
   ]
  },
  {
   "cell_type": "code",
   "execution_count": null,
   "metadata": {
    "id": "RNhGUh0XwNQh",
    "pycharm": {
     "name": "#%%\n"
    }
   },
   "outputs": [],
   "source": [
    "import matplotlib.pyplot as plt"
   ]
  },
  {
   "cell_type": "code",
   "execution_count": null,
   "metadata": {
    "id": "bAqqsXG4wNQh",
    "pycharm": {
     "name": "#%%\n"
    }
   },
   "outputs": [],
   "source": [
    "tri = [[1, 1], [3, 1], [2, 3]]  # create an arbitrary triangle for demonstration"
   ]
  },
  {
   "cell_type": "code",
   "execution_count": null,
   "metadata": {
    "id": "h-gwE4DawNQi",
    "pycharm": {
     "name": "#%%\n"
    }
   },
   "outputs": [],
   "source": [
    "def find_centroid(arr):\n",
    "    result_arr = [0] * len(arr[0])\n",
    "    for row in arr:\n",
    "        for j, elem in enumerate(row):\n",
    "            result_arr[j] += elem\n",
    "    for i, elem in enumerate(result_arr):\n",
    "        result_arr[i] /= len(arr)\n",
    "    return result_arr"
   ]
  },
  {
   "cell_type": "markdown",
   "metadata": {
    "id": "2E6FNoCKo56X"
   },
   "source": [
    "The centroid of this “cluster” is an (x, y) coordinate that is the arithmetic mean of each column:"
   ]
  },
  {
   "cell_type": "code",
   "execution_count": null,
   "metadata": {
    "id": "gj3WeNjbwNQi",
    "pycharm": {
     "name": "#%%\n"
    }
   },
   "outputs": [],
   "source": [
    "centroid = find_centroid(tri)  # find the centroid"
   ]
  },
  {
   "cell_type": "markdown",
   "metadata": {
    "id": "zapXkvONpLX3"
   },
   "source": [
    "It’s helpful to visualize this:"
   ]
  },
  {
   "cell_type": "code",
   "execution_count": null,
   "metadata": {
    "id": "GwHcaVL2wNQi",
    "outputId": "fa0b31e0-40f9-4598-c9cf-cd53970db13e",
    "pycharm": {
     "name": "#%%\n"
    }
   },
   "outputs": [],
   "source": [
    "trishape = plt.Polygon(tri, edgecolor='r', alpha=0.2, lw=5)\n",
    "_, ax = plt.subplots(figsize=(4, 4))\n",
    "ax.add_patch(trishape)\n",
    "ax.set_ylim([.5, 3.5])\n",
    "ax.set_xlim([.5, 3.5])\n",
    "ax.scatter(*centroid, color='g', marker='D', s=70)\n",
    "ax.scatter(*transposition(tri), color='b', s=70)"
   ]
  },
  {
   "cell_type": "code",
   "execution_count": null,
   "metadata": {
    "id": "HCcNNghrwNQi",
    "outputId": "9fbf5dce-447b-4a6a-bc36-24a4b9ba4e65",
    "pycharm": {
     "name": "#%%\n"
    }
   },
   "outputs": [],
   "source": [
    "# The distance from each vertex of the triangle to the vertex of the triangle\n",
    "[euclidean_dist(tri[i], centroid) for i in range(len(tri))]"
   ]
  },
  {
   "cell_type": "code",
   "execution_count": null,
   "metadata": {
    "id": "kbBz82tSwNQi",
    "pycharm": {
     "name": "#%%\n"
    }
   },
   "outputs": [],
   "source": [
    "# the function of finding the distance between two points in the Euclidean metric\n",
    "euclidean_dist = lambda point1, point2: sum([(point1[i] - point2[i]) ** 2 for i in range(len(point1))]) ** 0.5"
   ]
  },
  {
   "cell_type": "markdown",
   "metadata": {
    "id": "Oy65ZgaVtC9V"
   },
   "source": [
    "Finally, let’s take this one step further: let’s say that you have a 2d array X and a 2d array of multiple (x, y) “proposed” centroids. Algorithms such as K-Means clustering work by randomly assigning initial “proposed” centroids, then reassigning each data point to its closest centroid. From there, new centroids are computed, with the algorithm converging on a solution once the re-generated labels (an encoding of the centroids) are unchanged between iterations. A part of this iterative process requires computing the Euclidean distance of each point from each centroid:"
   ]
  },
  {
   "cell_type": "markdown",
   "metadata": {
    "id": "iDLHxBIXGRjm"
   },
   "source": [
    "![picture](https://drive.google.com/uc?export=view&id=1s81eiR8xu_cHuz9JXaKrGO9XVS1N88BF/view?usp=sharing)"
   ]
  },
  {
   "cell_type": "code",
   "execution_count": null,
   "metadata": {
    "id": "1DNuMyqewNQi",
    "pycharm": {
     "name": "#%%\n"
    }
   },
   "outputs": [],
   "source": [
    "import random"
   ]
  },
  {
   "cell_type": "code",
   "execution_count": null,
   "metadata": {
    "id": "joiOpNO3wNQj",
    "pycharm": {
     "name": "#%%\n"
    }
   },
   "outputs": [],
   "source": [
    "# Let's create a set of points, which we will then cluster\n",
    "X = [[3 + random.random() * 4, 3 + random.random() * 4] for _ in range(5)] + [\n",
    "    [8 + random.random() * 4, 8 + random.random() * 4] for _ in range(5)]"
   ]
  },
  {
   "cell_type": "code",
   "execution_count": null,
   "metadata": {
    "id": "fk9YlA3swNQj",
    "pycharm": {
     "name": "#%%\n"
    }
   },
   "outputs": [],
   "source": [
    "# let's set the coordinates of the centroid\n",
    "centroids = [[5, 5], [10, 10]]"
   ]
  },
  {
   "cell_type": "markdown",
   "metadata": {
    "id": "WhQFdABQuii-"
   },
   "source": []
  },
  {
   "cell_type": "code",
   "execution_count": null,
   "metadata": {
    "id": "tXBB81xrwNQj",
    "outputId": "9b9993cd-0a7c-494b-ce24-bced19452aae",
    "pycharm": {
     "name": "#%%\n"
    }
   },
   "outputs": [],
   "source": [
    "# calculate the distance from each point to each centroid\n",
    "distances = [[euclidean_dist(x, centroid) for x in X] for centroid in centroids]\n",
    "distances"
   ]
  },
  {
   "cell_type": "markdown",
   "metadata": {
    "id": "Mv5SKIOtupc_"
   },
   "source": [
    "Next, we want the label (index number) of each closest centroid, finding the minimum distance on the 0th axis from the array above:"
   ]
  },
  {
   "cell_type": "code",
   "execution_count": null,
   "metadata": {
    "id": "HJZSmNIrwNQj",
    "pycharm": {
     "name": "#%%\n"
    }
   },
   "outputs": [],
   "source": [
    "# let's determine which of the centroids each point is closer to\n",
    "labels = [distances[0][i] > distances[1][i] for i in range(len(distances[0]))]"
   ]
  },
  {
   "cell_type": "markdown",
   "metadata": {
    "id": "s9JphWqkuwMx"
   },
   "source": [
    "Let’s inspect this visually, plotting both the two clusters and their assigned labels with a color-mapping"
   ]
  },
  {
   "cell_type": "code",
   "execution_count": null,
   "metadata": {
    "id": "YNXfCgK_wNQj",
    "outputId": "41c11a9a-8672-48bd-dff1-0564c58ecce3",
    "pycharm": {
     "name": "#%%\n"
    }
   },
   "outputs": [],
   "source": [
    "# Let's display the results\n",
    "c1, c2 = ['#bc13fe', '#be0119']  # https://xkcd.com/color/rgb/\n",
    "llim, ulim = 2, 13\n",
    "\n",
    "_, ax = plt.subplots(figsize=(5, 5))\n",
    "ax.scatter(*transposition(X), c=np.where(labels, c2, c1), alpha=0.4, s=80)\n",
    "ax.scatter(*transposition(centroids), c=[c1, c2], marker='s', s=95,\n",
    "           edgecolor='yellow')\n",
    "ax.set_ylim([llim, ulim])\n",
    "ax.set_xlim([llim, ulim])\n",
    "ax.set_title('One K-Means Iteration: Predicted Classes')\n"
   ]
  },
  {
   "cell_type": "markdown",
   "metadata": {
    "id": "4xq0I97WwNQi",
    "pycharm": {
     "name": "#%% md\n"
    }
   },
   "source": [
    "*Plan*\n",
    "\n",
    "* Generate a series of points, which will then be clustered\n",
    "\n",
    "* Set the centroid points. In this exercise, they will be known in advance\n",
    "\n",
    "* Calculate the distance from each point to each centroid\n",
    "\n",
    "* For each point, select the centroid with the minimum distance\n",
    "\n",
    "* Display points and centroids colored in the appropriate cluster colors\n",
    "\n",
    "\n",
    "Below is an implementation without using numpy\n",
    "\n",
    "More about k-means classification you can read [here](https://en.wikipedia.org/wiki/K-means_clustering)\n",
    "\n",
    "Good luck! 🤡"
   ]
  },
  {
   "cell_type": "code",
   "execution_count": null,
   "metadata": {
    "id": "R1MUX2HewNQj",
    "pycharm": {
     "name": "#%%\n"
    }
   },
   "outputs": [],
   "source": []
  }
 ],
 "metadata": {
  "colab": {
   "collapsed_sections": [
    "H9-rKl3rwkTh",
    "nfeVlTihwNQd",
    "kMW8RzCNwNQg"
   ],
   "name": "numpy_notebook.ipynb",
   "provenance": [],
   "toc_visible": true
  },
  "kernelspec": {
   "display_name": "Python 3 (ipykernel)",
   "language": "python",
   "name": "python3"
  },
  "language_info": {
   "codemirror_mode": {
    "name": "ipython",
    "version": 3
   },
   "file_extension": ".py",
   "mimetype": "text/x-python",
   "name": "python",
   "nbconvert_exporter": "python",
   "pygments_lexer": "ipython3",
   "version": "3.8.6"
  }
 },
 "nbformat": 4,
 "nbformat_minor": 1
}
