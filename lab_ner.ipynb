{
 "cells": [
  {
   "cell_type": "markdown",
   "metadata": {},
   "source": [
    "In this notebook we'll try to create NER system.\n",
    "The purpose of this system is to extract Persons, Organizations and Locations"
   ]
  },
  {
   "cell_type": "markdown",
   "metadata": {},
   "source": [
    "![img](http://researchkb.files.wordpress.com/2014/02/ner.png)"
   ]
  },
  {
   "cell_type": "code",
   "execution_count": 1,
   "metadata": {},
   "outputs": [],
   "source": [
    "import sys, json, codecs, csv\n",
    "import numpy as np\n",
    "import random\n",
    "import pandas as pd\n",
    "import tqdm\n",
    "import itertools\n",
    "import seaborn as sns\n",
    "\n",
    "# visualization\n",
    "import matplotlib\n",
    "import numpy as np\n",
    "from sklearn.model_selection import train_test_split\n",
    "from itertools import chain\n",
    "import matplotlib.pyplot as plt\n",
    "%matplotlib inline  "
   ]
  },
  {
   "cell_type": "markdown",
   "metadata": {},
   "source": [
    "Import of keras layers"
   ]
  },
  {
   "cell_type": "code",
   "execution_count": 2,
   "metadata": {},
   "outputs": [
    {
     "name": "stderr",
     "output_type": "stream",
     "text": [
      "Using TensorFlow backend.\n"
     ]
    }
   ],
   "source": [
    "from keras.layers import Input, LSTM, Embedding, Dense\n",
    "from keras.layers.wrappers import Bidirectional\n",
    "from keras.models import Model"
   ]
  },
  {
   "cell_type": "markdown",
   "metadata": {},
   "source": [
    "dataset can be downloaded from this source:\n",
    "https://github.com/EuropeanaNewspapers/ner-corpora"
   ]
  },
  {
   "cell_type": "code",
   "execution_count": null,
   "metadata": {},
   "outputs": [],
   "source": [
    "with open('../data/ner-corpora/enp_FR.bnf.bio/enp_FR.bnf.bio') as f:\n",
    "    text = f.read()"
   ]
  },
  {
   "cell_type": "code",
   "execution_count": null,
   "metadata": {},
   "outputs": [],
   "source": [
    "print(text[:100])"
   ]
  },
  {
   "cell_type": "code",
   "execution_count": null,
   "metadata": {},
   "outputs": [],
   "source": [
    "words = []\n",
    "types = []\n",
    "for item in text.split('\\n'):\n",
    "    item = item.strip()\n",
    "    if len(item) == 0:\n",
    "        continue\n",
    "    [w, t] = item.split(' ')\n",
    "    words.append(w)\n",
    "    types.append(t)"
   ]
  },
  {
   "cell_type": "code",
   "execution_count": null,
   "metadata": {},
   "outputs": [],
   "source": [
    "unique_types = list(set(types))\n",
    "type2id = {x:index for index, x in enumerate(unique_types)}\n",
    "print(type2id)"
   ]
  },
  {
   "cell_type": "code",
   "execution_count": null,
   "metadata": {},
   "outputs": [],
   "source": [
    "from collections import Counter\n",
    "word2count = Counter(words)\n",
    "MAX_WORD_COUNT = 30000\n",
    "top_words = [x[0] for x in sorted(word2count.items(), key=lambda x: x[1], reverse=True)][:MAX_WORD_COUNT]\n",
    "word2id = {x:index+1 for index, x in enumerate(top_words)}"
   ]
  },
  {
   "cell_type": "code",
   "execution_count": null,
   "metadata": {},
   "outputs": [],
   "source": [
    "train_dataset, test_dataset = train_test_split(zip(words, types), train_size=0.7)"
   ]
  },
  {
   "cell_type": "code",
   "execution_count": null,
   "metadata": {},
   "outputs": [],
   "source": [
    "input = Input(shape=(None,))\n",
    "out = Embedding(input_dim=len(word2id)+1, output_dim=200)(input)\n",
    "out = Bidirectional(LSTM(200, activation='relu', return_sequences=True))(out)\n",
    "out = Dense(len(type2id), activation='softmax')(out)\n",
    "model = Model(input, out)\n",
    "model.compile(optimizer='adam', loss='categorical_crossentropy')\n",
    "model.summary()"
   ]
  },
  {
   "cell_type": "code",
   "execution_count": null,
   "metadata": {},
   "outputs": [],
   "source": [
    "def getWordId(w):\n",
    "    return 0 if not w in word2id else word2id[w]\n",
    "\n",
    "def gen_batches(dataset, batch_size=64, seq_size=32, batch_count=100):\n",
    "    random.shuffle(dataset)\n",
    "    \n",
    "    features = np.zeros((batch_size, seq_size))\n",
    "    labels = np.zeros((batch_size, seq_size, len(type2id)))\n",
    "    for _ in range(batch_count):\n",
    "        for seq_index in range(batch_size):\n",
    "            left = random.randint(0, len(dataset) - seq_size)\n",
    "            features[seq_index,:] = [getWordId(x[0]) for x in dataset[left:left+seq_size]]\n",
    "            labels[seq_index,:] = 0\n",
    "            for i,(_,t) in enumerate(dataset[left:left+seq_size]):\n",
    "                labels[seq_index,i] = 0\n",
    "                labels[seq_index,i,type2id[t]] = 1\n",
    "        yield features, labels\n",
    "        \n",
    "def encode_text(sentence):\n",
    "    words = sentence.split()\n",
    "    result = np.zeros((len(words),))\n",
    "    for i,w in enumerate(words):\n",
    "        result[i] = getWordId(w)\n",
    "    return result"
   ]
  },
  {
   "cell_type": "code",
   "execution_count": null,
   "metadata": {},
   "outputs": [],
   "source": [
    "from keras.callbacks import TensorBoard\n",
    "import tensorflow as tf\n",
    "import os, shutil\n",
    "\n",
    "\n",
    "def write_log(callback, names, logs, batch_no):\n",
    "    for name, value in zip(names, logs):\n",
    "        summary = tf.Summary()\n",
    "        summary_value = summary.value.add()\n",
    "        summary_value.simple_value = value\n",
    "        summary_value.tag = name\n",
    "        callback.writer.add_summary(summary, batch_no)\n",
    "        callback.writer.flush()\n",
    "        \n",
    "logs_dir = './logs'\n",
    "callback = TensorBoard(logs_dir)\n",
    "callback.set_model(model)"
   ]
  },
  {
   "cell_type": "code",
   "execution_count": null,
   "metadata": {},
   "outputs": [],
   "source": [
    "unique_types"
   ]
  },
  {
   "cell_type": "code",
   "execution_count": null,
   "metadata": {},
   "outputs": [],
   "source": [
    "for epoch in range(100):\n",
    "    losses = []\n",
    "    for x,y in gen_batches(train_dataset, batch_count=32):\n",
    "        loss = model.train_on_batch(x, y)\n",
    "        losses.append(loss)\n",
    "    train_loss = np.mean(losses)\n",
    "        \n",
    "    losses = []\n",
    "    for x,y in gen_batches(test_dataset, batch_count=32):\n",
    "        loss = model.test_on_batch(x, y)\n",
    "        losses.append(loss)\n",
    "    test_loss = np.mean(losses)\n",
    "    \n",
    "    write_log(callback, ['train', 'test'], [train_loss, test_loss], epoch)"
   ]
  },
  {
   "cell_type": "markdown",
   "metadata": {},
   "source": [
    "# Test model"
   ]
  },
  {
   "cell_type": "markdown",
   "metadata": {},
   "source": [
    "Let's review how model works in production!"
   ]
  },
  {
   "cell_type": "code",
   "execution_count": null,
   "metadata": {},
   "outputs": [],
   "source": [
    "query = test_dataset[160:260]\n",
    "query_words = [x[0] for x in query]\n",
    "query_types = [x[1] for x in query]\n",
    "result = model.predict_on_batch(encode_text(\" \".join(query_words)).reshape((1, -1)))[0]\n",
    "for index in range(result.shape[0]):\n",
    "    w = query_words[index]\n",
    "    true_type = query_types[index]\n",
    "    pred_type = unique_types[np.argmax(result[index,:])] \n",
    "    print(\"{}:\\t{}\\t{}\".format(w, pred_type, true_type))"
   ]
  },
  {
   "cell_type": "markdown",
   "metadata": {},
   "source": [
    "# Home task\n",
    "\n",
    "- 3 points: make the model better\n",
    "- 7 points: implement the model with CRF layer (https://github.com/Hironsan/keras-crf-layer)"
   ]
  },
  {
   "cell_type": "code",
   "execution_count": null,
   "metadata": {},
   "outputs": [],
   "source": []
  }
 ],
 "metadata": {
  "kernelspec": {
   "display_name": "Python 3",
   "language": "python",
   "name": "python3"
  },
  "language_info": {
   "codemirror_mode": {
    "name": "ipython",
    "version": 3
   },
   "file_extension": ".py",
   "mimetype": "text/x-python",
   "name": "python",
   "nbconvert_exporter": "python",
   "pygments_lexer": "ipython3",
   "version": "3.6.8"
  }
 },
 "nbformat": 4,
 "nbformat_minor": 2
}
