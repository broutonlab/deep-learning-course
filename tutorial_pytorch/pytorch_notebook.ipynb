{
  "cells": [
    {
      "cell_type": "markdown",
      "source": [
        "![torch_logo](https://drive.google.com/uc?export=view&id=1FrERQ1gmXL8dRejrDjBAqNnIXgr3gu9u)"
      ],
      "metadata": {
        "id": "xrVF6no-lXtR"
      }
    },
    {
      "cell_type": "markdown",
      "source": [
        "# Installation pytorch"
      ],
      "metadata": {
        "collapsed": false,
        "pycharm": {
          "name": "#%% md\n"
        },
        "id": "_pLEX5s5I16Q"
      }
    },
    {
      "cell_type": "markdown",
      "source": [
        "Installing pytorch is a complex process that varies depending on the version of CUDA and the environment of use. Read about installing the version that is right for you [here](https://pytorch.org/get-started/locally/)"
      ],
      "metadata": {
        "collapsed": false,
        "pycharm": {
          "name": "#%% md\n"
        },
        "id": "DJXbHmluI16T"
      }
    },
    {
      "cell_type": "markdown",
      "source": [
        "# Basic work in pytorch"
      ],
      "metadata": {
        "collapsed": false,
        "pycharm": {
          "name": "#%% md\n"
        },
        "id": "zxeEo9wXI16U"
      }
    },
    {
      "cell_type": "markdown",
      "source": [
        "The basic element in pytorch is a multidimensional matrix - tensor\n",
        "Pytorch is based on numpy so that vector operations can also be performed on tensors similarly to ndarray"
      ],
      "metadata": {
        "collapsed": false,
        "pycharm": {
          "name": "#%% md\n"
        },
        "id": "Tf5Fbp-7I16W"
      }
    },
    {
      "cell_type": "code",
      "execution_count": null,
      "outputs": [],
      "source": [
        "import torch"
      ],
      "metadata": {
        "pycharm": {
          "name": "#%%\n"
        },
        "id": "ixV3VHtWI16X"
      }
    },
    {
      "cell_type": "code",
      "execution_count": null,
      "outputs": [
        {
          "output_type": "execute_result",
          "data": {
            "text/plain": [
              "tensor([[0., 0., 0., 0.],\n",
              "        [0., 0., 0., 0.],\n",
              "        [0., 0., 0., 0.]])"
            ]
          },
          "metadata": {},
          "execution_count": 2
        }
      ],
      "source": [
        "torch.zeros([3, 4])"
      ],
      "metadata": {
        "pycharm": {
          "name": "#%%\n"
        },
        "id": "cgL6pinuI16Y",
        "outputId": "89e1a41e-52cb-41bb-934b-7228d2ce13e1",
        "colab": {
          "base_uri": "https://localhost:8080/"
        }
      }
    },
    {
      "cell_type": "code",
      "execution_count": null,
      "outputs": [
        {
          "output_type": "execute_result",
          "data": {
            "text/plain": [
              "tensor([[[1., 1.],\n",
              "         [1., 1.],\n",
              "         [1., 1.],\n",
              "         [1., 1.]],\n",
              "\n",
              "        [[1., 1.],\n",
              "         [1., 1.],\n",
              "         [1., 1.],\n",
              "         [1., 1.]],\n",
              "\n",
              "        [[1., 1.],\n",
              "         [1., 1.],\n",
              "         [1., 1.],\n",
              "         [1., 1.]]])"
            ]
          },
          "metadata": {},
          "execution_count": 3
        }
      ],
      "source": [
        "torch.ones([3, 4, 2])"
      ],
      "metadata": {
        "pycharm": {
          "name": "#%%\n"
        },
        "id": "tfbSCg1HI16Z",
        "outputId": "ce4406fd-ae6d-4bfc-b187-5458e2b412b3",
        "colab": {
          "base_uri": "https://localhost:8080/"
        }
      }
    },
    {
      "cell_type": "code",
      "execution_count": null,
      "outputs": [
        {
          "output_type": "execute_result",
          "data": {
            "text/plain": [
              "tensor([[ 1.,  2.,  3.,  4.],\n",
              "        [ 5.,  6.,  7.,  8.],\n",
              "        [ 9., 10., 11., 12.]])"
            ]
          },
          "metadata": {},
          "execution_count": 4
        }
      ],
      "source": [
        "torch.Tensor([[1,  2,  3,  4],\n",
        "              [5,  6,  7,  8],\n",
        "              [9, 10, 11, 12]])\n"
      ],
      "metadata": {
        "pycharm": {
          "name": "#%%\n"
        },
        "id": "1sk6YBMrI16a",
        "outputId": "a03fdb29-82ab-461b-e7d2-166d73b97dbe",
        "colab": {
          "base_uri": "https://localhost:8080/"
        }
      }
    },
    {
      "cell_type": "code",
      "execution_count": null,
      "outputs": [],
      "source": [
        "x = torch.Tensor([[1,  2,  3,  4],\n",
        "                  [5,  6,  7,  8],\n",
        "                  [9, 10, 11, 12]])"
      ],
      "metadata": {
        "pycharm": {
          "name": "#%%\n"
        },
        "id": "HuUUqxZcI16b"
      }
    },
    {
      "cell_type": "code",
      "execution_count": null,
      "outputs": [
        {
          "output_type": "execute_result",
          "data": {
            "text/plain": [
              "torch.Size([3, 4])"
            ]
          },
          "metadata": {},
          "execution_count": 6
        }
      ],
      "source": [
        "x.size()"
      ],
      "metadata": {
        "pycharm": {
          "name": "#%%\n"
        },
        "id": "3sEJyYNHI16c",
        "outputId": "a7749b17-d98a-4e15-8a96-5c7f32a83c46",
        "colab": {
          "base_uri": "https://localhost:8080/"
        }
      }
    },
    {
      "cell_type": "code",
      "execution_count": null,
      "outputs": [
        {
          "output_type": "execute_result",
          "data": {
            "text/plain": [
              "torch.Size([3, 4])"
            ]
          },
          "metadata": {},
          "execution_count": 7
        }
      ],
      "source": [
        "x.shape"
      ],
      "metadata": {
        "pycharm": {
          "name": "#%%\n"
        },
        "id": "I9rK15AkI16d",
        "outputId": "bf0105a1-a0bf-4805-d9c8-f24f6979acbb",
        "colab": {
          "base_uri": "https://localhost:8080/"
        }
      }
    },
    {
      "cell_type": "code",
      "execution_count": null,
      "outputs": [
        {
          "output_type": "execute_result",
          "data": {
            "text/plain": [
              "tensor([1., 2., 3., 4.])"
            ]
          },
          "metadata": {},
          "execution_count": 8
        }
      ],
      "source": [
        "x[0]"
      ],
      "metadata": {
        "pycharm": {
          "name": "#%%\n"
        },
        "id": "mY5zOSnQI16e",
        "outputId": "dc0d3748-c84f-4a54-c076-0a4dcb0a1718",
        "colab": {
          "base_uri": "https://localhost:8080/"
        }
      }
    },
    {
      "cell_type": "code",
      "execution_count": null,
      "outputs": [
        {
          "output_type": "execute_result",
          "data": {
            "text/plain": [
              "tensor([5., 6., 7., 8.])"
            ]
          },
          "metadata": {},
          "execution_count": 9
        }
      ],
      "source": [
        "x[1]"
      ],
      "metadata": {
        "pycharm": {
          "name": "#%%\n"
        },
        "id": "De3Fa5DhI16f",
        "outputId": "f81f2ae9-756a-47d0-97c4-bb305a6b8c3b",
        "colab": {
          "base_uri": "https://localhost:8080/"
        }
      }
    },
    {
      "cell_type": "code",
      "execution_count": null,
      "outputs": [
        {
          "output_type": "execute_result",
          "data": {
            "text/plain": [
              "tensor(1.)"
            ]
          },
          "metadata": {},
          "execution_count": 10
        }
      ],
      "source": [
        "x[0, 0]"
      ],
      "metadata": {
        "pycharm": {
          "name": "#%%\n"
        },
        "id": "_HVYfW3vI16g",
        "outputId": "2578e746-016b-492b-d293-7659f6b666a7",
        "colab": {
          "base_uri": "https://localhost:8080/"
        }
      }
    },
    {
      "cell_type": "code",
      "execution_count": null,
      "outputs": [
        {
          "output_type": "execute_result",
          "data": {
            "text/plain": [
              "tensor([1., 5., 9.])"
            ]
          },
          "metadata": {},
          "execution_count": 11
        }
      ],
      "source": [
        "x[:, 0]"
      ],
      "metadata": {
        "pycharm": {
          "name": "#%%\n"
        },
        "id": "brJl0fC1I16g",
        "outputId": "8dc2e8fa-8363-451b-e927-633a468e885a",
        "colab": {
          "base_uri": "https://localhost:8080/"
        }
      }
    },
    {
      "cell_type": "code",
      "execution_count": null,
      "outputs": [
        {
          "output_type": "execute_result",
          "data": {
            "text/plain": [
              "tensor([[11., 12., 13., 14.],\n",
              "        [15., 16., 17., 18.],\n",
              "        [19., 20., 21., 22.]])"
            ]
          },
          "metadata": {},
          "execution_count": 12
        }
      ],
      "source": [
        "x + 10"
      ],
      "metadata": {
        "pycharm": {
          "name": "#%%\n"
        },
        "id": "ckUr3cWqI16h",
        "outputId": "3455acb6-7c6a-4d45-8497-3bda23834e66",
        "colab": {
          "base_uri": "https://localhost:8080/"
        }
      }
    },
    {
      "cell_type": "code",
      "execution_count": null,
      "outputs": [
        {
          "output_type": "execute_result",
          "data": {
            "text/plain": [
              "tensor([[  1.,   4.,   9.,  16.],\n",
              "        [ 25.,  36.,  49.,  64.],\n",
              "        [ 81., 100., 121., 144.]])"
            ]
          },
          "metadata": {},
          "execution_count": 13
        }
      ],
      "source": [
        "x ** 2"
      ],
      "metadata": {
        "pycharm": {
          "name": "#%%\n"
        },
        "id": "v0JNdRF1I16i",
        "colab": {
          "base_uri": "https://localhost:8080/"
        },
        "outputId": "3670938b-419e-4bb7-800f-1b18bf035c87"
      }
    },
    {
      "cell_type": "code",
      "execution_count": null,
      "outputs": [],
      "source": [
        "y = torch.Tensor([[12, 11, 10, 9],\n",
        "                  [8, 7, 6, 5],\n",
        "                  [4, 3, 2, 1]])"
      ],
      "metadata": {
        "pycharm": {
          "name": "#%%\n"
        },
        "id": "1ynGUp3HI16i"
      }
    },
    {
      "cell_type": "code",
      "execution_count": null,
      "outputs": [
        {
          "output_type": "execute_result",
          "data": {
            "text/plain": [
              "tensor([[13., 13., 13., 13.],\n",
              "        [13., 13., 13., 13.],\n",
              "        [13., 13., 13., 13.]])"
            ]
          },
          "metadata": {},
          "execution_count": 15
        }
      ],
      "source": [
        "x + y"
      ],
      "metadata": {
        "pycharm": {
          "name": "#%%\n"
        },
        "id": "EkA0ehTMI16j",
        "outputId": "a3cd8b2f-63e3-40a3-de55-21567caab48a",
        "colab": {
          "base_uri": "https://localhost:8080/"
        }
      }
    },
    {
      "cell_type": "code",
      "execution_count": null,
      "outputs": [
        {
          "output_type": "execute_result",
          "data": {
            "text/plain": [
              "tensor([[2.7183e+00, 7.3891e+00, 2.0086e+01, 5.4598e+01],\n",
              "        [1.4841e+02, 4.0343e+02, 1.0966e+03, 2.9810e+03],\n",
              "        [8.1031e+03, 2.2026e+04, 5.9874e+04, 1.6275e+05]])"
            ]
          },
          "metadata": {},
          "execution_count": 16
        }
      ],
      "source": [
        "torch.exp(x)"
      ],
      "metadata": {
        "pycharm": {
          "name": "#%%\n"
        },
        "id": "Susu-5GWI16l",
        "outputId": "7fb1a9d5-868b-4090-df86-9b4d90636624",
        "colab": {
          "base_uri": "https://localhost:8080/"
        }
      }
    },
    {
      "cell_type": "code",
      "execution_count": null,
      "outputs": [
        {
          "output_type": "execute_result",
          "data": {
            "text/plain": [
              "tensor([[0.0000, 0.6931, 1.0986, 1.3863],\n",
              "        [1.6094, 1.7918, 1.9459, 2.0794],\n",
              "        [2.1972, 2.3026, 2.3979, 2.4849]])"
            ]
          },
          "metadata": {},
          "execution_count": 17
        }
      ],
      "source": [
        "torch.log(x)"
      ],
      "metadata": {
        "pycharm": {
          "name": "#%%\n"
        },
        "id": "abSspR-lI16l",
        "outputId": "e8c64634-17be-4d66-efc9-9ee06d57c9eb",
        "colab": {
          "base_uri": "https://localhost:8080/"
        }
      }
    },
    {
      "cell_type": "code",
      "execution_count": null,
      "outputs": [
        {
          "output_type": "execute_result",
          "data": {
            "text/plain": [
              "tensor([[ 0.8415,  0.9093,  0.1411, -0.7568],\n",
              "        [-0.9589, -0.2794,  0.6570,  0.9894],\n",
              "        [ 0.4121, -0.5440, -1.0000, -0.5366]])"
            ]
          },
          "metadata": {},
          "execution_count": 18
        }
      ],
      "source": [
        "torch.sin(x)"
      ],
      "metadata": {
        "pycharm": {
          "name": "#%%\n"
        },
        "id": "JhpBv1DGI16l",
        "outputId": "6d8c638c-696c-4dcc-c249-8c4ef42ef600",
        "colab": {
          "base_uri": "https://localhost:8080/"
        }
      }
    },
    {
      "cell_type": "code",
      "execution_count": null,
      "outputs": [
        {
          "output_type": "execute_result",
          "data": {
            "text/plain": [
              "tensor([[False, False, False,  True],\n",
              "        [ True,  True,  True,  True],\n",
              "        [ True,  True,  True,  True]])"
            ]
          },
          "metadata": {},
          "execution_count": 19
        }
      ],
      "source": [
        "x > 3"
      ],
      "metadata": {
        "pycharm": {
          "name": "#%%\n"
        },
        "id": "kUWOqoTUI16m",
        "outputId": "30907295-a83a-47bd-ceff-561954de2fce",
        "colab": {
          "base_uri": "https://localhost:8080/"
        }
      }
    },
    {
      "cell_type": "code",
      "execution_count": null,
      "outputs": [
        {
          "output_type": "execute_result",
          "data": {
            "text/plain": [
              "tensor([ 4.,  5.,  6.,  7.,  8.,  9., 10., 11., 12.])"
            ]
          },
          "metadata": {},
          "execution_count": 20
        }
      ],
      "source": [
        "x[x > 3]"
      ],
      "metadata": {
        "pycharm": {
          "name": "#%%\n"
        },
        "id": "ACNusMsTI16m",
        "outputId": "e894eadd-8b63-4bd1-a1c2-d52f886d6ef8",
        "colab": {
          "base_uri": "https://localhost:8080/"
        }
      }
    },
    {
      "cell_type": "markdown",
      "source": [
        "Tensors in pytorch have the type"
      ],
      "metadata": {
        "collapsed": false,
        "pycharm": {
          "name": "#%% md\n"
        },
        "id": "YDySCdBSI16m"
      }
    },
    {
      "cell_type": "code",
      "execution_count": null,
      "outputs": [
        {
          "output_type": "stream",
          "name": "stdout",
          "text": [
            "tensor([[ 1.,  2.,  3.,  4.],\n",
            "        [ 5.,  6.,  7.,  8.],\n",
            "        [ 9., 10., 11., 12.]], dtype=torch.float64)\n",
            "tensor([[ 1,  2,  3,  4],\n",
            "        [ 5,  6,  7,  8],\n",
            "        [ 9, 10, 11, 12]], dtype=torch.int32)\n",
            "tensor([[ 1.,  2.,  3.,  4.],\n",
            "        [ 5.,  6.,  7.,  8.],\n",
            "        [ 9., 10., 11., 12.]])\n"
          ]
        }
      ],
      "source": [
        "x = x.double()\n",
        "print(x)\n",
        "x = x.int()\n",
        "print(x)\n",
        "x = x.float()\n",
        "print(x)"
      ],
      "metadata": {
        "pycharm": {
          "name": "#%%\n"
        },
        "id": "uqMZ9TKMI16m",
        "outputId": "8be424ae-6d8c-406c-8a90-5c8ecdd02b61",
        "colab": {
          "base_uri": "https://localhost:8080/"
        }
      }
    },
    {
      "cell_type": "markdown",
      "source": [
        "Since pytorch is based on numpy, it has a lot of functions that are \"inherited\""
      ],
      "metadata": {
        "id": "dZVfx5OY37ek"
      }
    },
    {
      "cell_type": "markdown",
      "source": [
        "Let`s get the diagonal of a dot product"
      ],
      "metadata": {
        "id": "_alFAC-B7mH2"
      }
    },
    {
      "cell_type": "code",
      "source": [
        "import numpy as np"
      ],
      "metadata": {
        "id": "jEPSarJo6QMe"
      },
      "execution_count": null,
      "outputs": []
    },
    {
      "cell_type": "code",
      "source": [
        "A_np = np.random.uniform(0,1,(5,5))\n",
        "B_np = np.random.uniform(0,1,(5,5))"
      ],
      "metadata": {
        "id": "0CvQ2ILj6Rm0"
      },
      "execution_count": null,
      "outputs": []
    },
    {
      "cell_type": "code",
      "source": [
        "np.sum(A_np * B_np.T, axis=1)"
      ],
      "metadata": {
        "id": "Eu8JHh5C66ws",
        "colab": {
          "base_uri": "https://localhost:8080/"
        },
        "outputId": "5cedff50-f645-486b-99d4-600822236269"
      },
      "execution_count": null,
      "outputs": [
        {
          "output_type": "execute_result",
          "data": {
            "text/plain": [
              "array([0.98919983, 1.65461387, 1.12061005, 1.92534175, 1.2071264 ])"
            ]
          },
          "metadata": {},
          "execution_count": 24
        }
      ]
    },
    {
      "cell_type": "markdown",
      "source": [
        "And the same task on pytorch"
      ],
      "metadata": {
        "id": "Nep5dGYL7Yoe"
      }
    },
    {
      "cell_type": "code",
      "source": [
        "A_torch = torch.FloatTensor(5, 5).uniform_(0, 1)\n",
        "B_torch = torch.FloatTensor(5, 5).uniform_(0, 1)"
      ],
      "metadata": {
        "id": "XD7W2ak96Bua"
      },
      "execution_count": null,
      "outputs": []
    },
    {
      "cell_type": "code",
      "source": [
        "torch.sum(A_torch * B_torch.T, axis=1)"
      ],
      "metadata": {
        "colab": {
          "base_uri": "https://localhost:8080/"
        },
        "id": "IhzhZIsu7gxz",
        "outputId": "b27ef75d-5516-44f4-cb1c-1e38a0ef4157"
      },
      "execution_count": null,
      "outputs": [
        {
          "output_type": "execute_result",
          "data": {
            "text/plain": [
              "tensor([1.1757, 1.6072, 1.6935, 0.8077, 1.8548])"
            ]
          },
          "metadata": {},
          "execution_count": 26
        }
      ]
    },
    {
      "cell_type": "markdown",
      "source": [
        "# Computing on cuda"
      ],
      "metadata": {
        "collapsed": false,
        "pycharm": {
          "name": "#%% md\n"
        },
        "id": "9V39nGsMI16m"
      }
    },
    {
      "cell_type": "markdown",
      "source": [
        "One of the main functions of pytorch is the ability to perform calculations on a video card\n",
        "One of the main functions of pytorch is the ability to perform calculations on a video card. If you don't have a video card or torch.cuda.is_available() returns False - skip the next section"
      ],
      "metadata": {
        "collapsed": false,
        "pycharm": {
          "name": "#%% md\n"
        },
        "id": "ZsOh6H9HI16m"
      }
    },
    {
      "cell_type": "code",
      "execution_count": null,
      "outputs": [
        {
          "output_type": "execute_result",
          "data": {
            "text/plain": [
              "False"
            ]
          },
          "metadata": {},
          "execution_count": 27
        }
      ],
      "source": [
        "torch.cuda.is_available()"
      ],
      "metadata": {
        "pycharm": {
          "name": "#%%\n"
        },
        "id": "X_X2B0e-I16m",
        "outputId": "724bbda1-bd6f-480d-bec3-950e2013d3f8",
        "colab": {
          "base_uri": "https://localhost:8080/"
        }
      }
    },
    {
      "cell_type": "code",
      "execution_count": null,
      "outputs": [
        {
          "output_type": "execute_result",
          "data": {
            "text/plain": [
              "device(type='cuda', index=0)"
            ]
          },
          "metadata": {},
          "execution_count": 28
        }
      ],
      "source": [
        "torch.device('cuda:0')"
      ],
      "metadata": {
        "pycharm": {
          "name": "#%%\n"
        },
        "id": "Eec_WcbOI16o",
        "outputId": "9b701b48-cfcd-4cc9-d43d-d573da8da638",
        "colab": {
          "base_uri": "https://localhost:8080/"
        }
      }
    },
    {
      "cell_type": "code",
      "execution_count": null,
      "outputs": [
        {
          "output_type": "execute_result",
          "data": {
            "text/plain": [
              "device(type='cpu')"
            ]
          },
          "metadata": {},
          "execution_count": 29
        }
      ],
      "source": [
        "torch.device('cpu')"
      ],
      "metadata": {
        "pycharm": {
          "name": "#%%\n"
        },
        "id": "Ql7m6V9EI16o",
        "outputId": "c0423c08-1c17-476b-e4a5-d9b2dda5c812",
        "colab": {
          "base_uri": "https://localhost:8080/"
        }
      }
    },
    {
      "cell_type": "code",
      "execution_count": null,
      "outputs": [
        {
          "output_type": "execute_result",
          "data": {
            "text/plain": [
              "device(type='cpu')"
            ]
          },
          "metadata": {},
          "execution_count": 30
        }
      ],
      "source": [
        "device = torch.device('cuda:0' if torch.cuda.is_available() else 'cpu')\n",
        "device"
      ],
      "metadata": {
        "pycharm": {
          "name": "#%%\n"
        },
        "id": "RYgoki3rI16o",
        "outputId": "f9e29083-3e28-4ae2-c150-440df500633a",
        "colab": {
          "base_uri": "https://localhost:8080/"
        }
      }
    },
    {
      "cell_type": "code",
      "execution_count": null,
      "outputs": [],
      "source": [
        "x_cuda = x.to(device)\n",
        "# x_cuda"
      ],
      "metadata": {
        "pycharm": {
          "name": "#%%\n"
        },
        "id": "YpjK9etgI16p"
      }
    },
    {
      "cell_type": "markdown",
      "source": [
        "Let's compare the speed of calculations on GPU and CPU"
      ],
      "metadata": {
        "collapsed": false,
        "pycharm": {
          "name": "#%% md\n"
        },
        "id": "y-5M6btHI16p"
      }
    },
    {
      "cell_type": "code",
      "execution_count": null,
      "outputs": [
        {
          "output_type": "stream",
          "name": "stdout",
          "text": [
            "CPU times: user 168 µs, sys: 31 µs, total: 199 µs\n",
            "Wall time: 205 µs\n"
          ]
        }
      ],
      "source": [
        "# CPU\n",
        "%time y = (x - x + x * 10.0) ** 2"
      ],
      "metadata": {
        "pycharm": {
          "name": "#%%\n"
        },
        "id": "RZLazmYpI16p",
        "outputId": "4f0b99f2-ebd5-4a08-b534-50a04e16c5ee",
        "colab": {
          "base_uri": "https://localhost:8080/"
        }
      }
    },
    {
      "cell_type": "code",
      "execution_count": null,
      "outputs": [
        {
          "output_type": "stream",
          "name": "stdout",
          "text": [
            "CPU times: user 162 µs, sys: 30 µs, total: 192 µs\n",
            "Wall time: 202 µs\n"
          ]
        }
      ],
      "source": [
        "# GPU\n",
        "%time y_cuda = (x_cuda - x_cuda + x_cuda * 10.0) ** 2"
      ],
      "metadata": {
        "pycharm": {
          "name": "#%%\n"
        },
        "id": "wRrmteqjI16q",
        "outputId": "42a9d011-55bf-4133-c586-ee10c669ed2c",
        "colab": {
          "base_uri": "https://localhost:8080/"
        }
      }
    },
    {
      "cell_type": "markdown",
      "source": [
        "Well... For small amounts of data, gpu computing is not worth it"
      ],
      "metadata": {
        "collapsed": false,
        "pycharm": {
          "name": "#%% md\n"
        },
        "id": "0OKX2xBdI16q"
      }
    },
    {
      "cell_type": "markdown",
      "source": [
        "But let's compare on large tensors"
      ],
      "metadata": {
        "collapsed": false,
        "pycharm": {
          "name": "#%% md\n"
        },
        "id": "AKowjBfJI16r"
      }
    },
    {
      "cell_type": "code",
      "execution_count": null,
      "outputs": [],
      "source": [
        "big_tensor = torch.rand((10000,10000))"
      ],
      "metadata": {
        "pycharm": {
          "name": "#%%\n"
        },
        "id": "_rmwuHfmI16r"
      }
    },
    {
      "cell_type": "code",
      "execution_count": null,
      "outputs": [
        {
          "output_type": "stream",
          "name": "stdout",
          "text": [
            "CPU times: user 308 ms, sys: 709 ms, total: 1.02 s\n",
            "Wall time: 1.05 s\n"
          ]
        },
        {
          "output_type": "execute_result",
          "data": {
            "text/plain": [
              "tensor([[1.5312e-02, 1.2888e+01, 2.0882e+01,  ..., 1.3533e-02, 3.6948e+01,\n",
              "         4.6918e+01],\n",
              "        [2.4941e+01, 7.8623e+01, 3.3098e+01,  ..., 2.8925e+01, 1.4413e-02,\n",
              "         5.6138e+01],\n",
              "        [5.1223e+00, 9.8603e-01, 1.1755e-01,  ..., 1.8352e+00, 5.9719e+01,\n",
              "         1.4836e+01],\n",
              "        ...,\n",
              "        [7.1832e+01, 2.9171e+01, 3.1513e+00,  ..., 7.3270e-01, 9.7492e-03,\n",
              "         1.0046e+01],\n",
              "        [2.0437e+01, 1.0467e+01, 6.8497e+01,  ..., 2.0703e+01, 3.6937e+01,\n",
              "         8.9356e+01],\n",
              "        [2.3421e+01, 1.4691e+01, 2.2423e+01,  ..., 9.9675e-01, 8.8142e+01,\n",
              "         6.0625e+01]])"
            ]
          },
          "metadata": {},
          "execution_count": 35
        }
      ],
      "source": [
        "# CPU\n",
        "%time (big_tensor - big_tensor + big_tensor * 10.0) ** 2"
      ],
      "metadata": {
        "pycharm": {
          "name": "#%%\n"
        },
        "id": "3-H9qmLII16r",
        "outputId": "502db839-61d7-4f7a-9474-772f51c599af",
        "colab": {
          "base_uri": "https://localhost:8080/"
        }
      }
    },
    {
      "cell_type": "code",
      "execution_count": null,
      "outputs": [],
      "source": [
        "big_tensor_cuda = big_tensor.to(device)"
      ],
      "metadata": {
        "pycharm": {
          "name": "#%%\n"
        },
        "id": "S9mXJMpzI16r"
      }
    },
    {
      "cell_type": "code",
      "execution_count": null,
      "outputs": [
        {
          "output_type": "stream",
          "name": "stdout",
          "text": [
            "CPU times: user 394 ms, sys: 255 ms, total: 649 ms\n",
            "Wall time: 646 ms\n"
          ]
        },
        {
          "output_type": "execute_result",
          "data": {
            "text/plain": [
              "tensor([[1.5312e-02, 1.2888e+01, 2.0882e+01,  ..., 1.3533e-02, 3.6948e+01,\n",
              "         4.6918e+01],\n",
              "        [2.4941e+01, 7.8623e+01, 3.3098e+01,  ..., 2.8925e+01, 1.4413e-02,\n",
              "         5.6138e+01],\n",
              "        [5.1223e+00, 9.8603e-01, 1.1755e-01,  ..., 1.8352e+00, 5.9719e+01,\n",
              "         1.4836e+01],\n",
              "        ...,\n",
              "        [7.1832e+01, 2.9171e+01, 3.1513e+00,  ..., 7.3270e-01, 9.7492e-03,\n",
              "         1.0046e+01],\n",
              "        [2.0437e+01, 1.0467e+01, 6.8497e+01,  ..., 2.0703e+01, 3.6937e+01,\n",
              "         8.9356e+01],\n",
              "        [2.3421e+01, 1.4691e+01, 2.2423e+01,  ..., 9.9675e-01, 8.8142e+01,\n",
              "         6.0625e+01]])"
            ]
          },
          "metadata": {},
          "execution_count": 37
        }
      ],
      "source": [
        "%time (big_tensor_cuda - big_tensor_cuda + big_tensor_cuda * 10.0) ** 2"
      ],
      "metadata": {
        "pycharm": {
          "name": "#%%\n"
        },
        "id": "uLmi4LHtI16r",
        "outputId": "17e9f775-622d-4bf2-b297-9cc59a0e19d5",
        "colab": {
          "base_uri": "https://localhost:8080/"
        }
      }
    },
    {
      "cell_type": "markdown",
      "source": [
        "Yes, on large tensors the acceleration reaches tens and hundreds of times"
      ],
      "metadata": {
        "collapsed": false,
        "pycharm": {
          "name": "#%% md\n"
        },
        "id": "iM0IwDDiI16r"
      }
    },
    {
      "cell_type": "markdown",
      "source": [
        "# Pytorch for creating neural networks"
      ],
      "metadata": {
        "collapsed": false,
        "pycharm": {
          "name": "#%% md\n"
        },
        "id": "bEg0BxZMI16s"
      }
    },
    {
      "cell_type": "markdown",
      "source": [
        "Pytorch is a powerful library that has everything you need to build a neural network: gradient calculation, neural network layers, optimizers and much more"
      ],
      "metadata": {
        "collapsed": false,
        "pycharm": {
          "name": "#%% md\n"
        },
        "id": "oCjQqRK3I16s"
      }
    },
    {
      "cell_type": "code",
      "execution_count": null,
      "outputs": [],
      "source": [
        "import torch\n",
        "import torchvision\n",
        "import torch.nn as nn\n",
        "import numpy as np\n",
        "import torchvision.transforms as transforms"
      ],
      "metadata": {
        "pycharm": {
          "name": "#%%\n"
        },
        "id": "bshDAsXKI16s"
      }
    },
    {
      "cell_type": "markdown",
      "source": [
        "1. Basic autograd example 1"
      ],
      "metadata": {
        "collapsed": false,
        "pycharm": {
          "name": "#%% md\n"
        },
        "id": "NypxUvT7I16s"
      }
    },
    {
      "cell_type": "code",
      "execution_count": null,
      "outputs": [],
      "source": [
        "# Create tensors.\n",
        "x = torch.tensor(1., requires_grad=True)\n",
        "w = torch.tensor(2., requires_grad=True)\n",
        "b = torch.tensor(3., requires_grad=True)"
      ],
      "metadata": {
        "pycharm": {
          "name": "#%%\n"
        },
        "id": "gLKUcUoYI16t"
      }
    },
    {
      "cell_type": "code",
      "execution_count": null,
      "outputs": [],
      "source": [
        "# Build a computational graph.\n",
        "y = w * x + b    # y = 2 * x + 3"
      ],
      "metadata": {
        "pycharm": {
          "name": "#%%\n"
        },
        "id": "1fN03fiJI16t"
      }
    },
    {
      "cell_type": "code",
      "execution_count": null,
      "outputs": [],
      "source": [
        "# Compute gradients.\n",
        "y.backward()"
      ],
      "metadata": {
        "pycharm": {
          "name": "#%%\n"
        },
        "id": "xVFF0EaTI16t"
      }
    },
    {
      "cell_type": "code",
      "execution_count": null,
      "outputs": [
        {
          "output_type": "stream",
          "name": "stdout",
          "text": [
            "tensor(2.)\n",
            "tensor(1.)\n",
            "tensor(1.)\n"
          ]
        }
      ],
      "source": [
        "# Print out the gradients.\n",
        "print(x.grad)    # x.grad = 2\n",
        "print(w.grad)    # w.grad = 1\n",
        "print(b.grad)    # b.grad = 1"
      ],
      "metadata": {
        "pycharm": {
          "name": "#%%\n"
        },
        "id": "2nuaC72tI16t",
        "outputId": "cae0b88e-9d8e-4f3e-9079-40b0d2a4bd3b",
        "colab": {
          "base_uri": "https://localhost:8080/"
        }
      }
    },
    {
      "cell_type": "markdown",
      "source": [
        "    2. Basic autograd example 2"
      ],
      "metadata": {
        "collapsed": false,
        "pycharm": {
          "name": "#%% md\n"
        },
        "id": "hfdtvCelI16u"
      }
    },
    {
      "cell_type": "code",
      "execution_count": null,
      "outputs": [],
      "source": [
        "# Create tensors of shape (10, 3) and (10, 2).\n",
        "x = torch.randn(10, 3)\n",
        "y = torch.randn(10, 2)"
      ],
      "metadata": {
        "pycharm": {
          "name": "#%%\n"
        },
        "id": "BkOjl7KGI16u"
      }
    },
    {
      "cell_type": "code",
      "execution_count": null,
      "outputs": [
        {
          "output_type": "stream",
          "name": "stdout",
          "text": [
            "w:  Parameter containing:\n",
            "tensor([[ 0.5550, -0.0482,  0.2337],\n",
            "        [ 0.2579, -0.3623,  0.1535]], requires_grad=True)\n",
            "b:  Parameter containing:\n",
            "tensor([-0.3629,  0.5467], requires_grad=True)\n"
          ]
        }
      ],
      "source": [
        "# Build a fully connected layer.\n",
        "linear = nn.Linear(3, 2)\n",
        "print ('w: ', linear.weight)\n",
        "print ('b: ', linear.bias)"
      ],
      "metadata": {
        "pycharm": {
          "name": "#%%\n"
        },
        "id": "PIi9x4zdI16u",
        "outputId": "54ba35d8-009d-4b2e-a1cd-651428ed8fa3",
        "colab": {
          "base_uri": "https://localhost:8080/"
        }
      }
    },
    {
      "cell_type": "code",
      "execution_count": null,
      "outputs": [],
      "source": [
        "# Build loss function and optimizer.\n",
        "criterion = nn.MSELoss()\n",
        "optimizer = torch.optim.SGD(linear.parameters(), lr=0.01)"
      ],
      "metadata": {
        "pycharm": {
          "name": "#%%\n"
        },
        "id": "Xo6mEvReI16u"
      }
    },
    {
      "cell_type": "code",
      "execution_count": null,
      "outputs": [],
      "source": [
        "# Forward pass.\n",
        "pred = linear(x)"
      ],
      "metadata": {
        "pycharm": {
          "name": "#%%\n"
        },
        "id": "YmZaC2lMI16w"
      }
    },
    {
      "cell_type": "code",
      "execution_count": null,
      "outputs": [
        {
          "output_type": "stream",
          "name": "stdout",
          "text": [
            "loss:  1.5264966487884521\n"
          ]
        }
      ],
      "source": [
        "# Compute loss.\n",
        "loss = criterion(pred, y)\n",
        "print('loss: ', loss.item())"
      ],
      "metadata": {
        "pycharm": {
          "name": "#%%\n"
        },
        "id": "cPwDmI-sI16w",
        "outputId": "1aadc746-ff05-4ad1-a1d4-f01076811b0d",
        "colab": {
          "base_uri": "https://localhost:8080/"
        }
      }
    },
    {
      "cell_type": "code",
      "execution_count": null,
      "outputs": [],
      "source": [
        "# Backward pass.\n",
        "loss.backward()"
      ],
      "metadata": {
        "pycharm": {
          "name": "#%%\n"
        },
        "id": "hI0PfQBpI16w"
      }
    },
    {
      "cell_type": "code",
      "execution_count": null,
      "outputs": [
        {
          "output_type": "stream",
          "name": "stdout",
          "text": [
            "dL/dw:  tensor([[0.5963, 0.0417, 0.0163],\n",
            "        [0.3137, 0.2479, 0.5955]])\n",
            "dL/db:  tensor([-0.7296,  0.7412])\n"
          ]
        }
      ],
      "source": [
        "# Print out the gradients.\n",
        "print ('dL/dw: ', linear.weight.grad)\n",
        "print ('dL/db: ', linear.bias.grad)"
      ],
      "metadata": {
        "pycharm": {
          "name": "#%%\n"
        },
        "id": "FtI_3q2eI16w",
        "outputId": "1fb86212-0d18-4928-b787-ced7c192e219",
        "colab": {
          "base_uri": "https://localhost:8080/"
        }
      }
    },
    {
      "cell_type": "code",
      "execution_count": null,
      "outputs": [],
      "source": [
        "# 1-step gradient descent.\n",
        "optimizer.step()"
      ],
      "metadata": {
        "pycharm": {
          "name": "#%%\n"
        },
        "id": "XZVJ1jgCI16w"
      }
    },
    {
      "cell_type": "code",
      "execution_count": null,
      "outputs": [
        {
          "output_type": "stream",
          "name": "stdout",
          "text": [
            "loss after 1 step optimization:  1.5070531368255615\n"
          ]
        }
      ],
      "source": [
        "# Print out the loss after 1-step gradient descent.\n",
        "pred = linear(x)\n",
        "loss = criterion(pred, y)\n",
        "print('loss after 1 step optimization: ', loss.item())"
      ],
      "metadata": {
        "pycharm": {
          "name": "#%%\n"
        },
        "id": "4O2JiAteI16x",
        "outputId": "9843903e-2fc6-4d15-eb94-314ab9aed4b6",
        "colab": {
          "base_uri": "https://localhost:8080/"
        }
      }
    },
    {
      "cell_type": "code",
      "execution_count": null,
      "outputs": [],
      "source": [],
      "metadata": {
        "pycharm": {
          "name": "#%%\n"
        },
        "id": "KTDZO8OQI16x"
      }
    },
    {
      "cell_type": "markdown",
      "source": [],
      "metadata": {
        "id": "b6v56yeDJAvC"
      }
    },
    {
      "cell_type": "markdown",
      "source": [
        "# First neural network "
      ],
      "metadata": {
        "id": "Wap4GEPpJEul"
      }
    },
    {
      "cell_type": "code",
      "source": [
        "import matplotlib.pyplot as plt\n",
        "import matplotlib\n",
        "matplotlib.rcParams['figure.figsize'] = (13.0, 5.0)"
      ],
      "metadata": {
        "id": "sEM46lKR3mpB"
      },
      "execution_count": null,
      "outputs": []
    },
    {
      "cell_type": "markdown",
      "source": [
        "Let's create a simple linear neural network for sine regression"
      ],
      "metadata": {
        "id": "hT_a8AhWJQu5"
      }
    },
    {
      "cell_type": "markdown",
      "source": [
        "Generate a training dataset"
      ],
      "metadata": {
        "id": "HxozkgtomZpI"
      }
    },
    {
      "cell_type": "code",
      "source": [
        "x_train = torch.rand(100)\n",
        "x_train = x_train * 20.0 - 10.0\n",
        "\n",
        "y_train = torch.sin(x_train)\n",
        "\n",
        "plt.plot(x_train.numpy(), y_train.numpy(), 'o')\n",
        "plt.title('$y = sin(x)$');"
      ],
      "metadata": {
        "id": "F8WjVJVwJQTM",
        "colab": {
          "base_uri": "https://localhost:8080/",
          "height": 338
        },
        "outputId": "8c75c74e-e7c3-4080-b7d2-628d953bec66"
      },
      "execution_count": null,
      "outputs": [
        {
          "output_type": "display_data",
          "data": {
            "text/plain": [
              "<Figure size 936x360 with 1 Axes>"
            ],
            "image/png": "[encoded data removed]"
          },
          "metadata": {
            "needs_background": "light"
          }
        }
      ]
    },
    {
      "cell_type": "markdown",
      "source": [
        "and a bit of Gaussian noise"
      ],
      "metadata": {
        "id": "M-jY0KMTmlNi"
      }
    },
    {
      "cell_type": "code",
      "source": [
        "noise = torch.randn(y_train.shape) / 5.\n",
        "\n",
        "plt.plot(x_train.numpy(), noise.numpy(), 'o')\n",
        "plt.axis([-10, 10, -1, 1])\n",
        "plt.title('Gaussian noise');"
      ],
      "metadata": {
        "colab": {
          "base_uri": "https://localhost:8080/",
          "height": 336
        },
        "id": "PmMjFHosmkng",
        "outputId": "ac08a0cc-a5c7-4148-ebe9-f295d478aa60"
      },
      "execution_count": null,
      "outputs": [
        {
          "output_type": "display_data",
          "data": {
            "text/plain": [
              "<Figure size 936x360 with 1 Axes>"
            ],
            "image/png": "[encoded data removed]"
          },
          "metadata": {
            "needs_background": "light"
          }
        }
      ]
    },
    {
      "cell_type": "markdown",
      "source": [
        "Let's combine them. Now the sine is not so obvious"
      ],
      "metadata": {
        "id": "uc8WRXLdnBcm"
      }
    },
    {
      "cell_type": "code",
      "source": [
        "y_train = y_train + noise\n",
        "plt.plot(x_train.numpy(), y_train.numpy(), 'o')\n",
        "plt.title('noisy sin(x)')\n",
        "plt.xlabel('x_train')\n",
        "plt.ylabel('y_train');"
      ],
      "metadata": {
        "colab": {
          "base_uri": "https://localhost:8080/",
          "height": 351
        },
        "id": "GLA4hHa0muOr",
        "outputId": "51c422bd-a3b1-4448-cd63-34c54752df2b"
      },
      "execution_count": null,
      "outputs": [
        {
          "output_type": "display_data",
          "data": {
            "text/plain": [
              "<Figure size 936x360 with 1 Axes>"
            ],
            "image/png": "[encoded data removed]"
          },
          "metadata": {
            "needs_background": "light"
          }
        }
      ]
    },
    {
      "cell_type": "code",
      "source": [
        "x_train.unsqueeze_(1)\n",
        "y_train.unsqueeze_(1);\n",
        "tmp = torch.Tensor([1,2,3])\n",
        "print(tmp)\n",
        "print(tmp.unsqueeze(1))"
      ],
      "metadata": {
        "colab": {
          "base_uri": "https://localhost:8080/"
        },
        "id": "hgDVBqnBnJmH",
        "outputId": "8c91b140-fd34-43b4-ceac-c874bf538da8"
      },
      "execution_count": null,
      "outputs": [
        {
          "output_type": "stream",
          "name": "stdout",
          "text": [
            "tensor([1., 2., 3.])\n",
            "tensor([[1.],\n",
            "        [2.],\n",
            "        [3.]])\n"
          ]
        }
      ]
    },
    {
      "cell_type": "markdown",
      "source": [
        "Generate another pure sine as a test dataset"
      ],
      "metadata": {
        "id": "1_UrZqb-sq0B"
      }
    },
    {
      "cell_type": "code",
      "source": [
        "x_validation = torch.linspace(-10, 10, 100)\n",
        "y_validation = torch.sin(x_validation.data)\n",
        "plt.plot(x_validation.numpy(), y_validation.numpy(), 'o')\n",
        "plt.title('sin(x)')\n",
        "plt.xlabel('x_validation')\n",
        "plt.ylabel('y_validation');"
      ],
      "metadata": {
        "colab": {
          "base_uri": "https://localhost:8080/",
          "height": 351
        },
        "id": "e4enKbv0nO56",
        "outputId": "cd1e2fe1-42eb-4d83-b921-526d45fd31d3"
      },
      "execution_count": null,
      "outputs": [
        {
          "output_type": "display_data",
          "data": {
            "text/plain": [
              "<Figure size 936x360 with 1 Axes>"
            ],
            "image/png": "[encoded data removed]"
          },
          "metadata": {
            "needs_background": "light"
          }
        }
      ]
    },
    {
      "cell_type": "code",
      "source": [
        "x_validation.unsqueeze_(1)\n",
        "y_validation.unsqueeze_(1);"
      ],
      "metadata": {
        "id": "jnyxqvHpsv5w"
      },
      "execution_count": null,
      "outputs": []
    },
    {
      "cell_type": "markdown",
      "source": [
        "Let's create a model"
      ],
      "metadata": {
        "id": "tR78_destzZa"
      }
    },
    {
      "cell_type": "code",
      "source": [
        "class SineNet(torch.nn.Module):\n",
        "    def __init__(self, n_hidden_neurons):\n",
        "        super(SineNet, self).__init__()\n",
        "        self.fc1 = torch.nn.Linear(1, n_hidden_neurons)\n",
        "        self.act1 = torch.nn.ReLU()\n",
        "        self.fc2 = torch.nn.Linear(n_hidden_neurons, 1)\n",
        "\n",
        "    def forward(self, x):\n",
        "        \"\"\" \n",
        "        OK, now your task is to write the forward function. \n",
        "        To do this, you need to take the input data x \n",
        "        and apply each of the layers to them one by one.\n",
        "        Try it, it shouldn't be difficult! ( _ points)\n",
        "        \"\"\"\n",
        "        return ...\n",
        "\n",
        "sine_net = SineNet(3)"
      ],
      "metadata": {
        "id": "XfxSMCE4t1cO"
      },
      "execution_count": null,
      "outputs": []
    },
    {
      "cell_type": "markdown",
      "source": [
        "and a function for prediction\n",
        "\n",
        "Let's try to make a test prediction. Maybe the network is good enough as it is?"
      ],
      "metadata": {
        "id": "Ekt8sgkzvK74"
      }
    },
    {
      "cell_type": "code",
      "source": [
        " def predict(net, x, y):\n",
        "    y_pred = net.forward(x)\n",
        "\n",
        "    plt.plot(x.numpy(), y.numpy(), 'o', label='Groud truth')\n",
        "    plt.plot(x.numpy(), y_pred.data.numpy(), 'o', c='r', label='Prediction');\n",
        "    plt.legend(loc='upper left')\n",
        "    plt.xlabel('$x$')\n",
        "    plt.ylabel('$y$')\n",
        "\n",
        "predict(sine_net, x_validation, y_validation)"
      ],
      "metadata": {
        "id": "gP80e-hdvAvc"
      },
      "execution_count": null,
      "outputs": []
    },
    {
      "cell_type": "markdown",
      "source": [
        "Let's create an optimizer and a loss function"
      ],
      "metadata": {
        "id": "vL28VfHBvZCC"
      }
    },
    {
      "cell_type": "code",
      "source": [
        "optimizer = torch.optim.SGD(sine_net.parameters(), lr=0.01)"
      ],
      "metadata": {
        "id": "hTcYholZ2-nJ"
      },
      "execution_count": null,
      "outputs": []
    },
    {
      "cell_type": "code",
      "source": [
        "def loss(pred, target):\n",
        "    squares = (pred - target) ** 2\n",
        "    return squares.mean()"
      ],
      "metadata": {
        "id": "dtY-5PDC3Izw"
      },
      "execution_count": null,
      "outputs": []
    },
    {
      "cell_type": "markdown",
      "source": [
        "And finally, we will create a learning loop and train our neural network!"
      ],
      "metadata": {
        "id": "aRkW0MUk3RlJ"
      }
    },
    {
      "cell_type": "code",
      "source": [
        "for epoch_index in range(2000):\n",
        "    optimizer.zero_grad()\n",
        "\n",
        "    y_pred = sine_net.forward(x_train)\n",
        "    loss_val = loss(y_pred, y_train)\n",
        "\n",
        "    loss_val.backward()\n",
        "\n",
        "    optimizer.step()\n",
        "\n",
        "predict(sine_net, x_validation, y_validation)"
      ],
      "metadata": {
        "id": "CqpLedn83Q90"
      },
      "execution_count": null,
      "outputs": []
    },
    {
      "cell_type": "code",
      "source": [
        "print(loss_val)"
      ],
      "metadata": {
        "id": "UVd9-ohVf1TX"
      },
      "execution_count": null,
      "outputs": []
    },
    {
      "cell_type": "markdown",
      "source": [
        "Oooooey, it doesn't look that good... What is the problem? The problem is the size of the network - it is too small. You will need to solve this problem yourself now. Try to increase the number of neurons or add layers - everything is in your hands"
      ],
      "metadata": {
        "id": "3-D1mLAW4K_w"
      }
    },
    {
      "cell_type": "markdown",
      "source": [
        "# Write your own network(_ points)"
      ],
      "metadata": {
        "id": "Gm7G6vRQNXBu"
      }
    },
    {
      "cell_type": "code",
      "source": [
        "class YourSineNet(torch.nn.Module):\n",
        "    def __init__(self, n_hidden_neurons):\n",
        "        super(YourSineNet, self).__init__()\n",
        "        \"\"\"Here you need to create a network architecture. \n",
        "           Specify the layers you want to use. For example,\n",
        "           try using another activation function - nn.Sigmoid or nn.Tanh\"\"\"\n",
        "\n",
        "    def forward(self, x):\n",
        "        \"\"\" \n",
        "        Forward you have already created so it shouldn't be a problem at all\n",
        "        \"\"\"\n",
        "        return ...\n"
      ],
      "metadata": {
        "id": "ZMsnwEn6Op5C"
      },
      "execution_count": null,
      "outputs": []
    },
    {
      "cell_type": "code",
      "source": [
        "your_sine_net = YourSineNet(n_hidden_neurons=...)"
      ],
      "metadata": {
        "id": "nC358iAc3uU-"
      },
      "execution_count": null,
      "outputs": []
    },
    {
      "cell_type": "code",
      "source": [
        "your_optimizer = ... #You can also experiment with the optimizer"
      ],
      "metadata": {
        "id": "KoB--jC94sk_"
      },
      "execution_count": null,
      "outputs": []
    },
    {
      "cell_type": "code",
      "source": [
        "for epoch_index in range(2000):\n",
        "    your_optimizer.zero_grad()\n",
        "\n",
        "    your_y_pred = your_sine_net.forward(x_train)\n",
        "    your_loss_val = loss(your_y_pred, y_train)\n",
        "\n",
        "    your_loss_val.backward()\n",
        "\n",
        "    your_optimizer.step()\n",
        "\n",
        "predict(your_sine_net, x_validation, y_validation)"
      ],
      "metadata": {
        "id": "Gj-De7g-40jg"
      },
      "execution_count": null,
      "outputs": []
    },
    {
      "cell_type": "code",
      "source": [
        "assert your_loss_val < 0.03"
      ],
      "metadata": {
        "id": "LO8R9szcSlRL"
      },
      "execution_count": null,
      "outputs": []
    },
    {
      "cell_type": "markdown",
      "source": [
        "Unfortunately, a neural network with such a simple architecture cannot approximate data beyond the interval used in training"
      ],
      "metadata": {
        "id": "5fV5YOFpb0RF"
      }
    },
    {
      "cell_type": "code",
      "source": [
        "predict(sine_net,torch.Tensor(np.linspace(100,110,20)).unsqueeze_(1),torch.sin(torch.Tensor(np.linspace(100,110,20)).unsqueeze_(1)))"
      ],
      "metadata": {
        "id": "TngytjydKcPF"
      },
      "execution_count": null,
      "outputs": []
    },
    {
      "cell_type": "code",
      "source": [],
      "metadata": {
        "id": "Pwyojd6BPq0x"
      },
      "execution_count": null,
      "outputs": []
    }
  ],
  "metadata": {
    "kernelspec": {
      "display_name": "Python 3",
      "language": "python",
      "name": "python3"
    },
    "language_info": {
      "codemirror_mode": {
        "name": "ipython",
        "version": 2
      },
      "file_extension": ".py",
      "mimetype": "text/x-python",
      "name": "python",
      "nbconvert_exporter": "python",
      "pygments_lexer": "ipython2",
      "version": "2.7.6"
    },
    "colab": {
      "provenance": [],
      "toc_visible": true,
      "collapsed_sections": [
        "9V39nGsMI16m",
        "bEg0BxZMI16s"
      ]
    },
    "gpuClass": "standard"
  },
  "nbformat": 4,
  "nbformat_minor": 0
}