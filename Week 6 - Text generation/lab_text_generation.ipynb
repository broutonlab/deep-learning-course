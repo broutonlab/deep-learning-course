{
 "cells": [
  {
   "cell_type": "markdown",
   "metadata": {},
   "source": [
    "In this notebook we'll learn how to sample new texts with deep learning!"
   ]
  },
  {
   "cell_type": "markdown",
   "metadata": {},
   "source": [
    "imports for all cases of life:"
   ]
  },
  {
   "cell_type": "code",
   "execution_count": null,
   "metadata": {},
   "outputs": [],
   "source": [
    "import sys, json, codecs, csv\n",
    "import numpy as np\n",
    "import random\n",
    "import pandas as pd\n",
    "import tqdm\n",
    "import itertools\n",
    "import seaborn as sns\n",
    "\n",
    "# visualization\n",
    "import matplotlib\n",
    "import numpy as np\n",
    "import matplotlib.pyplot as plt\n",
    "%matplotlib inline  "
   ]
  },
  {
   "cell_type": "code",
   "execution_count": null,
   "metadata": {},
   "outputs": [],
   "source": [
    "from keras.layers import Dense, Activation\n",
    "from keras.layers import LSTM, GRU, Dropout, BatchNormalization\n",
    "from keras.layers import Input, Dense, Embedding\n",
    "from keras.models import Sequential\n",
    "from keras.optimizers import RMSprop, Adam\n",
    "\n",
    "# word2vec\n",
    "from gensim.models import word2vec"
   ]
  },
  {
   "cell_type": "code",
   "execution_count": null,
   "metadata": {},
   "outputs": [],
   "source": [
    "with codecs.open('../data/edimdoma_dataset.csv', 'r') as f:\n",
    "    reader = csv.reader(f)\n",
    "\n",
    "    names = []\n",
    "    descriptions = []\n",
    "    categories = []\n",
    "    instructions = []\n",
    "    cookTimes = []\n",
    "    for line_id, line in enumerate(reader):\n",
    "        if line_id == 0:\n",
    "            continue\n",
    "        doc = line[2]\n",
    "        recipe_info = json.loads(doc)\n",
    "\n",
    "        cookTime = -1\n",
    "        if 'cookTime' in recipe_info:\n",
    "            cookTime = recipe_info['cookTime']\n",
    "            if cookTime.startswith('PT'):\n",
    "                cookTime = cookTime[2:]\n",
    "            if cookTime.endswith('H'):\n",
    "                cookTime = cookTime[:-1]\n",
    "            if cookTime.isdigit():\n",
    "                cookTime = int(cookTime)\n",
    "                \n",
    "        if not 'recipeCategory' in recipe_info:\n",
    "            continue\n",
    "        category = recipe_info['recipeCategory'].strip() if 'recipeCategory' in recipe_info else 'NONE'\n",
    "        cuisine = recipe_info['recipeCuisine'].strip() if 'recipeCuisine' in recipe_info else 'NONE'\n",
    "        name = recipe_info['name'].strip()\n",
    "        description = recipe_info['description'].strip()\n",
    "        recipeIngredient = recipe_info['recipeIngredient']\n",
    "        recipeInstructions = [x.strip() for x in recipe_info['recipeInstructions'] if not x == None]\n",
    "\n",
    "        names.append(name)\n",
    "        descriptions.append(description)\n",
    "        categories.append(category)\n",
    "        instructions.append(' '.join(recipeInstructions))\n",
    "        cookTimes.append(cookTime)"
   ]
  },
  {
   "cell_type": "code",
   "execution_count": null,
   "metadata": {},
   "outputs": [],
   "source": [
    "print(\"number of texts: {}\".format(len(instructions)))"
   ]
  },
  {
   "cell_type": "markdown",
   "metadata": {},
   "source": [
    "Let's review one element of our our dataset:"
   ]
  },
  {
   "cell_type": "code",
   "execution_count": null,
   "metadata": {},
   "outputs": [],
   "source": [
    "print(\"Name:\")\n",
    "print(names[0])\n",
    "print(\"---------------------------------\")\n",
    "print(\"Description:\")\n",
    "print(descriptions[0])\n",
    "print(\"---------------------------------\")\n",
    "print(\"Category:\")\n",
    "print(categories[0])\n",
    "print(\"---------------------------------\")\n",
    "print(\"Instruction:\")\n",
    "print(instructions[0])"
   ]
  },
  {
   "cell_type": "markdown",
   "metadata": {},
   "source": [
    "# Generation of new recipes with deep learning!"
   ]
  },
  {
   "cell_type": "markdown",
   "metadata": {},
   "source": [
    "![img](http://vsekidki.ru/uploads/posts/2017-03/1490096075_uffu7xomszo.jpg)"
   ]
  },
  {
   "cell_type": "markdown",
   "metadata": {},
   "source": [
    "Let's prepare text for training and vocabulary:"
   ]
  },
  {
   "cell_type": "code",
   "execution_count": null,
   "metadata": {},
   "outputs": [],
   "source": [
    "text = \"\".join(instructions)[:300000]\n",
    "chars = sorted(list(set(text)))\n",
    "print('total chars:', len(chars))\n",
    "\n",
    "char2id = dict((c, i) for i, c in enumerate(chars))"
   ]
  },
  {
   "cell_type": "markdown",
   "metadata": {},
   "source": [
    "create the model:"
   ]
  },
  {
   "cell_type": "code",
   "execution_count": null,
   "metadata": {},
   "outputs": [],
   "source": [
    "print('Build model...')\n",
    "model = Sequential()\n",
    "<your code here>\n",
    "model.add(Dense(len(chars)))\n",
    "model.add(Activation('softmax'))\n",
    "optimizer = RMSprop(lr=0.01)\n",
    "model.compile(loss='categorical_crossentropy', optimizer=optimizer)"
   ]
  },
  {
   "cell_type": "code",
   "execution_count": null,
   "metadata": {},
   "outputs": [],
   "source": [
    "seq_size = 40"
   ]
  },
  {
   "cell_type": "markdown",
   "metadata": {},
   "source": [
    "here we generate our batches:"
   ]
  },
  {
   "cell_type": "code",
   "execution_count": null,
   "metadata": {},
   "outputs": [],
   "source": [
    "def get_batches(batch_count=128, batch_size=64):\n",
    "    batch_x = np.zeros((batch_size, seq_size))\n",
    "    batch_y = np.zeros((batch_size, len(chars)))\n",
    "    for bi in range(batch_count):\n",
    "        for seq_index in range(batch_size):\n",
    "            pos = random.randint(0, len(text) - seq_size - 10)\n",
    "            sequence = text[pos:pos+seq_size]\n",
    "            next_char = text[pos+seq_size]\n",
    "            for i in range(seq_size):\n",
    "                batch_x[seq_index,i] = <initialize with character ids>\n",
    "            batch_y[seq_index, :] = 0\n",
    "            batch_y[seq_index, char2id[next_char]] = 1\n",
    "        yield batch_x, batch_y"
   ]
  },
  {
   "cell_type": "markdown",
   "metadata": {},
   "source": [
    "sampling of next character under particular temperature:"
   ]
  },
  {
   "cell_type": "code",
   "execution_count": null,
   "metadata": {},
   "outputs": [],
   "source": [
    "def sample_character(preds, temperature=1.0):\n",
    "    preds = np.asarray(preds).astype('float64')\n",
    "    preds = np.log(preds) / temperature\n",
    "    exp_preds = np.exp(preds)\n",
    "    preds = exp_preds / np.sum(exp_preds)\n",
    "    probas = np.random.multinomial(1, preds, 1)\n",
    "    return np.argmax(probas)"
   ]
  },
  {
   "cell_type": "markdown",
   "metadata": {},
   "source": [
    "Here we're training our model:"
   ]
  },
  {
   "cell_type": "code",
   "execution_count": null,
   "metadata": {},
   "outputs": [],
   "source": [
    "for epoch in range(100):\n",
    "    print(\"epoch: {}\".format(epoch))\n",
    "    losses = []\n",
    "    for batch_x, batch_y in get_batches():\n",
    "        loss = model.train_on_batch(batch_x, batch_y)\n",
    "        losses.append(loss)\n",
    "    print(\"train_loss: {}\".format(np.mean(losses)))\n",
    "    \n",
    "    if epoch > 40:\n",
    "        max_gen_count = 500\n",
    "        index = random.randint(0, len(text) - 100)\n",
    "        for t in [0.1, 0.4, 0.7, 1]:\n",
    "            print(\"t={}\".format(t))\n",
    "\n",
    "            sentence = text[index: index + seq_size]\n",
    "            generated = sentence\n",
    "\n",
    "            for step in range(max_gen_count):\n",
    "                batch = np.zeros((1, seq_size,))\n",
    "                for i in range(seq_size):\n",
    "                    batch[0,i] = char2id[sentence[i]]\n",
    "                id = sample_character(model.predict_on_batch(batch)[0], t)\n",
    "                generated += chars[id]\n",
    "                sentence = sentence[1:] + chars[id]\n",
    "            print(generated)"
   ]
  },
  {
   "cell_type": "markdown",
   "metadata": {},
   "source": [
    "# Homework"
   ]
  },
  {
   "cell_type": "markdown",
   "metadata": {},
   "source": [
    "1. **3 points**: try to make the model significantly better. You can add any crazy stuff and tune any hyperparameters which come to mind (e.g sequence size, change number of gru/lstm layers etc).\n",
    "3. **7 points**: solve problem with word'based approach. Try to gain good looking generated texts."
   ]
  },
  {
   "cell_type": "code",
   "execution_count": null,
   "metadata": {},
   "outputs": [],
   "source": []
  }
 ],
 "metadata": {
  "kernelspec": {
   "display_name": "Python 3",
   "language": "python",
   "name": "python3"
  },
  "language_info": {
   "codemirror_mode": {
    "name": "ipython",
    "version": 3
   },
   "file_extension": ".py",
   "mimetype": "text/x-python",
   "name": "python",
   "nbconvert_exporter": "python",
   "pygments_lexer": "ipython3",
   "version": "3.6.8"
  }
 },
 "nbformat": 4,
 "nbformat_minor": 2
}
